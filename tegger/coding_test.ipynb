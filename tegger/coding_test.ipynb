{
 "cells": [
  {
   "cell_type": "code",
   "execution_count": 109,
   "metadata": {
    "colab": {
     "base_uri": "https://localhost:8080/",
     "height": 17,
     "output_embedded_package_id": "1oaK3vR2dDKMDGKPsAAVrG-S9PTbg1meG"
    },
    "executionInfo": {
     "elapsed": 2649,
     "status": "ok",
     "timestamp": 1628405957783,
     "user": {
      "displayName": "Kuber Shahi",
      "photoUrl": "",
      "userId": "04157404054756166055"
     },
     "user_tz": -345
    },
    "id": "Thp-LfZtEUoK",
    "outputId": "675a6450-1a23-4099-ed0c-57d2470614c6"
   },
   "outputs": [
    {
     "data": {
      "text/plain": [
       "Output hidden; open in https://colab.research.google.com to view."
      ]
     },
     "metadata": {},
     "output_type": "display_data"
    }
   ],
   "source": [
    "import os\n",
    "import pandas as pd\n",
    "\n",
    "import plotly.express as px\n",
    "import plotly.offline as pyo\n",
    "\n",
    "pyo.init_notebook_mode()"
   ]
  },
  {
   "cell_type": "markdown",
   "metadata": {
    "id": "hZEAMUxZE9bt"
   },
   "source": [
    "### Importing Dataset"
   ]
  },
  {
   "cell_type": "code",
   "execution_count": 110,
   "metadata": {
    "colab": {
     "base_uri": "https://localhost:8080/"
    },
    "executionInfo": {
     "elapsed": 613,
     "status": "ok",
     "timestamp": 1628405959896,
     "user": {
      "displayName": "Kuber Shahi",
      "photoUrl": "",
      "userId": "04157404054756166055"
     },
     "user_tz": -345
    },
    "id": "Q0qvhi41ExzT",
    "outputId": "65918d13-58e8-479e-995e-15cfbf0c8b41"
   },
   "outputs": [
    {
     "name": "stdout",
     "output_type": "stream",
     "text": [
      "Drive already mounted at /content/drive; to attempt to forcibly remount, call drive.mount(\"/content/drive\", force_remount=True).\n"
     ]
    }
   ],
   "source": [
    "from google.colab import drive \n",
    "drive.mount('/content/drive')"
   ]
  },
  {
   "cell_type": "code",
   "execution_count": 111,
   "metadata": {
    "executionInfo": {
     "elapsed": 1002,
     "status": "ok",
     "timestamp": 1628405963054,
     "user": {
      "displayName": "Kuber Shahi",
      "photoUrl": "",
      "userId": "04157404054756166055"
     },
     "user_tz": -345
    },
    "id": "vePrz7C6FXEx"
   },
   "outputs": [],
   "source": [
    "users_data = pd.read_csv('/content/drive/My Drive/Colab Notebooks/Tegger/users_data.csv')\n",
    "snowplow_data = pd.read_csv('/content/drive/My Drive/Colab Notebooks/Tegger/snowplow_data.csv')"
   ]
  },
  {
   "cell_type": "code",
   "execution_count": 112,
   "metadata": {
    "colab": {
     "base_uri": "https://localhost:8080/"
    },
    "executionInfo": {
     "elapsed": 5,
     "status": "ok",
     "timestamp": 1628405964678,
     "user": {
      "displayName": "Kuber Shahi",
      "photoUrl": "",
      "userId": "04157404054756166055"
     },
     "user_tz": -345
    },
    "id": "s_PonQ0AFX8h",
    "outputId": "5d4e23bc-96ec-418f-9a9b-0addd7a2ca33"
   },
   "outputs": [
    {
     "name": "stdout",
     "output_type": "stream",
     "text": [
      "(3764, 15)\n",
      "(23465, 51)\n"
     ]
    }
   ],
   "source": [
    "print(users_data.shape)\n",
    "print(snowplow_data.shape)"
   ]
  },
  {
   "cell_type": "markdown",
   "metadata": {
    "id": "nntkJsbAWp-2"
   },
   "source": [
    "### Understanding Dataset"
   ]
  },
  {
   "cell_type": "code",
   "execution_count": 113,
   "metadata": {
    "colab": {
     "base_uri": "https://localhost:8080/",
     "height": 330
    },
    "executionInfo": {
     "elapsed": 474,
     "status": "ok",
     "timestamp": 1628405966859,
     "user": {
      "displayName": "Kuber Shahi",
      "photoUrl": "",
      "userId": "04157404054756166055"
     },
     "user_tz": -345
    },
    "id": "zCkTLiJLHP5g",
    "outputId": "482b0ea8-d8e8-4d88-9ae2-36d57d151948"
   },
   "outputs": [
    {
     "data": {
      "text/html": [
       "<div>\n",
       "<style scoped>\n",
       "    .dataframe tbody tr th:only-of-type {\n",
       "        vertical-align: middle;\n",
       "    }\n",
       "\n",
       "    .dataframe tbody tr th {\n",
       "        vertical-align: top;\n",
       "    }\n",
       "\n",
       "    .dataframe thead th {\n",
       "        text-align: right;\n",
       "    }\n",
       "</style>\n",
       "<table border=\"1\" class=\"dataframe\">\n",
       "  <thead>\n",
       "    <tr style=\"text-align: right;\">\n",
       "      <th></th>\n",
       "      <th>Unnamed: 0</th>\n",
       "      <th>user_id</th>\n",
       "      <th>snowplow_pseudo_id</th>\n",
       "      <th>AGEB_key</th>\n",
       "      <th>user_first_visit</th>\n",
       "      <th>traffic_source</th>\n",
       "      <th>device_category</th>\n",
       "      <th>browser</th>\n",
       "      <th>mobile_brand</th>\n",
       "      <th>model_name</th>\n",
       "      <th>country</th>\n",
       "      <th>total_session_duration</th>\n",
       "      <th>total_events</th>\n",
       "      <th>total_page_views</th>\n",
       "      <th>engagement_time_minutes</th>\n",
       "    </tr>\n",
       "  </thead>\n",
       "  <tbody>\n",
       "    <tr>\n",
       "      <th>0</th>\n",
       "      <td>0</td>\n",
       "      <td>e3eabd43-23f3-4781-90ee-5a67e781e7e2</td>\n",
       "      <td>1364061063.1617121653</td>\n",
       "      <td>NaN</td>\n",
       "      <td>2021-03-30</td>\n",
       "      <td>(direct)</td>\n",
       "      <td>desktop</td>\n",
       "      <td>Chrome</td>\n",
       "      <td>Google</td>\n",
       "      <td>Chrome</td>\n",
       "      <td>Colombia</td>\n",
       "      <td>2019</td>\n",
       "      <td>12</td>\n",
       "      <td>4</td>\n",
       "      <td>2.42</td>\n",
       "    </tr>\n",
       "    <tr>\n",
       "      <th>1</th>\n",
       "      <td>1</td>\n",
       "      <td>e4ccc0ac-71b1-4d7c-b697-f9f76f1084d0</td>\n",
       "      <td>1645287458.1617116080</td>\n",
       "      <td>NaN</td>\n",
       "      <td>2021-03-30</td>\n",
       "      <td>m.facebook.com</td>\n",
       "      <td>mobile</td>\n",
       "      <td>Chrome</td>\n",
       "      <td>Samsung</td>\n",
       "      <td>SM-J710MN</td>\n",
       "      <td>Peru</td>\n",
       "      <td>467</td>\n",
       "      <td>11</td>\n",
       "      <td>4</td>\n",
       "      <td>2.00</td>\n",
       "    </tr>\n",
       "    <tr>\n",
       "      <th>2</th>\n",
       "      <td>2</td>\n",
       "      <td>815ef036-f1ee-486e-85a2-facf11df24a1</td>\n",
       "      <td>2096996404.1617125813</td>\n",
       "      <td>NaN</td>\n",
       "      <td>2021-03-30</td>\n",
       "      <td>google</td>\n",
       "      <td>mobile</td>\n",
       "      <td>Chrome</td>\n",
       "      <td>Xiaomi</td>\n",
       "      <td>Redmi 7A</td>\n",
       "      <td>Russia</td>\n",
       "      <td>540</td>\n",
       "      <td>11</td>\n",
       "      <td>2</td>\n",
       "      <td>1.89</td>\n",
       "    </tr>\n",
       "    <tr>\n",
       "      <th>3</th>\n",
       "      <td>3</td>\n",
       "      <td>c86127fb-bc84-488a-b961-2abc5213f6fd</td>\n",
       "      <td>575100521.1617133751</td>\n",
       "      <td>NaN</td>\n",
       "      <td>2021-03-30</td>\n",
       "      <td>m.facebook.com</td>\n",
       "      <td>mobile</td>\n",
       "      <td>Android Webview</td>\n",
       "      <td>Samsung</td>\n",
       "      <td>SM-G900H</td>\n",
       "      <td>Ecuador</td>\n",
       "      <td>161</td>\n",
       "      <td>7</td>\n",
       "      <td>2</td>\n",
       "      <td>1.38</td>\n",
       "    </tr>\n",
       "    <tr>\n",
       "      <th>4</th>\n",
       "      <td>4</td>\n",
       "      <td>1c101e61-f3cc-4d77-8803-e27aa80f2a59</td>\n",
       "      <td>804160641.1617114854</td>\n",
       "      <td>NaN</td>\n",
       "      <td>NaN</td>\n",
       "      <td>tegger.io</td>\n",
       "      <td>desktop</td>\n",
       "      <td>Chrome</td>\n",
       "      <td>Google</td>\n",
       "      <td>Chrome</td>\n",
       "      <td>Netherlands</td>\n",
       "      <td>81</td>\n",
       "      <td>13</td>\n",
       "      <td>3</td>\n",
       "      <td>0.47</td>\n",
       "    </tr>\n",
       "  </tbody>\n",
       "</table>\n",
       "</div>"
      ],
      "text/plain": [
       "   Unnamed: 0  ... engagement_time_minutes\n",
       "0           0  ...                    2.42\n",
       "1           1  ...                    2.00\n",
       "2           2  ...                    1.89\n",
       "3           3  ...                    1.38\n",
       "4           4  ...                    0.47\n",
       "\n",
       "[5 rows x 15 columns]"
      ]
     },
     "execution_count": 113,
     "metadata": {
      "tags": []
     },
     "output_type": "execute_result"
    }
   ],
   "source": [
    "users_data.head(5)"
   ]
  },
  {
   "cell_type": "code",
   "execution_count": 114,
   "metadata": {
    "colab": {
     "base_uri": "https://localhost:8080/"
    },
    "executionInfo": {
     "elapsed": 395,
     "status": "ok",
     "timestamp": 1628405972585,
     "user": {
      "displayName": "Kuber Shahi",
      "photoUrl": "",
      "userId": "04157404054756166055"
     },
     "user_tz": -345
    },
    "id": "hBMD8Idjg2q2",
    "outputId": "99f45fe1-0c3f-45e6-bf6e-2b04fee9aebe"
   },
   "outputs": [
    {
     "data": {
      "text/plain": [
       "Unnamed: 0                   int64\n",
       "user_id                     object\n",
       "snowplow_pseudo_id          object\n",
       "AGEB_key                    object\n",
       "user_first_visit            object\n",
       "traffic_source              object\n",
       "device_category             object\n",
       "browser                     object\n",
       "mobile_brand                object\n",
       "model_name                  object\n",
       "country                     object\n",
       "total_session_duration       int64\n",
       "total_events                 int64\n",
       "total_page_views             int64\n",
       "engagement_time_minutes    float64\n",
       "dtype: object"
      ]
     },
     "execution_count": 114,
     "metadata": {
      "tags": []
     },
     "output_type": "execute_result"
    }
   ],
   "source": [
    "users_data.dtypes"
   ]
  },
  {
   "cell_type": "code",
   "execution_count": 115,
   "metadata": {
    "colab": {
     "base_uri": "https://localhost:8080/",
     "height": 574
    },
    "executionInfo": {
     "elapsed": 373,
     "status": "ok",
     "timestamp": 1628405975116,
     "user": {
      "displayName": "Kuber Shahi",
      "photoUrl": "",
      "userId": "04157404054756166055"
     },
     "user_tz": -345
    },
    "id": "7PaQM9EBFa53",
    "outputId": "027b060f-bb1b-4adb-99e1-db410755abad"
   },
   "outputs": [
    {
     "data": {
      "text/html": [
       "<div>\n",
       "<style scoped>\n",
       "    .dataframe tbody tr th:only-of-type {\n",
       "        vertical-align: middle;\n",
       "    }\n",
       "\n",
       "    .dataframe tbody tr th {\n",
       "        vertical-align: top;\n",
       "    }\n",
       "\n",
       "    .dataframe thead th {\n",
       "        text-align: right;\n",
       "    }\n",
       "</style>\n",
       "<table border=\"1\" class=\"dataframe\">\n",
       "  <thead>\n",
       "    <tr style=\"text-align: right;\">\n",
       "      <th></th>\n",
       "      <th>Unnamed: 0</th>\n",
       "      <th>altitude</th>\n",
       "      <th>altitudeAccuracy</th>\n",
       "      <th>bearing</th>\n",
       "      <th>br_colordepth</th>\n",
       "      <th>br_family</th>\n",
       "      <th>br_lang</th>\n",
       "      <th>br_name</th>\n",
       "      <th>br_type</th>\n",
       "      <th>br_viewheight</th>\n",
       "      <th>br_viewwidth</th>\n",
       "      <th>derived_tstamp</th>\n",
       "      <th>derived_tstamp_local</th>\n",
       "      <th>doc_height</th>\n",
       "      <th>doc_width</th>\n",
       "      <th>domain_sessionid</th>\n",
       "      <th>domain_userid</th>\n",
       "      <th>dvce_ismobile</th>\n",
       "      <th>dvce_screenheight</th>\n",
       "      <th>dvce_screenwidth</th>\n",
       "      <th>dvce_type</th>\n",
       "      <th>event_id</th>\n",
       "      <th>event_name</th>\n",
       "      <th>geo_city</th>\n",
       "      <th>geo_country</th>\n",
       "      <th>geo_latitude</th>\n",
       "      <th>geo_longitude</th>\n",
       "      <th>geo_region</th>\n",
       "      <th>geo_region_name</th>\n",
       "      <th>geo_timezone</th>\n",
       "      <th>geo_zipcode</th>\n",
       "      <th>latitudeLongitudeAccuracy</th>\n",
       "      <th>network_userid</th>\n",
       "      <th>osVersion</th>\n",
       "      <th>os_family</th>\n",
       "      <th>os_manufacturer</th>\n",
       "      <th>os_name</th>\n",
       "      <th>page_referrer</th>\n",
       "      <th>page_title</th>\n",
       "      <th>page_url</th>\n",
       "      <th>page_urlpath</th>\n",
       "      <th>pp_max</th>\n",
       "      <th>pp_may</th>\n",
       "      <th>pp_mix</th>\n",
       "      <th>pp_miy</th>\n",
       "      <th>speed</th>\n",
       "      <th>targetUrl</th>\n",
       "      <th>unique_id</th>\n",
       "      <th>user_fingerprint</th>\n",
       "      <th>user_id</th>\n",
       "      <th>pseudo_user_id</th>\n",
       "    </tr>\n",
       "  </thead>\n",
       "  <tbody>\n",
       "    <tr>\n",
       "      <th>0</th>\n",
       "      <td>0</td>\n",
       "      <td>NaN</td>\n",
       "      <td>NaN</td>\n",
       "      <td>NaN</td>\n",
       "      <td>24</td>\n",
       "      <td>Unknown</td>\n",
       "      <td>es-419</td>\n",
       "      <td>Unknown</td>\n",
       "      <td>unknown</td>\n",
       "      <td>753</td>\n",
       "      <td>364</td>\n",
       "      <td>2021-04-15 01:47:28.121</td>\n",
       "      <td>2021-04-14 20:47:28.121</td>\n",
       "      <td>7007</td>\n",
       "      <td>364</td>\n",
       "      <td>1a697c89-1590-49b2-be55-97422246c89a</td>\n",
       "      <td>9466ea61-aa91-46f0-a610-271d712da8fa</td>\n",
       "      <td>0</td>\n",
       "      <td>780</td>\n",
       "      <td>360</td>\n",
       "      <td>Unknown</td>\n",
       "      <td>6fc1bb2b-c4aa-4b16-b061-dc1dea849abf</td>\n",
       "      <td>page_ping</td>\n",
       "      <td>Mexico City</td>\n",
       "      <td>MX</td>\n",
       "      <td>19.3455</td>\n",
       "      <td>-99.1326</td>\n",
       "      <td>CMX</td>\n",
       "      <td>Mexico City</td>\n",
       "      <td>America/Mexico_City</td>\n",
       "      <td>04260</td>\n",
       "      <td>NaN</td>\n",
       "      <td>5229458e-ba53-483b-a7a0-4d9e1943bce9</td>\n",
       "      <td>Other</td>\n",
       "      <td>Unknown</td>\n",
       "      <td>Other</td>\n",
       "      <td>Unknown</td>\n",
       "      <td>https://t.co/</td>\n",
       "      <td>Prueba de Draize, experimento en Save Ralph - ...</td>\n",
       "      <td>https://culturacolectiva.com/estilo-de-vida/pr...</td>\n",
       "      <td>/estilo-de-vida/prueba-de-draize-experimento-e...</td>\n",
       "      <td>0.0</td>\n",
       "      <td>2872.0</td>\n",
       "      <td>0.0</td>\n",
       "      <td>2320.0</td>\n",
       "      <td>NaN</td>\n",
       "      <td>NaN</td>\n",
       "      <td>E1RCZkfEkX7wwQq6QbLW</td>\n",
       "      <td>3198786281</td>\n",
       "      <td>4888686b-3d8e-4baf-82c1-c2ba0faffa62</td>\n",
       "      <td>1.890160e+08</td>\n",
       "    </tr>\n",
       "    <tr>\n",
       "      <th>1</th>\n",
       "      <td>1</td>\n",
       "      <td>NaN</td>\n",
       "      <td>NaN</td>\n",
       "      <td>NaN</td>\n",
       "      <td>24</td>\n",
       "      <td>Unknown</td>\n",
       "      <td>es-419</td>\n",
       "      <td>Unknown</td>\n",
       "      <td>unknown</td>\n",
       "      <td>753</td>\n",
       "      <td>364</td>\n",
       "      <td>2021-04-15 01:47:33.142</td>\n",
       "      <td>2021-04-14 20:47:33.142</td>\n",
       "      <td>7302</td>\n",
       "      <td>364</td>\n",
       "      <td>1a697c89-1590-49b2-be55-97422246c89a</td>\n",
       "      <td>9466ea61-aa91-46f0-a610-271d712da8fa</td>\n",
       "      <td>0</td>\n",
       "      <td>780</td>\n",
       "      <td>360</td>\n",
       "      <td>Unknown</td>\n",
       "      <td>4912d493-f2ce-4f73-b5db-5ba0211ccf78</td>\n",
       "      <td>page_ping</td>\n",
       "      <td>Mexico City</td>\n",
       "      <td>MX</td>\n",
       "      <td>19.3455</td>\n",
       "      <td>-99.1326</td>\n",
       "      <td>CMX</td>\n",
       "      <td>Mexico City</td>\n",
       "      <td>America/Mexico_City</td>\n",
       "      <td>04260</td>\n",
       "      <td>NaN</td>\n",
       "      <td>ebe04960-310e-416c-a909-4b0ce7ba0a70</td>\n",
       "      <td>Other</td>\n",
       "      <td>Unknown</td>\n",
       "      <td>Other</td>\n",
       "      <td>Unknown</td>\n",
       "      <td>https://t.co/</td>\n",
       "      <td>Prueba de Draize, experimento en Save Ralph - ...</td>\n",
       "      <td>https://culturacolectiva.com/estilo-de-vida/pr...</td>\n",
       "      <td>/estilo-de-vida/prueba-de-draize-experimento-e...</td>\n",
       "      <td>0.0</td>\n",
       "      <td>4011.0</td>\n",
       "      <td>0.0</td>\n",
       "      <td>3451.0</td>\n",
       "      <td>NaN</td>\n",
       "      <td>NaN</td>\n",
       "      <td>LCigDHOvGWg3JUiQmjox</td>\n",
       "      <td>3198786281</td>\n",
       "      <td>4888686b-3d8e-4baf-82c1-c2ba0faffa62</td>\n",
       "      <td>1.890160e+08</td>\n",
       "    </tr>\n",
       "    <tr>\n",
       "      <th>2</th>\n",
       "      <td>2</td>\n",
       "      <td>NaN</td>\n",
       "      <td>NaN</td>\n",
       "      <td>NaN</td>\n",
       "      <td>24</td>\n",
       "      <td>Unknown</td>\n",
       "      <td>es-419</td>\n",
       "      <td>Unknown</td>\n",
       "      <td>unknown</td>\n",
       "      <td>753</td>\n",
       "      <td>364</td>\n",
       "      <td>2021-04-15 01:47:24.117</td>\n",
       "      <td>2021-04-14 20:47:24.117</td>\n",
       "      <td>6988</td>\n",
       "      <td>364</td>\n",
       "      <td>1a697c89-1590-49b2-be55-97422246c89a</td>\n",
       "      <td>9466ea61-aa91-46f0-a610-271d712da8fa</td>\n",
       "      <td>0</td>\n",
       "      <td>780</td>\n",
       "      <td>360</td>\n",
       "      <td>Unknown</td>\n",
       "      <td>ad8dd144-092b-4957-bd9c-f580d6a61e16</td>\n",
       "      <td>page_ping</td>\n",
       "      <td>Mexico City</td>\n",
       "      <td>MX</td>\n",
       "      <td>19.3455</td>\n",
       "      <td>-99.1326</td>\n",
       "      <td>CMX</td>\n",
       "      <td>Mexico City</td>\n",
       "      <td>America/Mexico_City</td>\n",
       "      <td>04260</td>\n",
       "      <td>NaN</td>\n",
       "      <td>e6c99964-e37c-471f-88e1-d5abe8ae5c40</td>\n",
       "      <td>Other</td>\n",
       "      <td>Unknown</td>\n",
       "      <td>Other</td>\n",
       "      <td>Unknown</td>\n",
       "      <td>https://t.co/</td>\n",
       "      <td>Prueba de Draize, experimento en Save Ralph - ...</td>\n",
       "      <td>https://culturacolectiva.com/estilo-de-vida/pr...</td>\n",
       "      <td>/estilo-de-vida/prueba-de-draize-experimento-e...</td>\n",
       "      <td>0.0</td>\n",
       "      <td>1953.0</td>\n",
       "      <td>0.0</td>\n",
       "      <td>1941.0</td>\n",
       "      <td>NaN</td>\n",
       "      <td>NaN</td>\n",
       "      <td>DWIcGw2vEUS2BAHF0MZr</td>\n",
       "      <td>3198786281</td>\n",
       "      <td>4888686b-3d8e-4baf-82c1-c2ba0faffa62</td>\n",
       "      <td>1.890160e+08</td>\n",
       "    </tr>\n",
       "    <tr>\n",
       "      <th>3</th>\n",
       "      <td>3</td>\n",
       "      <td>NaN</td>\n",
       "      <td>NaN</td>\n",
       "      <td>NaN</td>\n",
       "      <td>24</td>\n",
       "      <td>Unknown</td>\n",
       "      <td>ko</td>\n",
       "      <td>Unknown</td>\n",
       "      <td>unknown</td>\n",
       "      <td>969</td>\n",
       "      <td>1920</td>\n",
       "      <td>2021-04-15 01:28:40.430</td>\n",
       "      <td>2021-04-15 10:28:40.430</td>\n",
       "      <td>5119</td>\n",
       "      <td>1903</td>\n",
       "      <td>115c4d02-ce53-4d42-8c38-10cc8f1a6c6b</td>\n",
       "      <td>9ddc4239-04ed-4ce6-8029-630a1d4f9ed0</td>\n",
       "      <td>0</td>\n",
       "      <td>1080</td>\n",
       "      <td>1920</td>\n",
       "      <td>Unknown</td>\n",
       "      <td>60daf76e-c1eb-47d4-8037-2e75f44ea101</td>\n",
       "      <td>page_ping</td>\n",
       "      <td>NaN</td>\n",
       "      <td>KR</td>\n",
       "      <td>37.5112</td>\n",
       "      <td>126.9741</td>\n",
       "      <td>NaN</td>\n",
       "      <td>NaN</td>\n",
       "      <td>Asia/Seoul</td>\n",
       "      <td>NaN</td>\n",
       "      <td>NaN</td>\n",
       "      <td>704b1b6f-5427-4f78-b0fd-54aecb695277</td>\n",
       "      <td>Other</td>\n",
       "      <td>Unknown</td>\n",
       "      <td>Other</td>\n",
       "      <td>Unknown</td>\n",
       "      <td>https://news.culturacolectiva.com/</td>\n",
       "      <td>Un sitio de noticias que inspiran | CC News</td>\n",
       "      <td>https://news.culturacolectiva.com/</td>\n",
       "      <td>/</td>\n",
       "      <td>0.0</td>\n",
       "      <td>0.0</td>\n",
       "      <td>0.0</td>\n",
       "      <td>0.0</td>\n",
       "      <td>NaN</td>\n",
       "      <td>NaN</td>\n",
       "      <td>wssRvnBwMABawapJcxXJ</td>\n",
       "      <td>2955001579</td>\n",
       "      <td>b15477c0-41cc-483c-9e3c-4a439ce2df34</td>\n",
       "      <td>3.148460e+08</td>\n",
       "    </tr>\n",
       "    <tr>\n",
       "      <th>4</th>\n",
       "      <td>4</td>\n",
       "      <td>NaN</td>\n",
       "      <td>NaN</td>\n",
       "      <td>NaN</td>\n",
       "      <td>24</td>\n",
       "      <td>Unknown</td>\n",
       "      <td>es-419</td>\n",
       "      <td>Unknown</td>\n",
       "      <td>unknown</td>\n",
       "      <td>753</td>\n",
       "      <td>364</td>\n",
       "      <td>2021-04-15 01:47:31.123</td>\n",
       "      <td>2021-04-14 20:47:31.123</td>\n",
       "      <td>7007</td>\n",
       "      <td>364</td>\n",
       "      <td>1a697c89-1590-49b2-be55-97422246c89a</td>\n",
       "      <td>9466ea61-aa91-46f0-a610-271d712da8fa</td>\n",
       "      <td>0</td>\n",
       "      <td>780</td>\n",
       "      <td>360</td>\n",
       "      <td>Unknown</td>\n",
       "      <td>df3039da-e102-4971-9769-7b76b2ac4bee</td>\n",
       "      <td>page_ping</td>\n",
       "      <td>Mexico City</td>\n",
       "      <td>MX</td>\n",
       "      <td>19.3455</td>\n",
       "      <td>-99.1326</td>\n",
       "      <td>CMX</td>\n",
       "      <td>Mexico City</td>\n",
       "      <td>America/Mexico_City</td>\n",
       "      <td>04260</td>\n",
       "      <td>NaN</td>\n",
       "      <td>a38dd5dd-e26d-4c07-87b0-33cd851ece6e</td>\n",
       "      <td>Other</td>\n",
       "      <td>Unknown</td>\n",
       "      <td>Other</td>\n",
       "      <td>Unknown</td>\n",
       "      <td>https://t.co/</td>\n",
       "      <td>Prueba de Draize, experimento en Save Ralph - ...</td>\n",
       "      <td>https://culturacolectiva.com/estilo-de-vida/pr...</td>\n",
       "      <td>/estilo-de-vida/prueba-de-draize-experimento-e...</td>\n",
       "      <td>0.0</td>\n",
       "      <td>3060.0</td>\n",
       "      <td>0.0</td>\n",
       "      <td>2872.0</td>\n",
       "      <td>NaN</td>\n",
       "      <td>NaN</td>\n",
       "      <td>gRLDeoXOb30dBKE8EWPs</td>\n",
       "      <td>3198786281</td>\n",
       "      <td>4888686b-3d8e-4baf-82c1-c2ba0faffa62</td>\n",
       "      <td>1.890160e+08</td>\n",
       "    </tr>\n",
       "  </tbody>\n",
       "</table>\n",
       "</div>"
      ],
      "text/plain": [
       "   Unnamed: 0  altitude  ...                               user_id  pseudo_user_id\n",
       "0           0       NaN  ...  4888686b-3d8e-4baf-82c1-c2ba0faffa62    1.890160e+08\n",
       "1           1       NaN  ...  4888686b-3d8e-4baf-82c1-c2ba0faffa62    1.890160e+08\n",
       "2           2       NaN  ...  4888686b-3d8e-4baf-82c1-c2ba0faffa62    1.890160e+08\n",
       "3           3       NaN  ...  b15477c0-41cc-483c-9e3c-4a439ce2df34    3.148460e+08\n",
       "4           4       NaN  ...  4888686b-3d8e-4baf-82c1-c2ba0faffa62    1.890160e+08\n",
       "\n",
       "[5 rows x 51 columns]"
      ]
     },
     "execution_count": 115,
     "metadata": {
      "tags": []
     },
     "output_type": "execute_result"
    }
   ],
   "source": [
    "snowplow_data.head(5)"
   ]
  },
  {
   "cell_type": "code",
   "execution_count": 116,
   "metadata": {
    "colab": {
     "base_uri": "https://localhost:8080/"
    },
    "executionInfo": {
     "elapsed": 460,
     "status": "ok",
     "timestamp": 1628405978493,
     "user": {
      "displayName": "Kuber Shahi",
      "photoUrl": "",
      "userId": "04157404054756166055"
     },
     "user_tz": -345
    },
    "id": "NoVuAW5thDRI",
    "outputId": "079521cb-726f-4b6b-e5f4-6be6947d2749"
   },
   "outputs": [
    {
     "data": {
      "text/plain": [
       "Unnamed: 0                     int64\n",
       "altitude                     float64\n",
       "altitudeAccuracy             float64\n",
       "bearing                      float64\n",
       "br_colordepth                  int64\n",
       "br_family                     object\n",
       "br_lang                       object\n",
       "br_name                       object\n",
       "br_type                       object\n",
       "br_viewheight                  int64\n",
       "br_viewwidth                   int64\n",
       "derived_tstamp                object\n",
       "derived_tstamp_local          object\n",
       "doc_height                     int64\n",
       "doc_width                      int64\n",
       "domain_sessionid              object\n",
       "domain_userid                 object\n",
       "dvce_ismobile                  int64\n",
       "dvce_screenheight              int64\n",
       "dvce_screenwidth               int64\n",
       "dvce_type                     object\n",
       "event_id                      object\n",
       "event_name                    object\n",
       "geo_city                      object\n",
       "geo_country                   object\n",
       "geo_latitude                 float64\n",
       "geo_longitude                float64\n",
       "geo_region                    object\n",
       "geo_region_name               object\n",
       "geo_timezone                  object\n",
       "geo_zipcode                   object\n",
       "latitudeLongitudeAccuracy    float64\n",
       "network_userid                object\n",
       "osVersion                     object\n",
       "os_family                     object\n",
       "os_manufacturer               object\n",
       "os_name                       object\n",
       "page_referrer                 object\n",
       "page_title                    object\n",
       "page_url                      object\n",
       "page_urlpath                  object\n",
       "pp_max                       float64\n",
       "pp_may                       float64\n",
       "pp_mix                       float64\n",
       "pp_miy                       float64\n",
       "speed                        float64\n",
       "targetUrl                     object\n",
       "unique_id                     object\n",
       "user_fingerprint               int64\n",
       "user_id                       object\n",
       "pseudo_user_id               float64\n",
       "dtype: object"
      ]
     },
     "execution_count": 116,
     "metadata": {
      "tags": []
     },
     "output_type": "execute_result"
    }
   ],
   "source": [
    "snowplow_data.dtypes"
   ]
  },
  {
   "cell_type": "code",
   "execution_count": 117,
   "metadata": {
    "colab": {
     "base_uri": "https://localhost:8080/"
    },
    "executionInfo": {
     "elapsed": 373,
     "status": "ok",
     "timestamp": 1628405982582,
     "user": {
      "displayName": "Kuber Shahi",
      "photoUrl": "",
      "userId": "04157404054756166055"
     },
     "user_tz": -345
    },
    "id": "Yra8Sif0Q-ZA",
    "outputId": "12731e4e-9df6-4351-eeb1-9803ad89c61f"
   },
   "outputs": [
    {
     "name": "stdout",
     "output_type": "stream",
     "text": [
      "Before picking out unique values\n",
      "(3764,)\n",
      "2be3c4b4-081c-4721-9469-ae2d0a6af473    544\n",
      "be9335e4-64e4-483b-85db-9eda502802fc    132\n",
      "91e978ea-78e6-4bfe-96db-2d8b56f87c78    109\n",
      "1ad495ad-2e1b-4a37-ae3a-9f1dd8fe2931     96\n",
      "1c101e61-f3cc-4d77-8803-e27aa80f2a59     96\n",
      "                                       ... \n",
      "18c05087-2f95-4639-b354-4b896cb55e7a      1\n",
      "831edb2a-f16c-4414-9cef-10876f0fc339      1\n",
      "80267c71-54e1-4e1f-8035-b1d064cee25e      1\n",
      "fd71592b-47d9-4e0c-908a-79a947162634      1\n",
      "d93275fb-097f-4d65-ae18-de7321ca9d82      1\n",
      "Name: user_id, Length: 859, dtype: int64\n",
      "\n",
      "After picking our unique values\n",
      "(859,)\n"
     ]
    }
   ],
   "source": [
    "## chosse rows which matches the users_id in the list\n",
    "\n",
    "# users_data.query('user_id in @users_id')\n",
    "# users_data[users_data['user_id'].isin(users_id)]\n",
    "\n",
    "\n",
    "# creating a list of User IDs\n",
    "\n",
    "users_id =users_data['user_id']\n",
    "\n",
    "print(\"Before picking out unique values\")\n",
    "print(users_id.shape)\n",
    "print(users_id.value_counts())\n",
    "\n",
    "print(\"\\nAfter picking our unique values\")\n",
    "users_id = users_id.unique()\n",
    "print(users_id.shape)"
   ]
  },
  {
   "cell_type": "markdown",
   "metadata": {
    "id": "hZDWQ2do5RE-"
   },
   "source": [
    "There are 859 unique ids who have total sessions time"
   ]
  },
  {
   "cell_type": "code",
   "execution_count": 118,
   "metadata": {
    "colab": {
     "base_uri": "https://localhost:8080/"
    },
    "executionInfo": {
     "elapsed": 603,
     "status": "ok",
     "timestamp": 1628405985500,
     "user": {
      "displayName": "Kuber Shahi",
      "photoUrl": "",
      "userId": "04157404054756166055"
     },
     "user_tz": -345
    },
    "id": "CAxBVSgr5YVC",
    "outputId": "8cb155f9-807f-4738-cd41-ea618aef717e"
   },
   "outputs": [
    {
     "name": "stdout",
     "output_type": "stream",
     "text": [
      "(32,)\n"
     ]
    }
   ],
   "source": [
    "snowplow_users_id =snowplow_data['user_id'].unique()\n",
    "print(snowplow_users_id.shape)"
   ]
  },
  {
   "cell_type": "markdown",
   "metadata": {
    "id": "uLx5ZqVJ5yxj"
   },
   "source": [
    "There are only 32 unique ids in snowplow_data. This mean only for 32 users in users_data we have addtional data in snowplow_data."
   ]
  },
  {
   "cell_type": "markdown",
   "metadata": {
    "id": "RmEPYB1hjMgw"
   },
   "source": [
    "## Q1. Is there a correlation between screen size and session duration?"
   ]
  },
  {
   "cell_type": "markdown",
   "metadata": {
    "id": "aNYcdo-wjUKx"
   },
   "source": [
    "### Determining the measure of screen size: 'device_category' or 'dvce_screenheight', and 'dvce_screenwidth'."
   ]
  },
  {
   "cell_type": "code",
   "execution_count": 119,
   "metadata": {
    "colab": {
     "base_uri": "https://localhost:8080/"
    },
    "executionInfo": {
     "elapsed": 367,
     "status": "ok",
     "timestamp": 1628405991241,
     "user": {
      "displayName": "Kuber Shahi",
      "photoUrl": "",
      "userId": "04157404054756166055"
     },
     "user_tz": -345
    },
    "id": "CPo9FscKdYAW",
    "outputId": "e3d3bed0-1ac1-4aad-b4bd-d5dd34f50f3f"
   },
   "outputs": [
    {
     "name": "stdout",
     "output_type": "stream",
     "text": [
      "desktop    425\n",
      "mobile      78\n",
      "tablet      41\n",
      "Name: device_category, dtype: int64\n",
      "480    1993\n",
      "540     555\n",
      "Name: dvce_screenheight, dtype: int64\n"
     ]
    }
   ],
   "source": [
    "# for random user 1\n",
    "print(users_data[users_data['user_id']=='2be3c4b4-081c-4721-9469-ae2d0a6af473']['device_category'].value_counts())\n",
    "print(snowplow_data[snowplow_data['user_id']=='2be3c4b4-081c-4721-9469-ae2d0a6af473']['dvce_screenheight'].value_counts())"
   ]
  },
  {
   "cell_type": "code",
   "execution_count": 120,
   "metadata": {
    "colab": {
     "base_uri": "https://localhost:8080/"
    },
    "executionInfo": {
     "elapsed": 359,
     "status": "ok",
     "timestamp": 1628405993644,
     "user": {
      "displayName": "Kuber Shahi",
      "photoUrl": "",
      "userId": "04157404054756166055"
     },
     "user_tz": -345
    },
    "id": "4b2XpJ8ZdYDR",
    "outputId": "7b728fe7-3aec-4b36-8e38-e3f20c7437d3"
   },
   "outputs": [
    {
     "name": "stdout",
     "output_type": "stream",
     "text": [
      "desktop    96\n",
      "Name: device_category, dtype: int64\n",
      "Series([], Name: dvce_screenheight, dtype: int64)\n"
     ]
    }
   ],
   "source": [
    "# for random user 2\n",
    "print(users_data[users_data['user_id']=='1c101e61-f3cc-4d77-8803-e27aa80f2a59']['device_category'].value_counts())\n",
    "print(snowplow_data[snowplow_data['user_id']=='c101e61-f3cc-4d77-8803-e27aa80f2a59']['dvce_screenheight'].value_counts())"
   ]
  },
  {
   "cell_type": "markdown",
   "metadata": {
    "id": "91gwYo1ZkZqB"
   },
   "source": [
    "Not all user ids have device screen height and screen width. So, taking device category seems a better choice for measuring screen size"
   ]
  },
  {
   "cell_type": "markdown",
   "metadata": {
    "id": "_OIl8eX6krtO"
   },
   "source": [
    "### Finding whether there exist correlation between 'device_category' and 'total_session_duration'\n"
   ]
  },
  {
   "cell_type": "code",
   "execution_count": 121,
   "metadata": {
    "colab": {
     "base_uri": "https://localhost:8080/"
    },
    "executionInfo": {
     "elapsed": 493,
     "status": "ok",
     "timestamp": 1628405997680,
     "user": {
      "displayName": "Kuber Shahi",
      "photoUrl": "",
      "userId": "04157404054756166055"
     },
     "user_tz": -345
    },
    "id": "oiZiRWrndYGI",
    "outputId": "5fc3ca6e-03e4-40b8-e393-aac511e81889"
   },
   "outputs": [
    {
     "name": "stdout",
     "output_type": "stream",
     "text": [
      "(3764, 3)\n"
     ]
    }
   ],
   "source": [
    "df1 = users_data.filter(['user_id','device_category','total_session_duration'], axis=1)\n",
    "print(df1.shape)"
   ]
  },
  {
   "cell_type": "code",
   "execution_count": 122,
   "metadata": {
    "colab": {
     "base_uri": "https://localhost:8080/",
     "height": 206
    },
    "executionInfo": {
     "elapsed": 362,
     "status": "ok",
     "timestamp": 1628406000636,
     "user": {
      "displayName": "Kuber Shahi",
      "photoUrl": "",
      "userId": "04157404054756166055"
     },
     "user_tz": -345
    },
    "id": "cM5YNU37lvsJ",
    "outputId": "da927b93-39b5-40c9-9d2f-d123b43953d4"
   },
   "outputs": [
    {
     "data": {
      "text/html": [
       "<div>\n",
       "<style scoped>\n",
       "    .dataframe tbody tr th:only-of-type {\n",
       "        vertical-align: middle;\n",
       "    }\n",
       "\n",
       "    .dataframe tbody tr th {\n",
       "        vertical-align: top;\n",
       "    }\n",
       "\n",
       "    .dataframe thead th {\n",
       "        text-align: right;\n",
       "    }\n",
       "</style>\n",
       "<table border=\"1\" class=\"dataframe\">\n",
       "  <thead>\n",
       "    <tr style=\"text-align: right;\">\n",
       "      <th></th>\n",
       "      <th>user_id</th>\n",
       "      <th>device_category</th>\n",
       "      <th>total_session_duration</th>\n",
       "    </tr>\n",
       "  </thead>\n",
       "  <tbody>\n",
       "    <tr>\n",
       "      <th>0</th>\n",
       "      <td>e3eabd43-23f3-4781-90ee-5a67e781e7e2</td>\n",
       "      <td>desktop</td>\n",
       "      <td>2019</td>\n",
       "    </tr>\n",
       "    <tr>\n",
       "      <th>1</th>\n",
       "      <td>e4ccc0ac-71b1-4d7c-b697-f9f76f1084d0</td>\n",
       "      <td>mobile</td>\n",
       "      <td>467</td>\n",
       "    </tr>\n",
       "    <tr>\n",
       "      <th>2</th>\n",
       "      <td>815ef036-f1ee-486e-85a2-facf11df24a1</td>\n",
       "      <td>mobile</td>\n",
       "      <td>540</td>\n",
       "    </tr>\n",
       "    <tr>\n",
       "      <th>3</th>\n",
       "      <td>c86127fb-bc84-488a-b961-2abc5213f6fd</td>\n",
       "      <td>mobile</td>\n",
       "      <td>161</td>\n",
       "    </tr>\n",
       "    <tr>\n",
       "      <th>4</th>\n",
       "      <td>1c101e61-f3cc-4d77-8803-e27aa80f2a59</td>\n",
       "      <td>desktop</td>\n",
       "      <td>81</td>\n",
       "    </tr>\n",
       "  </tbody>\n",
       "</table>\n",
       "</div>"
      ],
      "text/plain": [
       "                                user_id device_category  total_session_duration\n",
       "0  e3eabd43-23f3-4781-90ee-5a67e781e7e2         desktop                    2019\n",
       "1  e4ccc0ac-71b1-4d7c-b697-f9f76f1084d0          mobile                     467\n",
       "2  815ef036-f1ee-486e-85a2-facf11df24a1          mobile                     540\n",
       "3  c86127fb-bc84-488a-b961-2abc5213f6fd          mobile                     161\n",
       "4  1c101e61-f3cc-4d77-8803-e27aa80f2a59         desktop                      81"
      ]
     },
     "execution_count": 122,
     "metadata": {
      "tags": []
     },
     "output_type": "execute_result"
    }
   ],
   "source": [
    "df1.head(5)"
   ]
  },
  {
   "cell_type": "code",
   "execution_count": 123,
   "metadata": {
    "colab": {
     "base_uri": "https://localhost:8080/",
     "height": 542
    },
    "executionInfo": {
     "elapsed": 1038,
     "status": "ok",
     "timestamp": 1628406003404,
     "user": {
      "displayName": "Kuber Shahi",
      "photoUrl": "",
      "userId": "04157404054756166055"
     },
     "user_tz": -345
    },
    "id": "MNKi4Sk3HcVc",
    "outputId": "253498a3-cdab-42e8-9789-dc407b279f88"
   },
   "outputs": [
    {
     "data": {
      "text/html": [
       "<html>\n",
       "<head><meta charset=\"utf-8\" /></head>\n",
       "<body>\n",
       "    <div>\n",
       "            <script src=\"https://cdnjs.cloudflare.com/ajax/libs/mathjax/2.7.5/MathJax.js?config=TeX-AMS-MML_SVG\"></script><script type=\"text/javascript\">if (window.MathJax) {MathJax.Hub.Config({SVG: {font: \"STIX-Web\"}});}</script>\n",
       "                <script type=\"text/javascript\">window.PlotlyConfig = {MathJaxConfig: 'local'};</script>\n",
       "        <script src=\"https://cdn.plot.ly/plotly-latest.min.js\"></script>    \n",
       "            <div id=\"658dff7c-ab15-4286-ac25-8e09c67a28c1\" class=\"plotly-graph-div\" style=\"height:525px; width:100%;\"></div>\n",
       "            <script type=\"text/javascript\">\n",
       "                \n",
       "                    window.PLOTLYENV=window.PLOTLYENV || {};\n",
       "                    \n",
       "                if (document.getElementById(\"658dff7c-ab15-4286-ac25-8e09c67a28c1\")) {\n",
       "                    Plotly.newPlot(\n",
       "                        '658dff7c-ab15-4286-ac25-8e09c67a28c1',\n",
       "                        [{\"alignmentgroup\": \"True\", \"hoverlabel\": {\"namelength\": 0}, \"hovertemplate\": \"device_category=%{x}<br>total_session_duration=%{y}\", \"legendgroup\": \"\", \"marker\": {\"color\": \"#636efa\"}, \"name\": \"\", \"notched\": false, \"offsetgroup\": \"\", \"orientation\": \"v\", \"showlegend\": false, \"type\": \"box\", \"x\": [\"desktop\", \"mobile\", \"mobile\", \"mobile\", \"desktop\", \"desktop\", \"desktop\", \"desktop\", \"mobile\", \"mobile\", \"mobile\", \"mobile\", \"desktop\", \"mobile\", \"mobile\", \"mobile\", \"desktop\", \"mobile\", \"desktop\", \"desktop\", \"desktop\", \"desktop\", \"desktop\", \"desktop\", \"mobile\", \"desktop\", \"desktop\", \"mobile\", \"mobile\", \"mobile\", \"desktop\", \"desktop\", \"desktop\", \"mobile\", \"desktop\", \"desktop\", \"desktop\", \"mobile\", \"desktop\", \"desktop\", \"desktop\", \"desktop\", \"mobile\", \"desktop\", \"desktop\", \"desktop\", \"desktop\", \"desktop\", \"mobile\", \"desktop\", \"desktop\", \"mobile\", \"mobile\", \"mobile\", \"mobile\", \"mobile\", \"desktop\", \"desktop\", \"desktop\", \"desktop\", \"desktop\", \"desktop\", \"tablet\", \"tablet\", \"desktop\", \"mobile\", \"mobile\", \"mobile\", \"mobile\", \"mobile\", \"mobile\", \"desktop\", \"desktop\", \"desktop\", \"desktop\", \"desktop\", \"desktop\", \"mobile\", \"mobile\", \"desktop\", \"desktop\", \"desktop\", \"desktop\", \"desktop\", \"desktop\", \"desktop\", \"mobile\", \"mobile\", \"mobile\", \"mobile\", \"mobile\", \"desktop\", \"desktop\", \"mobile\", \"desktop\", \"desktop\", \"desktop\", \"desktop\", \"desktop\", \"desktop\", \"mobile\", \"mobile\", \"mobile\", \"desktop\", \"desktop\", \"mobile\", \"mobile\", \"mobile\", \"mobile\", \"mobile\", \"mobile\", \"mobile\", \"mobile\", \"mobile\", \"mobile\", \"mobile\", \"mobile\", \"mobile\", \"mobile\", \"mobile\", \"mobile\", \"mobile\", \"mobile\", \"mobile\", \"desktop\", \"desktop\", \"desktop\", \"mobile\", \"mobile\", \"desktop\", \"mobile\", \"desktop\", \"desktop\", \"mobile\", \"mobile\", \"desktop\", \"tablet\", \"tablet\", \"tablet\", \"tablet\", \"tablet\", \"tablet\", \"tablet\", \"desktop\", \"desktop\", \"desktop\", \"mobile\", \"desktop\", \"tablet\", \"mobile\", \"mobile\", \"desktop\", \"desktop\", \"mobile\", \"mobile\", \"desktop\", \"desktop\", \"mobile\", \"mobile\", \"mobile\", \"mobile\", \"mobile\", \"mobile\", \"mobile\", \"mobile\", \"mobile\", \"mobile\", \"mobile\", \"mobile\", \"mobile\", \"mobile\", \"mobile\", \"mobile\", \"mobile\", \"mobile\", \"mobile\", \"mobile\", \"mobile\", \"mobile\", \"mobile\", \"mobile\", \"mobile\", \"desktop\", \"desktop\", \"desktop\", \"desktop\", \"desktop\", \"desktop\", \"desktop\", \"desktop\", \"desktop\", \"desktop\", \"desktop\", \"desktop\", \"desktop\", \"desktop\", \"desktop\", \"desktop\", \"desktop\", \"desktop\", \"desktop\", \"desktop\", \"desktop\", \"desktop\", \"desktop\", \"desktop\", \"desktop\", \"desktop\", \"desktop\", \"desktop\", \"desktop\", \"desktop\", \"desktop\", \"desktop\", \"desktop\", \"desktop\", \"desktop\", \"desktop\", \"desktop\", \"desktop\", \"desktop\", \"desktop\", \"desktop\", \"desktop\", \"desktop\", \"desktop\", \"desktop\", \"desktop\", \"desktop\", \"desktop\", \"desktop\", \"desktop\", \"desktop\", \"desktop\", \"desktop\", \"desktop\", \"desktop\", \"desktop\", \"desktop\", \"desktop\", \"desktop\", \"desktop\", \"desktop\", \"desktop\", \"desktop\", \"desktop\", \"desktop\", \"desktop\", \"desktop\", \"desktop\", \"desktop\", \"desktop\", \"desktop\", \"desktop\", \"desktop\", \"desktop\", \"desktop\", \"desktop\", \"desktop\", \"mobile\", \"mobile\", \"tablet\", \"mobile\", \"mobile\", \"mobile\", \"mobile\", \"mobile\", \"mobile\", \"tablet\", \"mobile\", \"mobile\", \"mobile\", \"mobile\", \"mobile\", \"mobile\", \"mobile\", \"mobile\", \"mobile\", \"mobile\", \"mobile\", \"mobile\", \"mobile\", \"mobile\", \"mobile\", \"mobile\", \"mobile\", \"mobile\", \"mobile\", \"mobile\", \"mobile\", \"mobile\", \"mobile\", \"mobile\", \"mobile\", \"mobile\", \"mobile\", \"mobile\", \"mobile\", \"mobile\", \"mobile\", \"mobile\", \"mobile\", \"mobile\", \"mobile\", \"mobile\", \"mobile\", \"mobile\", \"mobile\", \"mobile\", \"mobile\", \"desktop\", \"desktop\", \"desktop\", \"desktop\", \"desktop\", \"desktop\", \"desktop\", \"mobile\", \"mobile\", \"mobile\", \"desktop\", \"desktop\", \"desktop\", \"desktop\", \"desktop\", \"desktop\", \"desktop\", \"desktop\", \"desktop\", \"desktop\", \"desktop\", \"desktop\", \"desktop\", \"desktop\", \"desktop\", \"desktop\", \"desktop\", \"desktop\", \"desktop\", \"desktop\", \"desktop\", \"desktop\", \"desktop\", \"desktop\", \"desktop\", \"desktop\", \"desktop\", \"desktop\", \"desktop\", \"desktop\", \"desktop\", \"desktop\", \"desktop\", \"desktop\", \"desktop\", \"desktop\", \"desktop\", \"desktop\", \"desktop\", \"desktop\", \"desktop\", \"desktop\", \"desktop\", \"desktop\", \"desktop\", \"desktop\", \"desktop\", \"desktop\", \"desktop\", \"desktop\", \"desktop\", \"desktop\", \"desktop\", \"desktop\", \"desktop\", \"desktop\", \"desktop\", \"desktop\", \"desktop\", \"desktop\", \"desktop\", \"desktop\", \"desktop\", \"desktop\", \"desktop\", \"desktop\", \"desktop\", \"desktop\", \"desktop\", \"desktop\", \"desktop\", \"desktop\", \"desktop\", \"desktop\", \"desktop\", \"desktop\", \"desktop\", \"desktop\", \"desktop\", \"desktop\", \"desktop\", \"desktop\", \"desktop\", \"desktop\", \"desktop\", \"desktop\", \"desktop\", \"desktop\", \"desktop\", \"desktop\", \"desktop\", \"desktop\", \"desktop\", \"desktop\", \"desktop\", \"desktop\", \"desktop\", \"desktop\", \"desktop\", \"desktop\", \"desktop\", \"desktop\", \"desktop\", \"desktop\", \"desktop\", \"desktop\", \"desktop\", \"desktop\", \"desktop\", \"desktop\", \"desktop\", \"desktop\", \"desktop\", \"desktop\", \"desktop\", \"desktop\", \"desktop\", \"desktop\", \"desktop\", \"desktop\", \"desktop\", \"desktop\", \"desktop\", \"desktop\", \"desktop\", \"desktop\", \"desktop\", \"desktop\", \"desktop\", \"desktop\", \"desktop\", \"desktop\", \"desktop\", \"desktop\", \"desktop\", \"desktop\", \"desktop\", \"desktop\", \"desktop\", \"desktop\", \"desktop\", \"desktop\", \"desktop\", \"desktop\", \"desktop\", \"desktop\", \"desktop\", \"desktop\", \"desktop\", \"desktop\", \"desktop\", \"desktop\", \"desktop\", \"desktop\", \"desktop\", \"desktop\", \"desktop\", \"desktop\", \"desktop\", \"desktop\", \"desktop\", \"desktop\", \"desktop\", \"desktop\", \"desktop\", \"desktop\", \"desktop\", \"desktop\", \"desktop\", \"desktop\", \"desktop\", \"desktop\", \"desktop\", \"desktop\", \"desktop\", \"desktop\", \"desktop\", \"desktop\", \"desktop\", \"desktop\", \"desktop\", \"desktop\", \"desktop\", \"desktop\", \"desktop\", \"desktop\", \"desktop\", \"desktop\", \"desktop\", \"desktop\", \"desktop\", \"desktop\", \"desktop\", \"desktop\", \"desktop\", \"desktop\", \"desktop\", \"desktop\", \"desktop\", \"desktop\", \"desktop\", \"desktop\", \"desktop\", \"desktop\", \"desktop\", \"desktop\", \"desktop\", \"desktop\", \"desktop\", \"desktop\", \"desktop\", \"desktop\", \"desktop\", \"desktop\", \"desktop\", \"desktop\", \"desktop\", \"desktop\", \"desktop\", \"desktop\", \"desktop\", \"desktop\", \"desktop\", \"desktop\", \"desktop\", \"desktop\", \"desktop\", \"desktop\", \"desktop\", \"desktop\", \"desktop\", \"desktop\", \"desktop\", \"desktop\", \"desktop\", \"desktop\", \"desktop\", \"desktop\", \"desktop\", \"desktop\", \"desktop\", \"desktop\", \"desktop\", \"desktop\", \"desktop\", \"desktop\", \"desktop\", \"desktop\", \"desktop\", \"desktop\", \"desktop\", \"desktop\", \"desktop\", \"desktop\", \"desktop\", \"desktop\", \"desktop\", \"desktop\", \"desktop\", \"desktop\", \"desktop\", \"desktop\", \"desktop\", \"desktop\", \"desktop\", \"desktop\", \"desktop\", \"desktop\", \"desktop\", \"desktop\", \"desktop\", \"desktop\", \"desktop\", \"desktop\", \"desktop\", \"desktop\", \"desktop\", \"desktop\", \"desktop\", \"desktop\", \"desktop\", \"desktop\", \"desktop\", \"desktop\", \"desktop\", \"desktop\", \"desktop\", \"desktop\", \"desktop\", \"desktop\", \"desktop\", \"desktop\", \"desktop\", \"desktop\", \"desktop\", \"desktop\", \"desktop\", \"desktop\", \"desktop\", \"desktop\", \"desktop\", \"desktop\", \"desktop\", \"desktop\", \"desktop\", \"desktop\", \"desktop\", \"desktop\", \"desktop\", \"desktop\", \"desktop\", \"desktop\", \"desktop\", \"desktop\", \"desktop\", \"desktop\", \"desktop\", \"desktop\", \"desktop\", \"desktop\", \"desktop\", \"desktop\", \"desktop\", \"desktop\", \"desktop\", \"desktop\", \"desktop\", \"desktop\", \"desktop\", \"desktop\", \"desktop\", \"desktop\", \"desktop\", \"desktop\", \"desktop\", \"desktop\", \"desktop\", \"desktop\", \"desktop\", \"desktop\", \"desktop\", \"desktop\", \"desktop\", \"desktop\", \"desktop\", \"desktop\", \"desktop\", \"desktop\", \"desktop\", \"desktop\", \"desktop\", \"desktop\", \"desktop\", \"desktop\", \"desktop\", \"desktop\", \"desktop\", \"desktop\", \"desktop\", \"desktop\", \"desktop\", \"desktop\", \"desktop\", \"desktop\", \"desktop\", \"desktop\", \"desktop\", \"desktop\", \"desktop\", \"desktop\", \"desktop\", \"desktop\", \"desktop\", \"desktop\", \"desktop\", \"desktop\", \"desktop\", \"desktop\", \"desktop\", \"desktop\", \"desktop\", \"desktop\", \"desktop\", \"desktop\", \"desktop\", \"desktop\", \"desktop\", \"desktop\", \"desktop\", \"desktop\", \"desktop\", \"desktop\", \"desktop\", \"desktop\", \"desktop\", \"desktop\", \"desktop\", \"desktop\", \"desktop\", \"desktop\", \"desktop\", \"desktop\", \"desktop\", \"desktop\", \"desktop\", \"desktop\", \"desktop\", \"desktop\", \"desktop\", \"desktop\", \"desktop\", \"desktop\", \"desktop\", \"desktop\", \"desktop\", \"desktop\", \"desktop\", \"desktop\", \"desktop\", \"desktop\", \"desktop\", \"desktop\", \"desktop\", \"desktop\", \"desktop\", \"desktop\", \"desktop\", \"desktop\", \"desktop\", \"desktop\", \"desktop\", \"desktop\", \"desktop\", \"desktop\", \"desktop\", \"desktop\", \"desktop\", \"desktop\", \"desktop\", \"desktop\", \"desktop\", \"desktop\", \"desktop\", \"desktop\", \"desktop\", \"desktop\", \"desktop\", \"desktop\", \"desktop\", \"desktop\", \"desktop\", \"desktop\", \"desktop\", \"desktop\", \"desktop\", \"desktop\", \"desktop\", \"desktop\", \"desktop\", \"desktop\", \"desktop\", \"desktop\", \"desktop\", \"desktop\", \"desktop\", \"desktop\", \"desktop\", \"desktop\", \"desktop\", \"desktop\", \"desktop\", \"desktop\", \"desktop\", \"desktop\", \"desktop\", \"desktop\", \"desktop\", \"desktop\", \"desktop\", \"desktop\", \"desktop\", \"desktop\", \"desktop\", \"desktop\", \"desktop\", \"desktop\", \"desktop\", \"desktop\", \"desktop\", \"desktop\", \"desktop\", \"desktop\", \"desktop\", \"desktop\", \"desktop\", \"desktop\", \"desktop\", \"desktop\", \"desktop\", \"desktop\", \"desktop\", \"desktop\", \"desktop\", \"desktop\", \"desktop\", \"desktop\", \"desktop\", \"desktop\", \"desktop\", \"desktop\", \"desktop\", \"desktop\", \"desktop\", \"desktop\", \"desktop\", \"desktop\", \"desktop\", \"desktop\", \"desktop\", \"desktop\", \"desktop\", \"desktop\", \"desktop\", \"desktop\", \"desktop\", \"desktop\", \"desktop\", \"desktop\", \"desktop\", \"desktop\", \"desktop\", \"desktop\", \"desktop\", \"desktop\", \"desktop\", \"desktop\", \"desktop\", \"desktop\", \"desktop\", \"desktop\", \"desktop\", \"desktop\", \"desktop\", \"desktop\", \"desktop\", \"desktop\", \"desktop\", \"desktop\", \"desktop\", \"desktop\", \"desktop\", \"desktop\", \"desktop\", \"desktop\", \"desktop\", \"desktop\", \"desktop\", \"desktop\", \"desktop\", \"desktop\", \"desktop\", \"desktop\", \"desktop\", \"desktop\", \"desktop\", \"desktop\", \"desktop\", \"desktop\", \"desktop\", \"desktop\", \"desktop\", \"desktop\", \"desktop\", \"desktop\", \"desktop\", \"desktop\", \"desktop\", \"desktop\", \"desktop\", \"desktop\", \"desktop\", \"desktop\", \"desktop\", \"desktop\", \"desktop\", \"desktop\", \"desktop\", \"desktop\", \"desktop\", \"desktop\", \"desktop\", \"desktop\", \"desktop\", \"desktop\", \"desktop\", \"desktop\", \"desktop\", \"desktop\", \"desktop\", \"desktop\", \"desktop\", \"desktop\", \"desktop\", \"desktop\", \"desktop\", \"desktop\", \"desktop\", \"desktop\", \"desktop\", \"desktop\", \"desktop\", \"desktop\", \"desktop\", \"desktop\", \"desktop\", \"desktop\", \"desktop\", \"desktop\", \"desktop\", \"desktop\", \"desktop\", \"desktop\", \"desktop\", \"desktop\", \"desktop\", \"desktop\", \"desktop\", \"desktop\", \"desktop\", \"desktop\", \"desktop\", \"desktop\", \"desktop\", \"desktop\", \"desktop\", \"desktop\", \"desktop\", \"desktop\", \"desktop\", \"desktop\", \"desktop\", \"desktop\", \"desktop\", \"desktop\", \"desktop\", \"desktop\", \"desktop\", \"desktop\", \"desktop\", \"desktop\", \"desktop\", \"desktop\", \"desktop\", \"desktop\", \"desktop\", \"desktop\", \"desktop\", \"desktop\", \"desktop\", \"desktop\", \"desktop\", \"desktop\", \"desktop\", \"desktop\", \"desktop\", \"desktop\", \"desktop\", \"desktop\", \"desktop\", \"desktop\", \"desktop\", \"desktop\", \"desktop\", \"desktop\", \"desktop\", \"desktop\", \"desktop\", \"desktop\", \"desktop\", \"desktop\", \"desktop\", \"desktop\", \"desktop\", \"desktop\", \"desktop\", \"desktop\", \"desktop\", \"desktop\", \"desktop\", \"desktop\", \"desktop\", \"desktop\", \"desktop\", \"desktop\", \"desktop\", \"desktop\", \"desktop\", \"desktop\", \"desktop\", \"desktop\", \"desktop\", \"desktop\", \"desktop\", \"desktop\", \"desktop\", \"desktop\", \"desktop\", \"desktop\", \"desktop\", \"desktop\", \"desktop\", \"desktop\", \"desktop\", \"desktop\", \"desktop\", \"desktop\", \"desktop\", \"desktop\", \"desktop\", \"desktop\", \"desktop\", \"desktop\", \"desktop\", \"desktop\", \"desktop\", \"desktop\", \"desktop\", \"desktop\", \"desktop\", \"desktop\", \"desktop\", \"desktop\", \"desktop\", \"desktop\", \"desktop\", \"desktop\", \"desktop\", \"desktop\", \"desktop\", \"desktop\", \"desktop\", \"desktop\", \"desktop\", \"desktop\", \"desktop\", \"desktop\", \"desktop\", \"desktop\", \"desktop\", \"desktop\", \"desktop\", \"desktop\", \"desktop\", \"desktop\", \"desktop\", \"desktop\", \"desktop\", \"desktop\", \"desktop\", \"desktop\", \"desktop\", \"desktop\", \"desktop\", \"desktop\", \"desktop\", \"desktop\", \"desktop\", \"desktop\", \"desktop\", \"desktop\", \"desktop\", \"desktop\", \"desktop\", \"desktop\", \"desktop\", \"desktop\", \"desktop\", \"desktop\", \"desktop\", \"desktop\", \"desktop\", \"desktop\", \"desktop\", \"desktop\", \"desktop\", \"desktop\", \"desktop\", \"desktop\", \"desktop\", \"desktop\", \"desktop\", \"desktop\", \"desktop\", \"desktop\", \"desktop\", \"desktop\", \"desktop\", \"desktop\", \"desktop\", \"desktop\", \"desktop\", \"desktop\", \"desktop\", \"desktop\", \"desktop\", \"desktop\", \"desktop\", \"desktop\", \"desktop\", \"desktop\", \"desktop\", \"desktop\", \"desktop\", \"desktop\", \"desktop\", \"desktop\", \"desktop\", \"desktop\", \"desktop\", \"desktop\", \"desktop\", \"desktop\", \"desktop\", \"desktop\", \"desktop\", \"desktop\", \"desktop\", \"desktop\", \"desktop\", \"desktop\", \"desktop\", \"desktop\", \"desktop\", \"desktop\", \"desktop\", \"desktop\", \"desktop\", \"desktop\", \"desktop\", \"desktop\", \"desktop\", \"desktop\", \"desktop\", \"desktop\", \"desktop\", \"desktop\", \"desktop\", \"desktop\", \"desktop\", \"desktop\", \"desktop\", \"desktop\", \"desktop\", \"desktop\", \"desktop\", \"desktop\", \"desktop\", \"desktop\", \"desktop\", \"desktop\", \"desktop\", \"desktop\", \"desktop\", \"desktop\", \"desktop\", \"desktop\", \"desktop\", \"desktop\", \"desktop\", \"desktop\", \"desktop\", \"desktop\", \"desktop\", \"desktop\", \"desktop\", \"desktop\", \"desktop\", \"desktop\", \"desktop\", \"desktop\", \"desktop\", \"desktop\", \"desktop\", \"desktop\", \"desktop\", \"desktop\", \"desktop\", \"desktop\", \"desktop\", \"desktop\", \"desktop\", \"desktop\", \"desktop\", \"desktop\", \"desktop\", \"desktop\", \"desktop\", \"desktop\", \"desktop\", \"desktop\", \"desktop\", \"desktop\", \"desktop\", \"desktop\", \"desktop\", \"desktop\", \"desktop\", \"desktop\", \"desktop\", \"desktop\", \"desktop\", \"desktop\", \"desktop\", \"desktop\", \"desktop\", \"desktop\", \"desktop\", \"desktop\", \"desktop\", \"desktop\", \"desktop\", \"desktop\", \"desktop\", \"desktop\", \"desktop\", \"desktop\", \"desktop\", \"desktop\", \"desktop\", \"desktop\", \"desktop\", \"desktop\", \"desktop\", \"desktop\", \"desktop\", \"desktop\", \"desktop\", \"desktop\", \"desktop\", \"desktop\", \"desktop\", \"desktop\", \"desktop\", \"desktop\", \"desktop\", \"desktop\", \"desktop\", \"desktop\", \"desktop\", \"desktop\", \"desktop\", \"desktop\", \"desktop\", \"desktop\", \"desktop\", \"desktop\", \"desktop\", \"desktop\", \"desktop\", \"desktop\", \"desktop\", \"desktop\", \"desktop\", \"desktop\", \"desktop\", \"desktop\", \"desktop\", \"desktop\", \"desktop\", \"desktop\", \"desktop\", \"desktop\", \"desktop\", \"desktop\", \"desktop\", \"desktop\", \"desktop\", \"desktop\", \"desktop\", \"desktop\", \"desktop\", \"desktop\", \"desktop\", \"desktop\", \"desktop\", \"desktop\", \"desktop\", \"desktop\", \"mobile\", \"mobile\", \"mobile\", \"mobile\", \"tablet\", \"mobile\", \"mobile\", \"desktop\", \"desktop\", \"desktop\", \"desktop\", \"desktop\", \"desktop\", \"desktop\", \"desktop\", \"desktop\", \"desktop\", \"desktop\", \"desktop\", \"desktop\", \"desktop\", \"desktop\", \"desktop\", \"desktop\", \"desktop\", \"desktop\", \"desktop\", \"desktop\", \"desktop\", \"desktop\", \"desktop\", \"desktop\", \"desktop\", \"desktop\", \"desktop\", \"desktop\", \"desktop\", \"desktop\", \"desktop\", \"desktop\", \"desktop\", \"desktop\", \"desktop\", \"desktop\", \"desktop\", \"desktop\", \"desktop\", \"desktop\", \"desktop\", \"desktop\", \"desktop\", \"desktop\", \"desktop\", \"desktop\", \"desktop\", \"desktop\", \"desktop\", \"desktop\", \"desktop\", \"desktop\", \"desktop\", \"desktop\", \"desktop\", \"desktop\", \"desktop\", \"desktop\", \"desktop\", \"desktop\", \"desktop\", \"desktop\", \"desktop\", \"desktop\", \"desktop\", \"desktop\", \"desktop\", \"desktop\", \"desktop\", \"desktop\", \"desktop\", \"desktop\", \"desktop\", \"desktop\", \"desktop\", \"desktop\", \"desktop\", \"desktop\", \"desktop\", \"desktop\", \"desktop\", \"desktop\", \"desktop\", \"desktop\", \"desktop\", \"desktop\", \"desktop\", \"desktop\", \"desktop\", \"desktop\", \"desktop\", \"desktop\", \"desktop\", \"desktop\", \"desktop\", \"desktop\", \"desktop\", \"desktop\", \"desktop\", \"desktop\", \"desktop\", \"desktop\", \"desktop\", \"desktop\", \"desktop\", \"desktop\", \"desktop\", \"desktop\", \"desktop\", \"desktop\", \"desktop\", \"desktop\", \"desktop\", \"desktop\", \"desktop\", \"desktop\", \"desktop\", \"desktop\", \"desktop\", \"desktop\", \"desktop\", \"desktop\", \"desktop\", \"desktop\", \"desktop\", \"desktop\", \"desktop\", \"desktop\", \"desktop\", \"desktop\", \"desktop\", \"desktop\", \"desktop\", \"desktop\", \"desktop\", \"desktop\", \"desktop\", \"desktop\", \"desktop\", \"desktop\", \"desktop\", \"desktop\", \"desktop\", \"desktop\", \"desktop\", \"desktop\", \"desktop\", \"desktop\", \"desktop\", \"desktop\", \"desktop\", \"desktop\", \"desktop\", \"desktop\", \"desktop\", \"desktop\", \"desktop\", \"desktop\", \"desktop\", \"desktop\", \"desktop\", \"desktop\", \"desktop\", \"desktop\", \"desktop\", \"desktop\", \"desktop\", \"desktop\", \"desktop\", \"desktop\", \"desktop\", \"desktop\", \"desktop\", \"desktop\", \"desktop\", \"desktop\", \"desktop\", \"desktop\", \"desktop\", \"desktop\", \"desktop\", \"desktop\", \"desktop\", \"desktop\", \"desktop\", \"desktop\", \"desktop\", \"desktop\", \"desktop\", \"desktop\", \"desktop\", \"desktop\", \"desktop\", \"desktop\", \"desktop\", \"desktop\", \"desktop\", \"desktop\", \"desktop\", \"desktop\", \"desktop\", \"desktop\", \"desktop\", \"desktop\", \"desktop\", \"desktop\", \"desktop\", \"desktop\", \"desktop\", \"desktop\", \"desktop\", \"desktop\", \"desktop\", \"desktop\", \"desktop\", \"desktop\", \"desktop\", \"desktop\", \"desktop\", \"desktop\", \"desktop\", \"desktop\", \"desktop\", \"desktop\", \"desktop\", \"desktop\", \"desktop\", \"desktop\", \"desktop\", \"desktop\", \"desktop\", \"desktop\", \"desktop\", \"desktop\", \"desktop\", \"desktop\", \"desktop\", \"desktop\", \"desktop\", \"desktop\", \"desktop\", \"desktop\", \"desktop\", \"desktop\", \"desktop\", \"desktop\", \"desktop\", \"desktop\", \"desktop\", \"desktop\", \"desktop\", \"desktop\", \"desktop\", \"desktop\", \"desktop\", \"desktop\", \"desktop\", \"desktop\", \"desktop\", \"desktop\", \"desktop\", \"desktop\", \"desktop\", \"desktop\", \"desktop\", \"desktop\", \"desktop\", \"desktop\", \"desktop\", \"desktop\", \"desktop\", \"desktop\", \"desktop\", \"desktop\", \"desktop\", \"desktop\", \"mobile\", \"mobile\", \"mobile\", \"mobile\", \"mobile\", \"mobile\", \"mobile\", \"mobile\", \"mobile\", \"mobile\", \"mobile\", \"mobile\", \"mobile\", \"mobile\", \"mobile\", \"mobile\", \"mobile\", \"mobile\", \"mobile\", \"mobile\", \"mobile\", \"mobile\", \"mobile\", \"mobile\", \"mobile\", \"mobile\", \"mobile\", \"mobile\", \"mobile\", \"mobile\", \"mobile\", \"mobile\", \"mobile\", \"mobile\", \"mobile\", \"mobile\", \"mobile\", \"mobile\", \"mobile\", \"mobile\", \"mobile\", \"mobile\", \"mobile\", \"mobile\", \"mobile\", \"mobile\", \"mobile\", \"mobile\", \"mobile\", \"mobile\", \"mobile\", \"mobile\", \"mobile\", \"mobile\", \"mobile\", \"mobile\", \"mobile\", \"mobile\", \"mobile\", \"mobile\", \"mobile\", \"mobile\", \"mobile\", \"mobile\", \"mobile\", \"mobile\", \"mobile\", \"mobile\", \"mobile\", \"mobile\", \"mobile\", \"mobile\", \"mobile\", \"mobile\", \"mobile\", \"mobile\", \"mobile\", \"mobile\", \"mobile\", \"mobile\", \"mobile\", \"mobile\", \"mobile\", \"tablet\", \"tablet\", \"tablet\", \"tablet\", \"tablet\", \"tablet\", \"tablet\", \"tablet\", \"tablet\", \"tablet\", \"mobile\", \"mobile\", \"mobile\", \"mobile\", \"mobile\", \"mobile\", \"mobile\", \"mobile\", \"mobile\", \"mobile\", \"mobile\", \"mobile\", \"mobile\", \"mobile\", \"mobile\", \"mobile\", \"mobile\", \"mobile\", \"mobile\", \"mobile\", \"mobile\", \"mobile\", \"mobile\", \"mobile\", \"mobile\", \"mobile\", \"mobile\", \"mobile\", \"mobile\", \"mobile\", \"mobile\", \"mobile\", \"mobile\", \"mobile\", \"mobile\", \"mobile\", \"mobile\", \"mobile\", \"mobile\", \"mobile\", \"mobile\", \"mobile\", \"mobile\", \"mobile\", \"mobile\", \"mobile\", \"mobile\", \"mobile\", \"mobile\", \"mobile\", \"mobile\", \"mobile\", \"mobile\", \"mobile\", \"mobile\", \"mobile\", \"mobile\", \"mobile\", \"mobile\", \"mobile\", \"mobile\", \"mobile\", \"mobile\", \"mobile\", \"mobile\", \"mobile\", \"mobile\", \"mobile\", \"mobile\", \"mobile\", \"mobile\", \"mobile\", \"desktop\", \"desktop\", \"desktop\", \"desktop\", \"desktop\", \"desktop\", \"desktop\", \"desktop\", \"desktop\", \"desktop\", \"desktop\", \"desktop\", \"desktop\", \"desktop\", \"desktop\", \"desktop\", \"desktop\", \"desktop\", \"desktop\", \"desktop\", \"desktop\", \"desktop\", \"desktop\", \"desktop\", \"desktop\", \"desktop\", \"desktop\", \"desktop\", \"desktop\", \"desktop\", \"desktop\", \"desktop\", \"desktop\", \"desktop\", \"desktop\", \"desktop\", \"desktop\", \"desktop\", \"desktop\", \"mobile\", \"mobile\", \"mobile\", \"mobile\", \"mobile\", \"mobile\", \"mobile\", \"mobile\", \"mobile\", \"mobile\", \"mobile\", \"mobile\", \"mobile\", \"mobile\", \"mobile\", \"mobile\", \"mobile\", \"mobile\", \"mobile\", \"mobile\", \"mobile\", \"mobile\", \"mobile\", \"mobile\", \"mobile\", \"mobile\", \"mobile\", \"mobile\", \"mobile\", \"mobile\", \"mobile\", \"mobile\", \"mobile\", \"mobile\", \"mobile\", \"mobile\", \"mobile\", \"mobile\", \"mobile\", \"mobile\", \"mobile\", \"mobile\", \"mobile\", \"mobile\", \"mobile\", \"mobile\", \"mobile\", \"mobile\", \"mobile\", \"mobile\", \"mobile\", \"mobile\", \"mobile\", \"mobile\", \"mobile\", \"mobile\", \"mobile\", \"mobile\", \"mobile\", \"mobile\", \"mobile\", \"mobile\", \"mobile\", \"mobile\", \"mobile\", \"mobile\", \"mobile\", \"mobile\", \"mobile\", \"mobile\", \"mobile\", \"mobile\", \"mobile\", \"mobile\", \"mobile\", \"mobile\", \"mobile\", \"mobile\", \"mobile\", \"mobile\", \"mobile\", \"mobile\", \"mobile\", \"tablet\", \"tablet\", \"mobile\", \"mobile\", \"mobile\", \"mobile\", \"mobile\", \"mobile\", \"mobile\", \"mobile\", \"mobile\", \"mobile\", \"mobile\", \"mobile\", \"mobile\", \"mobile\", \"mobile\", \"mobile\", \"mobile\", \"mobile\", \"mobile\", \"mobile\", \"mobile\", \"mobile\", \"mobile\", \"mobile\", \"mobile\", \"mobile\", \"mobile\", \"mobile\", \"mobile\", \"mobile\", \"mobile\", \"mobile\", \"mobile\", \"mobile\", \"mobile\", \"mobile\", \"mobile\", \"mobile\", \"mobile\", \"mobile\", \"mobile\", \"mobile\", \"mobile\", \"mobile\", \"mobile\", \"mobile\", \"mobile\", \"mobile\", \"mobile\", \"mobile\", \"mobile\", \"mobile\", \"mobile\", \"mobile\", \"mobile\", \"mobile\", \"mobile\", \"mobile\", \"mobile\", \"mobile\", \"mobile\", \"mobile\", \"mobile\", \"mobile\", \"mobile\", \"mobile\", \"mobile\", \"mobile\", \"mobile\", \"mobile\", \"mobile\", \"mobile\", \"mobile\", \"mobile\", \"mobile\", \"mobile\", \"mobile\", \"mobile\", \"mobile\", \"mobile\", \"mobile\", \"mobile\", \"mobile\", \"mobile\", \"mobile\", \"mobile\", \"mobile\", \"mobile\", \"mobile\", \"mobile\", \"mobile\", \"mobile\", \"mobile\", \"mobile\", \"mobile\", \"mobile\", \"mobile\", \"mobile\", \"mobile\", \"mobile\", \"mobile\", \"mobile\", \"mobile\", \"mobile\", \"mobile\", \"mobile\", \"mobile\", \"mobile\", \"mobile\", \"mobile\", \"mobile\", \"mobile\", \"mobile\", \"mobile\", \"mobile\", \"mobile\", \"mobile\", \"mobile\", \"mobile\", \"mobile\", \"mobile\", \"mobile\", \"mobile\", \"mobile\", \"mobile\", \"mobile\", \"mobile\", \"mobile\", \"mobile\", \"mobile\", \"mobile\", \"mobile\", \"mobile\", \"mobile\", \"mobile\", \"mobile\", \"mobile\", \"mobile\", \"mobile\", \"mobile\", \"mobile\", \"mobile\", \"mobile\", \"mobile\", \"mobile\", \"mobile\", \"mobile\", \"mobile\", \"mobile\", \"mobile\", \"mobile\", \"mobile\", \"mobile\", \"mobile\", \"mobile\", \"mobile\", \"mobile\", \"mobile\", \"mobile\", \"mobile\", \"mobile\", \"mobile\", \"mobile\", \"mobile\", \"mobile\", \"mobile\", \"mobile\", \"mobile\", \"mobile\", \"mobile\", \"mobile\", \"mobile\", \"mobile\", \"mobile\", \"mobile\", \"mobile\", \"mobile\", \"mobile\", \"mobile\", \"mobile\", \"mobile\", \"mobile\", \"mobile\", \"mobile\", \"mobile\", \"mobile\", \"mobile\", \"mobile\", \"mobile\", \"mobile\", \"mobile\", \"mobile\", \"mobile\", \"mobile\", \"mobile\", \"mobile\", \"mobile\", \"mobile\", \"mobile\", \"mobile\", \"mobile\", \"mobile\", \"mobile\", \"mobile\", \"mobile\", \"mobile\", \"mobile\", \"mobile\", \"mobile\", \"mobile\", \"mobile\", \"mobile\", \"mobile\", \"mobile\", \"mobile\", \"mobile\", \"mobile\", \"mobile\", \"mobile\", \"mobile\", \"mobile\", \"mobile\", \"mobile\", \"mobile\", \"mobile\", \"mobile\", \"mobile\", \"mobile\", \"mobile\", \"mobile\", \"mobile\", \"mobile\", \"mobile\", \"mobile\", \"mobile\", \"mobile\", \"mobile\", \"mobile\", \"mobile\", \"mobile\", \"mobile\", \"mobile\", \"mobile\", \"mobile\", \"mobile\", \"mobile\", \"mobile\", \"mobile\", \"mobile\", \"mobile\", \"mobile\", \"mobile\", \"mobile\", \"mobile\", \"mobile\", \"mobile\", \"mobile\", \"mobile\", \"mobile\", \"mobile\", \"mobile\", \"mobile\", \"mobile\", \"mobile\", \"mobile\", \"mobile\", \"mobile\", \"mobile\", \"mobile\", \"mobile\", \"mobile\", \"mobile\", \"mobile\", \"mobile\", \"mobile\", \"mobile\", \"mobile\", \"mobile\", \"mobile\", \"mobile\", \"mobile\", \"mobile\", \"mobile\", \"mobile\", \"mobile\", \"mobile\", \"mobile\", \"mobile\", \"mobile\", \"mobile\", \"mobile\", \"mobile\", \"mobile\", \"mobile\", \"mobile\", \"mobile\", \"mobile\", \"mobile\", \"mobile\", \"mobile\", \"mobile\", \"mobile\", \"mobile\", \"mobile\", \"mobile\", \"mobile\", \"mobile\", \"mobile\", \"mobile\", \"mobile\", \"mobile\", \"mobile\", \"mobile\", \"mobile\", \"mobile\", \"mobile\", \"mobile\", \"mobile\", \"mobile\", \"mobile\", \"mobile\", \"mobile\", \"mobile\", \"mobile\", \"mobile\", \"mobile\", \"mobile\", \"mobile\", \"mobile\", \"mobile\", \"mobile\", \"mobile\", \"mobile\", \"mobile\", \"mobile\", \"mobile\", \"mobile\", \"mobile\", \"mobile\", \"mobile\", \"mobile\", \"mobile\", \"mobile\", \"mobile\", \"mobile\", \"mobile\", \"mobile\", \"mobile\", \"mobile\", \"mobile\", \"mobile\", \"mobile\", \"mobile\", \"mobile\", \"mobile\", \"mobile\", \"mobile\", \"mobile\", \"mobile\", \"mobile\", \"mobile\", \"mobile\", \"mobile\", \"mobile\", \"mobile\", \"mobile\", \"mobile\", \"tablet\", \"tablet\", \"tablet\", \"tablet\", \"tablet\", \"tablet\", \"mobile\", \"mobile\", \"mobile\", \"mobile\", \"mobile\", \"mobile\", \"mobile\", \"mobile\", \"mobile\", \"mobile\", \"mobile\", \"mobile\", \"mobile\", \"mobile\", \"mobile\", \"mobile\", \"mobile\", \"mobile\", \"mobile\", \"mobile\", \"mobile\", \"mobile\", \"mobile\", \"mobile\", \"mobile\", \"mobile\", \"mobile\", \"mobile\", \"mobile\", \"mobile\", \"mobile\", \"mobile\", \"mobile\", \"mobile\", \"mobile\", \"mobile\", \"mobile\", \"mobile\", \"mobile\", \"mobile\", \"mobile\", \"mobile\", \"mobile\", \"mobile\", \"mobile\", \"mobile\", \"mobile\", \"mobile\", \"mobile\", \"mobile\", \"mobile\", \"mobile\", \"mobile\", \"mobile\", \"mobile\", \"mobile\", \"mobile\", \"mobile\", \"mobile\", \"mobile\", \"mobile\", \"mobile\", \"mobile\", \"mobile\", \"mobile\", \"mobile\", \"mobile\", \"mobile\", \"mobile\", \"mobile\", \"mobile\", \"mobile\", \"mobile\", \"mobile\", \"mobile\", \"mobile\", \"mobile\", \"mobile\", \"mobile\", \"mobile\", \"mobile\", \"mobile\", \"mobile\", \"mobile\", \"mobile\", \"mobile\", \"mobile\", \"mobile\", \"mobile\", \"mobile\", \"mobile\", \"mobile\", \"mobile\", \"mobile\", \"mobile\", \"mobile\", \"mobile\", \"mobile\", \"mobile\", \"mobile\", \"mobile\", \"mobile\", \"mobile\", \"mobile\", \"mobile\", \"mobile\", \"mobile\", \"mobile\", \"mobile\", \"mobile\", \"mobile\", \"mobile\", \"mobile\", \"mobile\", \"mobile\", \"mobile\", \"mobile\", \"mobile\", \"mobile\", \"mobile\", \"mobile\", \"mobile\", \"mobile\", \"mobile\", \"mobile\", \"mobile\", \"mobile\", \"mobile\", \"mobile\", \"mobile\", \"mobile\", \"mobile\", \"mobile\", \"mobile\", \"mobile\", \"mobile\", \"mobile\", \"mobile\", \"mobile\", \"mobile\", \"mobile\", \"mobile\", \"mobile\", \"mobile\", \"mobile\", \"mobile\", \"mobile\", \"mobile\", \"mobile\", \"mobile\", \"mobile\", \"mobile\", \"desktop\", \"desktop\", \"desktop\", \"mobile\", \"mobile\", \"mobile\", \"mobile\", \"mobile\", \"mobile\", \"mobile\", \"mobile\", \"mobile\", \"mobile\", \"mobile\", \"mobile\", \"mobile\", \"mobile\", \"mobile\", \"mobile\", \"mobile\", \"mobile\", \"mobile\", \"mobile\", \"mobile\", \"mobile\", \"mobile\", \"mobile\", \"mobile\", \"mobile\", \"mobile\", \"mobile\", \"mobile\", \"mobile\", \"mobile\", \"mobile\", \"mobile\", \"mobile\", \"mobile\", \"mobile\", \"mobile\", \"mobile\", \"mobile\", \"mobile\", \"mobile\", \"mobile\", \"mobile\", \"mobile\", \"mobile\", \"mobile\", \"mobile\", \"mobile\", \"mobile\", \"mobile\", \"mobile\", \"mobile\", \"mobile\", \"mobile\", \"mobile\", \"mobile\", \"mobile\", \"mobile\", \"mobile\", \"mobile\", \"mobile\", \"mobile\", \"mobile\", \"mobile\", \"mobile\", \"mobile\", \"mobile\", \"mobile\", \"mobile\", \"mobile\", \"mobile\", \"mobile\", \"mobile\", \"mobile\", \"mobile\", \"mobile\", \"mobile\", \"mobile\", \"mobile\", \"mobile\", \"mobile\", \"mobile\", \"mobile\", \"mobile\", \"mobile\", \"mobile\", \"mobile\", \"mobile\", \"mobile\", \"mobile\", \"mobile\", \"mobile\", \"mobile\", \"mobile\", \"mobile\", \"mobile\", \"mobile\", \"mobile\", \"mobile\", \"mobile\", \"mobile\", \"mobile\", \"mobile\", \"mobile\", \"mobile\", \"mobile\", \"mobile\", \"mobile\", \"mobile\", \"mobile\", \"mobile\", \"mobile\", \"mobile\", \"mobile\", \"mobile\", \"mobile\", \"mobile\", \"mobile\", \"mobile\", \"mobile\", \"mobile\", \"mobile\", \"mobile\", \"mobile\", \"mobile\", \"mobile\", \"mobile\", \"mobile\", \"mobile\", \"mobile\", \"mobile\", \"mobile\", \"mobile\", \"mobile\", \"mobile\", \"mobile\", \"mobile\", \"mobile\", \"mobile\", \"mobile\", \"mobile\", \"mobile\", \"mobile\", \"mobile\", \"mobile\", \"mobile\", \"mobile\", \"mobile\", \"mobile\", \"mobile\", \"mobile\", \"mobile\", \"mobile\", \"mobile\", \"mobile\", \"mobile\", \"mobile\", \"mobile\", \"mobile\", \"mobile\", \"mobile\", \"mobile\", \"mobile\", \"mobile\", \"mobile\", \"mobile\", \"mobile\", \"mobile\", \"mobile\", \"mobile\", \"mobile\", \"mobile\", \"mobile\", \"mobile\", \"mobile\", \"mobile\", \"mobile\", \"mobile\", \"mobile\", \"mobile\", \"mobile\", \"mobile\", \"mobile\", \"mobile\", \"mobile\", \"mobile\", \"mobile\", \"mobile\", \"mobile\", \"mobile\", \"mobile\", \"mobile\", \"mobile\", \"mobile\", \"mobile\", \"mobile\", \"mobile\", \"mobile\", \"mobile\", \"mobile\", \"mobile\", \"mobile\", \"mobile\", \"mobile\", \"mobile\", \"mobile\", \"mobile\", \"mobile\", \"mobile\", \"mobile\", \"mobile\", \"mobile\", \"mobile\", \"mobile\", \"mobile\", \"mobile\", \"desktop\", \"mobile\", \"mobile\", \"mobile\", \"desktop\", \"mobile\", \"mobile\", \"mobile\", \"mobile\", \"desktop\", \"desktop\", \"desktop\", \"mobile\", \"desktop\", \"desktop\", \"desktop\", \"mobile\", \"mobile\", \"desktop\", \"desktop\", \"mobile\", \"desktop\", \"desktop\", \"desktop\", \"mobile\", \"desktop\", \"desktop\", \"mobile\", \"mobile\", \"mobile\", \"desktop\", \"desktop\", \"desktop\", \"desktop\", \"mobile\", \"desktop\", \"desktop\", \"desktop\", \"desktop\", \"desktop\", \"mobile\", \"desktop\", \"desktop\", \"desktop\", \"mobile\", \"mobile\", \"mobile\", \"desktop\", \"mobile\", \"mobile\", \"mobile\", \"mobile\", \"mobile\", \"mobile\", \"mobile\", \"desktop\", \"desktop\", \"desktop\", \"desktop\", \"desktop\", \"desktop\", \"desktop\", \"mobile\", \"desktop\", \"desktop\", \"desktop\", \"mobile\", \"desktop\", \"mobile\", \"desktop\", \"desktop\", \"desktop\", \"desktop\", \"desktop\", \"desktop\", \"mobile\", \"mobile\", \"desktop\", \"desktop\", \"desktop\", \"desktop\", \"desktop\", \"desktop\", \"desktop\", \"mobile\", \"mobile\", \"mobile\", \"mobile\", \"mobile\", \"mobile\", \"mobile\", \"mobile\", \"mobile\", \"mobile\", \"mobile\", \"desktop\", \"mobile\", \"desktop\", \"desktop\", \"desktop\", \"mobile\", \"desktop\", \"desktop\", \"desktop\", \"desktop\", \"desktop\", \"desktop\", \"desktop\", \"desktop\", \"desktop\", \"desktop\", \"desktop\", \"desktop\", \"desktop\", \"desktop\", \"desktop\", \"desktop\", \"desktop\", \"mobile\", \"mobile\", \"desktop\", \"mobile\", \"desktop\", \"mobile\", \"mobile\", \"desktop\", \"desktop\", \"tablet\", \"mobile\", \"mobile\", \"desktop\", \"mobile\", \"mobile\", \"mobile\", \"desktop\", \"desktop\", \"mobile\", \"mobile\", \"desktop\", \"desktop\", \"mobile\", \"desktop\", \"desktop\", \"desktop\", \"desktop\", \"desktop\", \"desktop\", \"desktop\", \"desktop\", \"desktop\", \"desktop\", \"desktop\", \"desktop\", \"desktop\", \"mobile\", \"desktop\", \"desktop\", \"desktop\", \"desktop\", \"desktop\", \"tablet\", \"desktop\", \"desktop\", \"desktop\", \"desktop\", \"desktop\", \"desktop\", \"mobile\", \"mobile\", \"mobile\", \"mobile\", \"mobile\", \"mobile\", \"mobile\", \"mobile\", \"mobile\", \"desktop\", \"desktop\", \"desktop\", \"desktop\", \"desktop\", \"mobile\", \"desktop\", \"desktop\", \"desktop\", \"desktop\", \"desktop\", \"desktop\", \"desktop\", \"desktop\", \"desktop\", \"desktop\", \"desktop\", \"desktop\", \"desktop\", \"mobile\", \"desktop\", \"mobile\", \"desktop\", \"desktop\", \"mobile\", \"mobile\", \"desktop\", \"mobile\", \"desktop\", \"mobile\", \"desktop\", \"desktop\", \"mobile\", \"desktop\", \"desktop\", \"mobile\", \"mobile\", \"mobile\", \"desktop\", \"mobile\", \"desktop\", \"mobile\", \"desktop\", \"mobile\", \"mobile\", \"mobile\", \"desktop\", \"mobile\", \"mobile\", \"desktop\", \"desktop\", \"desktop\", \"desktop\", \"desktop\", \"desktop\", \"mobile\", \"desktop\", \"desktop\", \"desktop\", \"mobile\", \"desktop\", \"desktop\", \"mobile\", \"desktop\", \"desktop\", \"mobile\", \"desktop\", \"mobile\", \"mobile\", \"mobile\", \"mobile\", \"mobile\", \"mobile\", \"mobile\", \"desktop\", \"mobile\", \"desktop\", \"desktop\", \"desktop\", \"desktop\", \"mobile\", \"desktop\", \"desktop\", \"desktop\", \"desktop\", \"desktop\", \"desktop\", \"desktop\", \"mobile\", \"desktop\", \"desktop\", \"mobile\", \"desktop\", \"desktop\", \"desktop\", \"desktop\", \"desktop\", \"mobile\", \"mobile\", \"mobile\", \"tablet\", \"mobile\", \"tablet\", \"mobile\", \"mobile\", \"desktop\", \"mobile\", \"mobile\", \"desktop\", \"mobile\", \"mobile\", \"desktop\", \"desktop\", \"desktop\", \"mobile\", \"desktop\", \"desktop\", \"desktop\", \"desktop\", \"mobile\", \"mobile\", \"mobile\", \"desktop\", \"mobile\", \"mobile\", \"desktop\", \"mobile\", \"mobile\", \"mobile\", \"desktop\", \"desktop\", \"mobile\", \"desktop\", \"desktop\", \"desktop\", \"desktop\", \"desktop\", \"mobile\", \"mobile\", \"mobile\", \"mobile\", \"mobile\", \"desktop\", \"tablet\", \"desktop\", \"desktop\", \"mobile\", \"mobile\", \"mobile\", \"desktop\", \"mobile\", \"mobile\", \"desktop\", \"mobile\", \"desktop\", \"desktop\", \"mobile\", \"desktop\", \"desktop\", \"desktop\", \"desktop\", \"desktop\", \"desktop\", \"desktop\", \"desktop\", \"desktop\", \"desktop\", \"mobile\", \"desktop\", \"desktop\", \"desktop\", \"mobile\", \"mobile\", \"mobile\", \"desktop\", \"desktop\", \"tablet\", \"mobile\", \"mobile\", \"mobile\", \"mobile\", \"desktop\", \"mobile\", \"desktop\", \"mobile\", \"desktop\", \"desktop\", \"desktop\", \"mobile\", \"mobile\", \"desktop\", \"desktop\", \"desktop\", \"desktop\", \"desktop\", \"desktop\", \"desktop\", \"desktop\", \"desktop\", \"desktop\", \"desktop\", \"desktop\", \"mobile\", \"tablet\", \"desktop\", \"desktop\", \"desktop\", \"desktop\", \"mobile\", \"desktop\", \"desktop\", \"desktop\", \"desktop\", \"desktop\", \"desktop\", \"desktop\", \"mobile\", \"mobile\", \"desktop\", \"desktop\", \"mobile\", \"tablet\", \"desktop\", \"desktop\", \"desktop\", \"desktop\", \"desktop\", \"mobile\", \"desktop\", \"desktop\", \"desktop\", \"mobile\", \"desktop\", \"desktop\", \"mobile\", \"desktop\", \"desktop\", \"desktop\", \"desktop\", \"desktop\", \"mobile\", \"desktop\", \"mobile\", \"desktop\", \"desktop\", \"desktop\", \"tablet\", \"desktop\", \"desktop\", \"desktop\", \"tablet\", \"desktop\", \"desktop\", \"desktop\", \"desktop\", \"desktop\", \"desktop\", \"desktop\", \"desktop\", \"mobile\", \"desktop\", \"desktop\", \"desktop\", \"desktop\", \"desktop\", \"mobile\", \"desktop\", \"desktop\", \"desktop\", \"desktop\", \"mobile\", \"desktop\", \"desktop\", \"desktop\", \"desktop\", \"desktop\", \"desktop\", \"desktop\", \"desktop\", \"mobile\", \"desktop\", \"desktop\", \"desktop\", \"desktop\", \"desktop\", \"desktop\", \"desktop\", \"mobile\", \"desktop\", \"desktop\", \"desktop\", \"mobile\", \"desktop\", \"desktop\", \"desktop\", \"desktop\", \"desktop\", \"desktop\", \"mobile\", \"desktop\", \"tablet\", \"desktop\", \"tablet\", \"desktop\", \"desktop\", \"desktop\", \"desktop\", \"desktop\", \"desktop\", \"tablet\", \"desktop\", \"desktop\", \"desktop\", \"mobile\", \"desktop\", \"mobile\", \"mobile\", \"desktop\", \"tablet\", \"mobile\", \"desktop\", \"desktop\", \"desktop\", \"desktop\", \"desktop\", \"desktop\", \"desktop\", \"tablet\", \"desktop\", \"desktop\", \"desktop\", \"desktop\", \"mobile\", \"desktop\", \"desktop\", \"desktop\", \"desktop\", \"desktop\", \"desktop\", \"desktop\", \"desktop\", \"desktop\", \"desktop\", \"desktop\", \"desktop\", \"desktop\", \"desktop\", \"desktop\", \"mobile\", \"mobile\", \"desktop\", \"desktop\", \"desktop\", \"tablet\", \"mobile\", \"desktop\", \"desktop\", \"desktop\", \"mobile\", \"desktop\", \"desktop\", \"desktop\", \"desktop\", \"mobile\", \"mobile\", \"tablet\", \"desktop\", \"desktop\", \"desktop\", \"mobile\", \"desktop\", \"desktop\", \"mobile\", \"desktop\", \"desktop\", \"desktop\", \"desktop\", \"desktop\", \"desktop\", \"mobile\", \"desktop\", \"desktop\", \"desktop\", \"desktop\", \"desktop\", \"desktop\", \"desktop\", \"desktop\", \"desktop\", \"desktop\", \"desktop\", \"desktop\", \"desktop\", \"desktop\", \"desktop\", \"desktop\", \"desktop\", \"desktop\", \"desktop\", \"desktop\", \"desktop\", \"desktop\", \"mobile\", \"desktop\", \"desktop\", \"desktop\", \"tablet\", \"mobile\", \"desktop\", \"desktop\", \"desktop\", \"desktop\", \"desktop\", \"desktop\", \"desktop\", \"desktop\", \"desktop\", \"mobile\", \"desktop\", \"desktop\", \"desktop\", \"mobile\", \"desktop\", \"mobile\", \"mobile\", \"desktop\", \"desktop\", \"desktop\", \"mobile\", \"desktop\", \"desktop\", \"mobile\", \"desktop\", \"desktop\", \"mobile\", \"desktop\", \"desktop\", \"mobile\", \"desktop\", \"desktop\", \"desktop\", \"desktop\", \"mobile\", \"tablet\", \"desktop\", \"mobile\", \"desktop\", \"desktop\", \"desktop\", \"desktop\", \"desktop\", \"desktop\", \"tablet\", \"desktop\", \"desktop\", \"desktop\", \"desktop\", \"tablet\", \"desktop\", \"desktop\", \"tablet\", \"desktop\", \"desktop\", \"desktop\", \"desktop\", \"desktop\", \"tablet\", \"desktop\", \"mobile\", \"desktop\", \"desktop\", \"desktop\", \"desktop\", \"desktop\", \"mobile\", \"desktop\", \"desktop\", \"desktop\", \"desktop\", \"desktop\", \"desktop\", \"tablet\", \"desktop\", \"desktop\", \"desktop\", \"desktop\", \"desktop\", \"desktop\", \"desktop\", \"desktop\", \"tablet\", \"desktop\", \"desktop\", \"desktop\", \"desktop\", \"desktop\", \"tablet\", \"desktop\", \"desktop\", \"desktop\", \"desktop\", \"desktop\", \"desktop\", \"desktop\", \"desktop\", \"desktop\", \"desktop\", \"desktop\", \"desktop\", \"desktop\", \"desktop\", \"desktop\", \"desktop\", \"desktop\", \"mobile\", \"desktop\", \"desktop\", \"mobile\", \"desktop\", \"desktop\", \"desktop\", \"desktop\", \"desktop\", \"tablet\", \"desktop\", \"desktop\", \"desktop\", \"tablet\", \"desktop\", \"desktop\", \"desktop\", \"desktop\", \"tablet\", \"tablet\", \"desktop\", \"tablet\", \"mobile\", \"desktop\", \"mobile\", \"desktop\", \"desktop\", \"mobile\", \"tablet\", \"desktop\", \"desktop\", \"desktop\", \"desktop\", \"desktop\", \"desktop\", \"desktop\", \"desktop\", \"desktop\", \"desktop\", \"desktop\", \"mobile\", \"desktop\", \"mobile\", \"desktop\", \"tablet\", \"desktop\", \"desktop\", \"desktop\", \"desktop\", \"desktop\", \"mobile\", \"mobile\", \"mobile\", \"desktop\", \"desktop\", \"mobile\", \"desktop\", \"desktop\", \"desktop\", \"desktop\", \"desktop\", \"mobile\", \"mobile\", \"desktop\", \"desktop\", \"desktop\", \"desktop\", \"mobile\", \"desktop\", \"desktop\", \"desktop\", \"desktop\", \"desktop\", \"desktop\", \"desktop\", \"desktop\", \"desktop\", \"desktop\", \"desktop\", \"tablet\", \"mobile\", \"desktop\", \"desktop\", \"desktop\", \"desktop\", \"mobile\", \"desktop\", \"desktop\", \"desktop\", \"desktop\", \"desktop\", \"desktop\", \"desktop\", \"desktop\", \"desktop\", \"desktop\", \"desktop\", \"desktop\", \"desktop\", \"desktop\", \"desktop\", \"tablet\", \"tablet\", \"desktop\", \"desktop\", \"desktop\", \"desktop\", \"desktop\", \"desktop\", \"desktop\", \"desktop\", \"mobile\", \"desktop\", \"desktop\", \"desktop\", \"desktop\", \"desktop\", \"desktop\", \"desktop\", \"tablet\", \"desktop\", \"desktop\", \"desktop\", \"desktop\", \"desktop\", \"mobile\", \"desktop\", \"tablet\", \"desktop\", \"desktop\", \"desktop\", \"desktop\", \"desktop\", \"desktop\", \"mobile\", \"desktop\", \"desktop\", \"mobile\", \"desktop\", \"mobile\", \"desktop\", \"desktop\", \"tablet\", \"desktop\", \"desktop\", \"desktop\", \"desktop\", \"desktop\", \"mobile\", \"desktop\", \"desktop\", \"desktop\", \"desktop\", \"desktop\", \"desktop\", \"mobile\", \"desktop\", \"desktop\", \"desktop\", \"desktop\", \"mobile\", \"mobile\", \"mobile\", \"mobile\", \"desktop\", \"desktop\", \"mobile\", \"desktop\", \"desktop\", \"desktop\", \"mobile\", \"desktop\", \"desktop\", \"desktop\", \"desktop\", \"mobile\", \"desktop\", \"mobile\", \"mobile\", \"mobile\", \"mobile\", \"desktop\", \"desktop\", \"mobile\", \"mobile\", \"desktop\", \"desktop\", \"desktop\", \"desktop\", \"desktop\", \"desktop\", \"desktop\", \"desktop\", \"desktop\", \"desktop\", \"mobile\", \"desktop\", \"mobile\", \"desktop\", \"mobile\", \"mobile\", \"desktop\", \"mobile\", \"mobile\", \"desktop\", \"desktop\", \"desktop\", \"desktop\", \"desktop\", \"mobile\", \"desktop\", \"desktop\", \"desktop\", \"desktop\", \"desktop\", \"desktop\", \"tablet\", \"desktop\", \"mobile\", \"mobile\", \"desktop\", \"mobile\", \"mobile\", \"desktop\", \"tablet\", \"desktop\", \"desktop\", \"desktop\", \"desktop\", \"mobile\", \"mobile\", \"desktop\", \"mobile\", \"mobile\", \"mobile\", \"mobile\", \"mobile\", \"mobile\", \"mobile\", \"mobile\", \"mobile\", \"mobile\", \"mobile\", \"mobile\", \"mobile\", \"desktop\", \"desktop\", \"desktop\", \"desktop\", \"desktop\", \"desktop\", \"desktop\", \"mobile\", \"mobile\", \"desktop\", \"desktop\", \"desktop\", \"desktop\", \"desktop\", \"desktop\", \"desktop\", \"desktop\", \"mobile\", \"tablet\", \"desktop\", \"desktop\", \"mobile\", \"desktop\", \"desktop\", \"desktop\", \"tablet\", \"mobile\", \"mobile\", \"desktop\", \"desktop\", \"desktop\", \"desktop\", \"mobile\", \"mobile\", \"desktop\", \"desktop\", \"desktop\", \"desktop\", \"desktop\", \"desktop\", \"mobile\", \"desktop\", \"desktop\", \"mobile\", \"mobile\", \"desktop\", \"desktop\", \"desktop\", \"desktop\", \"mobile\", \"desktop\", \"mobile\", \"mobile\", \"desktop\", \"desktop\", \"desktop\", \"desktop\", \"desktop\", \"mobile\", \"desktop\", \"desktop\", \"desktop\", \"desktop\", \"desktop\", \"desktop\", \"desktop\", \"desktop\", \"desktop\", \"mobile\", \"desktop\", \"mobile\", \"desktop\", \"desktop\", \"desktop\", \"desktop\", \"desktop\", \"tablet\", \"desktop\", \"mobile\", \"desktop\", \"desktop\", \"desktop\", \"mobile\", \"mobile\", \"desktop\", \"desktop\", \"mobile\", \"desktop\", \"mobile\", \"mobile\", \"desktop\", \"mobile\", \"desktop\", \"desktop\", \"mobile\", \"mobile\", \"mobile\", \"mobile\", \"desktop\", \"mobile\", \"mobile\", \"mobile\", \"mobile\", \"desktop\", \"mobile\", \"desktop\", \"desktop\", \"desktop\", \"desktop\", \"desktop\", \"desktop\", \"tablet\", \"desktop\", \"desktop\", \"mobile\", \"desktop\", \"desktop\", \"desktop\", \"mobile\", \"desktop\", \"desktop\", \"desktop\", \"desktop\", \"desktop\", \"desktop\", \"desktop\", \"mobile\", \"desktop\", \"desktop\", \"desktop\", \"desktop\", \"desktop\", \"desktop\", \"desktop\", \"desktop\", \"desktop\", \"mobile\", \"desktop\", \"tablet\", \"mobile\", \"desktop\", \"desktop\", \"desktop\", \"desktop\", \"desktop\", \"desktop\", \"desktop\", \"desktop\", \"mobile\", \"desktop\", \"mobile\", \"desktop\", \"mobile\", \"mobile\", \"desktop\", \"mobile\", \"desktop\", \"mobile\", \"mobile\", \"desktop\", \"desktop\", \"desktop\", \"desktop\", \"desktop\", \"tablet\", \"desktop\", \"desktop\", \"desktop\", \"desktop\", \"desktop\", \"desktop\", \"desktop\", \"desktop\", \"desktop\", \"desktop\", \"mobile\", \"desktop\", \"desktop\", \"desktop\", \"mobile\", \"desktop\", \"desktop\", \"desktop\", \"desktop\", \"desktop\", \"desktop\", \"desktop\", \"desktop\", \"mobile\", \"desktop\", \"desktop\", \"mobile\", \"mobile\", \"desktop\", \"desktop\", \"desktop\", \"desktop\", \"desktop\", \"tablet\", \"mobile\", \"desktop\", \"mobile\", \"desktop\", \"desktop\"], \"x0\": \" \", \"xaxis\": \"x\", \"y\": [2019, 467, 540, 161, 81, 133905, 19040, 46161, 533, 621, 1496, 83, 17596, 1401, 158, 144, 503, 149, 72886, 11892, 1185, 26186, 5325, 1797, 17, 42462, 21079, 1071, 9705, 1, 15, 10317, 56, 183, 6653, 105874, 206520, 15, 2409, 300, 0, 71, 135, 4503, 12912, 12912, 4884, 2378, 5456, 22, 676, 24895, 844, 18, 1093, 374, 2113, 28, 802086, 73, 219, 3436, 7740, 7740, 135, 448, 0, 20, 37236, 37236, 15136, 15245, 25824, 6456, 345252, 922280, 85730, 35928, 7488, 446292, 228, 343807, 224, 202825, 282, 1013327, 9864, 20, 146, 7163, 58, 195, 2260, 157, 76167, 195858, 517376, 537428, 73440, 9792, 35360, 13438, 58, 18810, 99389, 39603, 19, 3084, 104, 1033, 1758, 10, 4, 10, 595, 585, 0, 0, 0, 15704, 604, 170, 360, 994, 5539, 234, 234, 27225, 3681, 924, 1689, 2348, 587, 1864, 12, 79560, 4462, 25, 422, 7498, 50, 61, 6458, 2535, 4360, 139, 380, 1019, 61, 459, 49077, 1234, 10572, 262, 0, 349, 1131, 88433, 76371, 4169, 380, 5, 3335, 139, 5250, 1608, 416, 416, 0, 189, 2176, 1204, 3040, 3040, 3040, 4560, 4560, 4560, 204, 1860, 1860, 94, 2105, 14940, 158, 1536, 13610, 5138, 610389, 191, 541, 40, 38445, 673856, 47226, 926, 75036, 26172, 14277, 4, 17748, 7116, 3297, 3927, 407214, 14731, 2220, 382659, 280148, 4900, 18435, 2150, 258, 0, 8006, 554, 17501, 43670, 4646, 124, 58445, 27, 516, 620793, 326928, 83913, 29, 24080, 3430, 22275, 0, 12079, 0, 8016, 8016, 35158, 159276, 11267, 7460, 3343258, 8376, 159, 95155, 1156, 2388, 256397, 194, 33106, 51386, 5044, 389959, 18582, 5880, 5016, 598, 159904, 159904, 173, 1956, 17548, 1867, 134, 2496, 334, 54, 1089, 93, 93, 24157, 674, 12, 30, 20570, 20570, 6040, 6040, 6040, 907, 907, 0, 0, 1800, 0, 630, 630, 604, 604, 604, 2129, 2423, 2129, 2129, 2423, 2423, 0, 949, 0, 90, 432, 458, 1846, 1846, 0, 0, 364, 2806, 405, 130, 10836, 16374, 6348, 2421, 272428, 25270, 2435221, 79452, 77, 179, 626, 74, 80, 303, 10596, 528657, 383, 51026, 5319, 146, 14, 38712, 4839, 2977, 59, 67974, 13, 520, 3791, 26607, 2932, 14890, 17893, 15828, 7416, 324463, 10040, 17590, 335286, 10506, 479, 27378, 28392, 774, 47772, 12656, 84, 14168, 79380, 1427, 4157, 17136, 124566, 728, 2027, 869, 807, 5136, 30, 522, 28781, 964500, 212112, 274, 65, 1178, 4766, 75, 22129, 18300, 8360, 223032, 969170, 498650, 32, 210021, 38, 280672, 83358, 207, 238852, 695, 386185, 39, 2200477, 1258875, 712002, 560717, 1208800, 3132000, 412838, 219228, 63363, 45135, 466151, 135764, 208610, 2847, 175056, 41259, 56884, 2598, 31380, 8261, 170694, 1682542, 123944, 4640, 45310, 226430, 57188, 203065, 203783, 25167, 4989, 566816, 282569, 307458, 3055, 8584, 4066, 128760, 28462, 24258, 327483, 14096, 121, 634337, 484, 7587, 14901, 804654, 358, 2400, 1211, 5788, 2400, 163, 168, 98, 117, 28, 24, 63, 177, 261, 44, 34, 79, 31252, 155, 69, 46, 137, 66, 1020, 106, 165, 96, 105, 53, 92, 717, 53, 43, 71, 52, 56, 112, 69, 25, 353, 734, 46, 111, 222, 501676, 159966, 2860, 11055, 1058210, 1276880, 2191026, 49, 21768, 57, 7770, 1830, 1043649, 227894, 3395952, 2908604, 660, 4469375, 1625456, 25238, 48257, 55445, 64170, 64170, 92040, 4674, 4674, 60962, 37620, 58387, 3972, 54274, 12627, 92275, 165300, 42560, 221727, 19625, 225420, 14, 5636, 3924, 184784, 339, 57, 4893, 31989, 11896, 3213, 1135, 1019, 3286982, 2672, 2416, 2416, 2416, 165908, 44, 19155, 19155, 7788, 2100, 475307, 2814, 229950, 14540, 98, 342, 286501, 60, 20, 20, 1284, 702, 153, 153, 151, 95, 70, 65, 2855, 161, 454, 216, 4404, 104047, 865, 28020, 14010, 1551928, 140160, 16849, 23732, 16590, 477185, 36909, 110635, 445662, 8598, 20, 1628, 7205, 12950, 321, 685, 1970, 1970, 1628, 52870, 3650, 1063315, 209202, 1668, 878, 800, 1518, 486, 60, 1099, 874, 170, 30, 150, 32, 27, 39, 28, 84, 21, 18530, 167, 235, 16, 108, 5540, 4804, 21, 5439, 15, 54022, 1291, 22, 36, 36, 15, 2485, 2405, 315, 958, 91495, 348, 196160, 112, 272162, 50552, 1712, 15866, 15866, 119592, 3522, 3522, 51, 46721, 4876, 2161, 7425, 1484, 642, 37, 2832, 18016, 4740, 616, 5516, 1016, 8872, 30258, 9954, 21567, 24300, 25012, 2601, 75420, 113721, 1271, 23716, 23716, 8265, 1653, 110394, 16030, 4761, 12780, 156, 65076, 22896, 26036, 18, 9423, 17, 5458, 7668, 11736, 42, 1618, 78, 5739, 93951, 2395, 46, 58884, 810120, 49304, 341504, 1680, 1368, 26038, 7417364, 839, 5622, 1976054, 68280, 68280, 1574, 216, 73, 14, 23, 697491, 663328, 109799, 422928, 541350, 606312, 1631, 9366, 77, 96400, 9354, 29596, 41220, 107, 28998, 46799, 15248, 2668, 21368, 361, 2764, 110580, 5034, 8985, 96833, 3141072, 26736, 20604, 1257, 97161, 473688, 156, 29870, 35576, 598, 760, 7500, 2199, 806, 2099, 68051, 4256, 76, 0, 394, 6489, 1790, 1, 433, 27951, 1644, 87, 100757, 10, 2031, 896, 554, 1261, 204, 1306, 97, 54792, 2667, 1498359, 4665144, 64161, 628, 14440, 25046, 210650, 45716, 8584, 8584, 4066, 1136756, 374787, 12129, 298668, 87868, 549696, 69974, 121, 234297, 7587, 1091, 59604, 358, 4711, 2280, 1211, 1230, 102, 87, 158, 15, 63, 57, 79, 139, 261, 305, 64, 79, 151, 256, 184, 46, 183, 40, 46, 66, 42, 165, 809, 53, 717, 53, 43, 198, 86, 590, 107, 54, 62, 126, 38, 69, 209, 112, 25, 25, 73, 28, 706, 255, 48, 46, 426, 1116, 955, 2, 198, 9232, 376, 36106, 318, 1554, 6580, 17535, 74626, 74626, 174899, 9140, 858, 342, 364, 2874, 1866, 428, 4440, 110, 17580, 4896, 4704, 4704, 3463, 3463, 3463, 4488, 1349125, 1349125, 8520, 738, 102, 17327, 1841, 7843, 6747, 180284, 63547, 330, 7485, 79064, 79064, 465, 75, 44623, 114604, 114604, 72270, 97538, 863200, 20232, 507851, 1016, 1224, 6940, 4, 1388, 28212, 142954, 91448, 140, 56, 8884, 27768, 9999, 12437, 170, 756, 240551, 100, 115743, 52, 12347, 8937, 30, 72, 4395, 1246, 26166, 15224, 47871, 23405, 95751, 1090, 6405, 33347, 185582, 8437, 21356, 9105, 37927, 24437, 28760, 23347, 40921, 154, 5448, 805438, 120766, 3597, 93612, 726, 2492, 4340, 1878, 6951, 7334, 238, 672, 51345, 3008, 798, 33647, 1144, 15111, 17763, 2352, 852, 1308, 1563, 340, 5715, 686, 1854, 1102, 8158, 167, 73688, 264946, 264946, 12043, 12043, 3656, 474, 3118, 1559, 6969, 688, 107523, 1477, 201688, 57059, 25030, 9657, 10868, 10210, 1446, 6726, 16707, 9558, 29612, 1893, 80624, 491, 554, 732421, 39047, 13759, 7563, 42283, 25187, 17952, 86, 5044, 3364, 953, 45744, 76876, 9285, 28251, 20290, 267, 2388, 5130, 1426, 834, 5129, 1479240, 159, 206948, 14, 4893, 2389170, 36, 73, 4518, 484345, 660132, 9305, 0, 8595, 137, 465024, 48618, 9802, 27828, 486, 510387, 1069, 18216, 15, 29169, 1221, 23376, 1968, 738, 8507, 3232, 134687, 3442, 3179, 510489, 12468, 7937, 22650, 4571, 4130, 32, 18438, 11597, 67933, 176, 10802, 643, 41693, 4400, 1612, 8079, 7008, 39229, 2964, 153856, 63693, 7384, 30018, 20767, 26780, 544, 324, 12, 1206, 1566, 3563, 1198, 536, 379, 248, 6183, 42742, 42742, 52404, 268536, 17154, 2931, 6247, 560, 728, 458, 4753, 792, 0, 16667, 16667, 16667, 15064, 6094, 0, 160817, 160817, 160817, 160817, 8414, 3639, 3639, 1653, 3429, 3429, 3429, 24, 24, 24, 744, 744, 744, 36166, 36166, 143308, 43715, 19057, 32028, 3277152, 12315589, 3021831, 90051, 20474, 402, 402, 843, 1047, 7630, 46376, 66, 3008, 3008, 186, 528, 1556, 152432, 1270, 318, 170, 2597272, 58852, 372476, 294660, 174896, 60996, 9536, 1172, 2928, 72540, 9846, 3048, 154480, 15448, 3741164, 47398, 16331328, 4782, 550, 381, 148162, 2349, 25560, 37451, 170, 376720, 61217, 79837, 192710, 6083, 1630, 0, 14693, 1699809, 1039206, 0, 54, 49848, 6766, 30652, 1125, 30652, 476085, 1556, 2142, 727, 153, 244, 7688, 1215136, 10035, 71274, 71274, 13548, 13548, 229, 229, 49113, 822, 1560, 1560, 1560, 54288, 54288, 24066, 24066, 5550, 5550, 939902, 939902, 3832, 3832, 17040, 17040, 16443, 16443, 19030, 19030, 578, 578, 158310, 158310, 8676, 8676, 5784, 341, 3528, 3528, 480, 123, 504, 504, 29, 14406, 14406, 303, 64599, 406034, 6055, 105, 189863, 115646, 36, 65069, 136440, 218, 19908, 6784, 78024, 1053, 11944, 192, 85, 20267, 15512, 98158, 30, 88, 756, 92, 122, 66, 6, 48, 41202, 10086, 6341, 5581, 12730, 1883, 247780, 147407, 60934, 12413, 9546, 3648, 833, 1208, 331181, 32896, 343, 16329, 15395, 3032, 23328, 290, 58224, 2820, 9240, 324, 885584, 28144, 219, 1862028, 6660, 773, 370, 688, 6, 660, 288, 29415, 6712, 463, 3378, 7, 55, 23, 29645, 13152, 3952, 193, 14, 1088, 246, 442, 40, 54, 2916, 16146, 132, 178, 188, 1, 0, 6, 11, 5, 16, 18, 2, 22, 32, 7322, 778, 102, 18689, 17928, 17904, 43281, 17880, 876, 17910, 591030, 163350, 46008, 25115, 470191, 631, 3, 45360, 1848, 1644, 103534, 19600, 6728, 21703, 12647, 1200, 54398, 13870, 8810, 257058, 28345, 32434, 42748, 1820, 1758, 4236, 6400, 270, 24, 12, 810, 379834, 1871, 76452, 664, 170238, 2406, 0, 39, 34, 35, 1973, 989, 445, 7414, 27002, 1705, 213570, 145750, 6625, 442, 1804, 1718617, 670148, 81, 346, 337296, 4020, 349, 32886, 19, 57, 326, 390, 152910, 175, 127, 1272, 3180, 11079, 1989, 2631, 11487, 204, 104340, 2826, 91560, 12395664, 48, 494703, 0, 5397, 400, 1342, 77, 2612, 600, 282, 171153, 171153, 466733, 466733, 7245, 193032, 254, 192, 1306, 1680, 0, 261177, 40, 21, 6875, 94163, 15952, 15952, 92890, 166, 7651, 3900, 99, 23192, 710, 13, 0, 674, 286, 4800, 1600, 2775, 219825, 444717, 444717, 702, 2086, 48619, 745, 7794, 559, 296, 171, 24456, 1510, 365986, 67935, 3292130, 0, 10, 1, 503496, 0, 45882, 1182, 1188, 225, 49617, 43557, 86, 82484, 300, 298, 966, 758, 17, 5760, 7212, 6868, 164, 20, 112, 677507, 226138, 1411248, 17292, 9130, 131225, 254562, 1236, 25, 28254, 127292, 134231, 58, 11970, 3693, 4452, 219, 656, 0, 171, 6033, 40, 203856, 8286, 409728, 778, 664, 530, 100, 471, 295743, 20, 804, 127, 1989, 293, 2118, 1203, 2406, 118, 118, 23548, 5540, 36, 153, 406298, 406298, 438192, 107699, 107699, 1496, 198, 512801, 512801, 21488, 7373, 31, 35, 6, 79848, 1200, 3606, 51, 18054, 1742, 218400, 49416, 35352, 2946, 8838, 44, 30, 1444, 2312, 3289, 24, 6, 0, 0, 2589, 0, 0, 1400, 67, 204, 1996, 6376, 288, 0, 380, 46, 2312, 1798, 3240, 24, 4, 12899, 8171, 63, 252, 84, 68, 1884, 2204, 792, 7, 37, 5577, 203, 73, 70, 18801, 58196, 58196, 1077, 21136, 5544, 41115, 142, 142, 106, 5050, 123, 84, 66, 0, 1294, 4080, 166, 0, 10047, 0, 152, 32000, 103, 588, 1653, 2543, 97, 1156, 2160, 4060, 12, 718, 129948, 158, 84, 45, 780, 4756, 16451, 2745, 2326, 59920, 780, 780, 6978, 568, 148, 0, 448, 2596, 2664, 4244, 472, 2502, 5, 499, 2028, 604, 2015, 30160, 285, 198, 138, 306, 759, 61, 3472, 690, 81, 2395, 1596, 1114, 46, 218724, 5390, 1078, 276929, 11753, 0, 57400, 7540, 10815, 3435, 3435, 37961, 37961, 2065, 4140, 73, 714, 102, 0, 1120, 1120, 1120, 195, 195, 195, 20732, 20732, 149, 253, 91, 7556, 12376, 2896, 3585, 3585, 10942, 10942, 363, 363, 396, 298, 10, 0, 67, 3521, 2138, 2292, 3755, 956, 1640, 2129424, 14097, 871098, 1552, 81855, 325, 6897, 75126, 12995, 344, 208, 60, 266798, 375, 29588, 277410, 16261, 69650, 32319, 271744, 76, 451, 270, 188641, 188, 1470, 1050, 21126, 3521, 3207, 1069, 0, 986, 2400, 1086, 98, 782, 7067, 1188, 39186, 2522, 463, 2840, 427, 138, 1704, 54, 547, 547, 268, 82, 3654, 6425, 6425, 20724, 20724, 54648, 54648, 180, 126, 180, 45960, 45960, 126, 48924, 715, 7552, 280, 3460, 3178, 1328, 2656, 2898, 306, 371, 20394, 162, 634, 10, 1, 1, 468, 1, 0, 0, 9879, 42, 23946, 570, 272, 1506, 960, 9462, 46858, 2218, 2928, 194, 13185, 13185, 13185, 290851, 290851, 290851, 9417, 9417, 9365, 5233, 9365, 1288, 56, 5008, 27544, 27544, 3297, 97230, 3776, 2142, 94, 150, 286, 5, 560, 0, 0, 560, 51, 2688, 20460, 20460, 82, 170, 82, 970, 170, 1359, 1359, 8111, 8111, 14604, 14604, 14604, 1408, 3206, 3206, 3206, 3206, 1716, 434, 48183, 7050, 146, 693, 373, 1761, 3130, 123, 79, 5988, 16943, 2983313, 2983313, 89082, 89082, 2208, 2208, 18920, 18920, 4875, 128, 5622, 18381, 18381, 23308, 24508, 24508, 438, 37, 1616, 0, 0, 286, 244, 138, 128163, 189, 61678, 9873, 34190, 34190, 3510, 512, 31344, 2849, 0, 0, 18, 3, 86, 8492, 1088, 318, 6348, 43, 1040, 133, 14710, 10219, 8190, 6976, 1744, 73, 1046, 1161, 1609, 133, 119, 169, 2420, 297, 328, 1335, 2410, 13, 162, 254, 124, 224, 172, 3411, 112, 426, 78, 57, 8028, 470, 1602, 575, 1233, 4250, 1700, 896, 824, 187, 2308, 7048, 5274, 1288, 332, 332, 332, 2083, 959, 959, 805, 501, 501, 422, 422, 675, 2528, 1579, 1579, 2294, 2294, 48, 48, 0, 0, 0, 0, 11265, 11265, 207, 207, 207, 0, 0, 0, 108, 21833, 0, 4150, 0, 4150, 94, 94, 0, 56, 274, 198, 264, 207, 190, 190, 0, 0, 170, 13245, 674, 85, 1329, 2520, 304, 466, 287, 2028, 12, 631, 376, 478, 246, 12, 135, 6027, 576, 1466, 174, 71, 414, 160, 788, 132, 1728, 1116, 1116, 0, 0, 782, 782, 391, 391, 116, 7815, 5586, 16694, 1120, 5, 12025, 8040, 9175, 2340, 567, 590, 1, 1014, 866, 6062, 0, 1346166, 1204, 24738, 141, 3, 1088, 203, 1652, 238, 238, 1463, 826, 2520, 52, 937, 4690, 1848, 57, 864, 230, 505507, 505507, 6112, 14558, 14558, 4554, 1173, 48637, 27729, 50, 20, 1470, 74, 11095, 18230, 487, 23408, 4438, 94982, 1059, 82248, 14320, 41895, 3095, 94, 496, 295, 1793, 1990, 602, 2085, 184, 190, 289, 300, 100, 38560, 2890, 0, 43940, 21, 15736, 21, 15736, 0, 0, 2220, 2180, 2180, 3902, 492, 304, 971, 982, 70, 234, 192, 345, 12, 28, 51, 10, 0, 0, 45, 0, 0, 12, 0, 0, 138, 0, 56, 45520, 708, 39, 640, 1646, 66, 308, 18746, 580, 241, 4842, 30, 1488, 0, 43471, 1314, 1484, 13, 48, 68, 64, 2895, 4816, 17, 0, 46944, 4022, 22040, 7798, 35729, 282, 25120, 556, 84, 10112, 10112, 10112, 2718, 2718, 2718, 52, 1185597, 58161092, 80, 174, 63936, 602, 1965, 4922, 0, 130, 357, 28, 47673, 443, 5516, 165, 2741, 3086, 3342, 5490, 681, 1028, 1227, 5039, 5039, 2190, 2190, 46228, 46228, 23352, 23352, 64, 64, 31536, 6932, 31536, 6932, 770, 770, 83, 5496, 7142, 644, 83, 5496, 7142, 220, 4023, 4023, 75, 205, 75, 0, 460, 585, 1519, 54831, 54831, 168, 2704, 2704, 2311, 165, 81, 1131, 78, 3949, 270, 9408, 9408, 9408, 148074, 148074, 148074, 33402, 33402, 33402, 3269, 3570, 60, 3269, 40608, 3570, 40608, 60, 40608, 108931, 3570, 108931, 108931, 3047, 2893, 0, 0, 0, 21725, 21725, 21725, 21725, 0, 1212, 1212, 685, 685, 685, 41730, 41730, 1783, 362, 349, 198, 38544, 2139, 104, 4912, 15752, 1178, 1216, 31419, 494, 1353, 576, 1920, 193, 1764, 139, 31800, 10, 16, 6552, 6552, 3276, 3276, 2396, 266, 154769, 81141, 1380, 0, 168, 1953, 111, 76, 1920, 1920, 682, 572, 290, 462, 37770, 2151, 416, 2028510, 2028510, 16, 0, 0, 16, 186, 3404, 65, 107, 32, 3858, 115, 236, 320, 33332, 5733, 125, 0, 9408, 17809, 322, 1886, 2042, 324, 8, 134, 171, 7, 72, 0, 5717, 29233, 22737, 16, 9710, 932, 932, 13, 8396, 8396, 0, 3349, 390, 1771743, 1771743, 2285, 300, 1204, 22212, 520, 256, 387, 23427, 387, 0, 4848, 432, 3881, 3881, 6263, 6263, 1548, 25264, 120, 282, 1356, 113, 10029, 3343, 6686, 3343, 3072, 0, 0, 80, 972, 57, 320, 45468, 35696, 320, 354674, 7532, 653886, 2709, 202, 21750, 674, 5220, 28, 8622, 0, 288, 58, 753, 0, 12, 55, 62, 629, 1498, 1472, 5013, 272, 23130, 23130, 94732, 94732, 2125, 0, 118680, 597, 3696, 315, 4, 1176, 17878, 5280, 1130, 1398, 15430, 15579, 2043, 2043, 0, 0, 751, 751, 5464, 7496, 7496, 38652, 0, 2240, 1962, 1525, 3948, 201, 13245, 682, 30238, 24248, 24248, 362, 14220, 64, 95658, 16196, 24046, 63780, 1292, 91601, 91601, 10, 48, 48, 1533, 4271, 13293, 50, 1821, 1821, 1404, 0, 0, 11512, 53971, 4266, 711, 16324, 1605, 235, 0, 12295, 2459, 2459, 12295, 1291, 1510, 1510, 1125, 50352, 735, 2208, 110, 342, 812, 1855, 1796, 957, 3612, 39076, 40872, 16704, 14648, 1875, 51, 218, 468, 468, 114970, 12350, 0, 1, 8775, 800, 663, 12697, 8, 1147, 39, 325, 5214, 5214, 17380, 17380, 17, 55, 0, 1413, 16492, 35374, 3243, 22610, 33288, 33288, 434, 62, 66, 3735, 3735, 58336, 177, 2000, 641, 104, 3140, 1678456, 740, 134, 3853, 2526, 1716, 16, 462, 96, 186, 4, 13, 2356, 2356, 3501, 2356, 311842, 39, 55902, 3501, 189, 10, 2634, 4960, 3501, 441045, 13131, 380, 0, 2, 25, 186084, 38, 525, 21660, 662, 6776, 5208, 127, 638, 217, 1206, 48, 133, 653, 7617, 473, 135020, 78847, 3778, 1080, 13502, 1854, 3621, 544, 20, 4497, 595, 4497, 272, 44443, 324607, 26508, 0, 3778, 640, 10, 3944, 1632, 790725, 0, 14, 104718, 1218, 36180, 267, 4352, 1232, 40584, 199, 199, 100, 93102, 1676, 93102, 170322, 564, 426, 5040, 1189, 7658, 6994, 6329, 777, 520531, 33686, 630, 44883, 198, 24565, 268542, 17, 158235, 5682, 3200, 2651, 87, 308, 15, 0, 126615, 15, 172492, 515, 267, 8256, 64, 58776, 4443, 280, 132, 248, 1792, 101, 5382, 4140, 115, 113, 2322, 88138, 115, 3120, 52325, 4846, 132, 1314, 322947, 3862, 121, 2789, 12824, 72, 4140, 1661, 138, 9692, 12, 1317, 33, 7587, 0, 0, 8016, 43227, 2469, 1470, 1018, 43, 2220, 347, 1722, 24, 131, 61, 1024, 341, 237, 2414, 599, 36, 1216, 1077, 3558, 122, 19377, 56, 15687, 73551, 1018, 10041, 24843, 54, 2811, 108, 5090, 4, 108, 4, 13076, 149, 5088, 7, 735, 5088, 2036, 42, 3781, 18201, 42, 80932, 476, 0, 1914, 1674, 1212, 2864549, 6279, 585864, 55842, 5830, 144723, 144723, 2392, 284, 48, 75742, 25116, 1646, 886, 46, 2289, 32548, 2289, 135, 33248, 489, 8726, 2348, 1892, 265, 540, 3684, 88246, 832, 625, 7260, 462, 121, 10, 13524, 65776, 1089, 93219, 6280, 11403, 306128, 1815, 540, 4439, 4714, 28, 1325, 0, 88, 869, 0, 47150, 2402, 143, 63, 12140, 10217, 288, 0, 171, 1788, 1406, 42, 60, 689, 28, 20482, 114, 94, 1200, 22099, 432, 1343, 29714, 62701, 1343, 32018, 2546, 2546, 911, 18612, 2457, 12, 29481, 18612, 61, 11829, 0, 864, 3330, 9957, 38144, 2366, 398383, 2, 5039, 16626, 0, 840, 3828, 1592, 79, 179, 6005, 146027, 87240, 21810, 94, 906, 1635, 132110, 589, 4422, 749, 345, 27776, 53, 59, 18015, 27432, 28754, 6005, 169, 79179, 79179, 0, 169, 249756, 14324, 115818, 134050, 3564, 1202, 18, 1202, 6845, 2610, 1974, 545, 1069, 240574, 143, 4060, 214, 41760, 233, 700394, 44660, 402300, 12272, 476, 540, 800, 168476, 8617, 8120, 2610, 315619, 1355928, 36, 1517348, 1555190, 888680, 444340, 613396, 1640640, 742532, 127542, 957040, 451976, 613396, 177562, 683600, 1709000, 18144, 1097656, 734870, 717780, 726456, 18144, 2544, 403550, 546880, 1196300, 613396, 629538, 871590, 1372070, 922860, 613396, 222170, 3423, 338, 7079, 52, 507328, 4911, 66242, 100, 3924, 270692, 2966, 281120, 444, 40152, 18786, 1038, 324, 27148, 113, 80, 16044, 37232, 1415, 46770, 156, 7316, 46, 7675, 116333, 226, 151584, 134, 84, 48, 216, 0, 280, 600, 32, 208, 110, 113, 421, 222, 25, 130, 114, 45, 55, 183, 96, 48, 42960, 132, 46976, 333, 104, 150, 61, 112, 288, 6, 98, 105696, 306, 248, 452, 210, 6876, 206, 144, 104, 600, 600, 58, 57, 160, 34368, 92, 346, 210, 11460, 549, 50, 600, 320, 0, 226, 130, 280, 54, 292, 124, 420, 100, 174, 114, 411, 77, 312, 123, 366, 228, 11456, 11744, 123, 160, 111, 202, 306, 216, 201, 104, 28, 8379, 37232, 17184, 5872, 123, 6, 112, 216, 373371, 171, 6, 312, 369, 51, 114, 900, 1550, 46, 101, 51, 8592, 11456, 183, 146, 84, 222, 37232, 4588, 108, 58, 346, 226, 150, 310, 9666, 1468, 48330, 61, 218, 13, 60, 336, 41, 62, 5728, 165, 27, 74, 37, 134, 113, 320, 137, 492, 700, 14320, 17184, 128, 0, 226, 198, 224, 92, 252, 18752, 114, 61, 41104, 9164, 47, 456, 492, 23, 97, 108, 36672, 282, 178, 25, 5728, 64, 47, 108, 86, 198, 28, 210, 52, 64, 56, 25, 465, 126, 1, 0, 0, 55, 101, 4584, 0, 16, 16, 63, 64, 0, 80, 5872, 48, 122, 36, 80, 54, 120, 64, 153, 135, 0, 41, 50, 18336, 423, 27, 5872, 33, 57, 83, 17, 99, 11, 122, 80, 72, 41, 86, 6444, 466, 37, 74, 36, 160, 140, 0, 28, 246, 95, 310, 114, 164, 68, 20, 370, 150, 70, 111, 492, 25, 366, 103, 54, 0, 50, 90, 45, 104, 36, 11460, 27, 33, 104, 54, 46, 226, 41, 20, 78, 244, 22, 6876, 35, 28, 23488, 5872, 154, 185, 322, 82, 137, 23, 141, 60, 192, 198, 198, 54, 84, 22, 43, 22, 22, 40, 67, 41256, 40, 96, 0, 28, 762, 29, 104, 27504, 35, 74, 114, 35442, 233, 198, 40, 306, 34, 320, 12, 222, 29, 22, 62, 178, 54, 64, 29, 150, 41, 51, 39, 129, 19, 26, 140, 1, 90, 208, 60, 3003, 21, 699, 77, 84, 113, 104, 20, 61, 196, 36, 108, 160, 46, 59, 285, 72, 41, 25, 17, 35, 123, 51, 150, 13752, 25, 6444, 1165, 42, 27, 37, 41, 218, 118, 56, 114, 21, 43, 77, 322, 222, 218, 32, 22920, 150, 34, 82, 28, 113, 104, 185, 66, 322, 92, 156, 111, 485, 0, 23, 75, 25, 26, 42, 19, 22, 34, 249, 25, 1, 190, 141, 114, 328, 33, 111, 100, 11, 64, 20, 16044, 34, 0, 108, 26, 135, 100, 29, 25, 35442, 3495, 6489, 6489, 6489, 31887, 2995, 4165, 17269, 10269, 2511009, 121, 8052, 4452, 211, 4401, 1298, 510, 15912, 68, 148, 1775, 24932, 2916, 1775, 1775, 60352, 211, 211, 65005, 7584, 2995, 562688, 2995, 83860, 490, 773696, 686322, 58541, 369264, 58541, 50828, 1125376, 915096, 50828, 1707006, 1390242, 1301216, 404432, 369558, 263760, 1214262, 492744, 327960, 1266070, 492744, 668192, 615440, 1267056, 439950, 386848, 915096, 2628, 404754, 386848, 633528, 182637, 738528, 791280, 545538, 2012, 2012, 27209, 2012, 1527059, 6399, 1705, 1194, 4466, 33386, 5050, 75, 309, 596, 23, 1784, 2575, 2635, 15810, 12516, 9180, 23486, 406686, 229866, 194502, 9345, 512809, 457886, 194502, 9727, 211332, 651607, 669218, 2549, 387442, 618870, 318276, 281776, 528330, 32914, 70728, 247548, 405053, 88410, 369831, 159138, 13903, 282912, 0, 733, 123774, 282912, 862939, 62442, 440275, 334609, 123277, 11715, 52833, 0, 1577, 0, 150, 7574, 124, 104, 333482, 144024, 147, 252, 83247, 79080, 90888, 692303, 1808, 29984, 3078, 292600, 52063, 45444, 102, 65, 7574, 7636, 910, 156, 18633, 254, 313, 72, 57, 1915, 32, 11025, 195, 39, 56828, 8687, 195, 10, 124644, 178080, 78, 55060, 8, 8, 156, 1, 128625, 426, 1, 4442, 834387, 1204, 8160, 428, 124, 1124, 54, 954, 114996, 60399, 8160, 106, 57120, 189167, 212, 213564, 476412, 53075, 97932, 328560, 180708, 261152, 179542, 146898, 669259, 571270, 293796, 410700, 262848, 571270, 114996, 762, 106, 97932, 279276, 293947, 164280, 19698, 326440, 130576, 375406, 293796, 130576, 295704, 195840, 114996, 229992, 3102, 49284, 736, 10, 20958, 2001740, 9849, 1484, 270773, 556, 391, 8862, 248, 482601, 142, 90, 7572, 129980, 1262, 88641, 9849, 1306080, 14986, 1505620, 832554, 562340, 742059, 91877, 1596320, 84, 1990965, 380079, 1140237, 961420, 62041, 399080, 495, 1414920, 3801, 2067969, 1973644, 1940980, 1954692, 120947, 16928, 580480, 1466019, 1961, 633465, 888860, 1610811, 562340, 1321227, 1251660, 1357425, 1375524, 634900, 1104039, 687762, 7900, 0], \"y0\": \" \", \"yaxis\": \"y\"}],\n",
       "                        {\"boxmode\": \"group\", \"legend\": {\"tracegroupgap\": 0}, \"margin\": {\"t\": 60}, \"template\": {\"data\": {\"bar\": [{\"error_x\": {\"color\": \"#2a3f5f\"}, \"error_y\": {\"color\": \"#2a3f5f\"}, \"marker\": {\"line\": {\"color\": \"#E5ECF6\", \"width\": 0.5}}, \"type\": \"bar\"}], \"barpolar\": [{\"marker\": {\"line\": {\"color\": \"#E5ECF6\", \"width\": 0.5}}, \"type\": \"barpolar\"}], \"carpet\": [{\"aaxis\": {\"endlinecolor\": \"#2a3f5f\", \"gridcolor\": \"white\", \"linecolor\": \"white\", \"minorgridcolor\": \"white\", \"startlinecolor\": \"#2a3f5f\"}, \"baxis\": {\"endlinecolor\": \"#2a3f5f\", \"gridcolor\": \"white\", \"linecolor\": \"white\", \"minorgridcolor\": \"white\", \"startlinecolor\": \"#2a3f5f\"}, \"type\": \"carpet\"}], \"choropleth\": [{\"colorbar\": {\"outlinewidth\": 0, \"ticks\": \"\"}, \"type\": \"choropleth\"}], \"contour\": [{\"colorbar\": {\"outlinewidth\": 0, \"ticks\": \"\"}, \"colorscale\": [[0.0, \"#0d0887\"], [0.1111111111111111, \"#46039f\"], [0.2222222222222222, \"#7201a8\"], [0.3333333333333333, \"#9c179e\"], [0.4444444444444444, \"#bd3786\"], [0.5555555555555556, \"#d8576b\"], [0.6666666666666666, \"#ed7953\"], [0.7777777777777778, \"#fb9f3a\"], [0.8888888888888888, \"#fdca26\"], [1.0, \"#f0f921\"]], \"type\": \"contour\"}], \"contourcarpet\": [{\"colorbar\": {\"outlinewidth\": 0, \"ticks\": \"\"}, \"type\": \"contourcarpet\"}], \"heatmap\": [{\"colorbar\": {\"outlinewidth\": 0, \"ticks\": \"\"}, \"colorscale\": [[0.0, \"#0d0887\"], [0.1111111111111111, \"#46039f\"], [0.2222222222222222, \"#7201a8\"], [0.3333333333333333, \"#9c179e\"], [0.4444444444444444, \"#bd3786\"], [0.5555555555555556, \"#d8576b\"], [0.6666666666666666, \"#ed7953\"], [0.7777777777777778, \"#fb9f3a\"], [0.8888888888888888, \"#fdca26\"], [1.0, \"#f0f921\"]], \"type\": \"heatmap\"}], \"heatmapgl\": [{\"colorbar\": {\"outlinewidth\": 0, \"ticks\": \"\"}, \"colorscale\": [[0.0, \"#0d0887\"], [0.1111111111111111, \"#46039f\"], [0.2222222222222222, \"#7201a8\"], [0.3333333333333333, \"#9c179e\"], [0.4444444444444444, \"#bd3786\"], [0.5555555555555556, \"#d8576b\"], [0.6666666666666666, \"#ed7953\"], [0.7777777777777778, \"#fb9f3a\"], [0.8888888888888888, \"#fdca26\"], [1.0, \"#f0f921\"]], \"type\": \"heatmapgl\"}], \"histogram\": [{\"marker\": {\"colorbar\": {\"outlinewidth\": 0, \"ticks\": \"\"}}, \"type\": \"histogram\"}], \"histogram2d\": [{\"colorbar\": {\"outlinewidth\": 0, \"ticks\": \"\"}, \"colorscale\": [[0.0, \"#0d0887\"], [0.1111111111111111, \"#46039f\"], [0.2222222222222222, \"#7201a8\"], [0.3333333333333333, \"#9c179e\"], [0.4444444444444444, \"#bd3786\"], [0.5555555555555556, \"#d8576b\"], [0.6666666666666666, \"#ed7953\"], [0.7777777777777778, \"#fb9f3a\"], [0.8888888888888888, \"#fdca26\"], [1.0, \"#f0f921\"]], \"type\": \"histogram2d\"}], \"histogram2dcontour\": [{\"colorbar\": {\"outlinewidth\": 0, \"ticks\": \"\"}, \"colorscale\": [[0.0, \"#0d0887\"], [0.1111111111111111, \"#46039f\"], [0.2222222222222222, \"#7201a8\"], [0.3333333333333333, \"#9c179e\"], [0.4444444444444444, \"#bd3786\"], [0.5555555555555556, \"#d8576b\"], [0.6666666666666666, \"#ed7953\"], [0.7777777777777778, \"#fb9f3a\"], [0.8888888888888888, \"#fdca26\"], [1.0, \"#f0f921\"]], \"type\": \"histogram2dcontour\"}], \"mesh3d\": [{\"colorbar\": {\"outlinewidth\": 0, \"ticks\": \"\"}, \"type\": \"mesh3d\"}], \"parcoords\": [{\"line\": {\"colorbar\": {\"outlinewidth\": 0, \"ticks\": \"\"}}, \"type\": \"parcoords\"}], \"pie\": [{\"automargin\": true, \"type\": \"pie\"}], \"scatter\": [{\"marker\": {\"colorbar\": {\"outlinewidth\": 0, \"ticks\": \"\"}}, \"type\": \"scatter\"}], \"scatter3d\": [{\"line\": {\"colorbar\": {\"outlinewidth\": 0, \"ticks\": \"\"}}, \"marker\": {\"colorbar\": {\"outlinewidth\": 0, \"ticks\": \"\"}}, \"type\": \"scatter3d\"}], \"scattercarpet\": [{\"marker\": {\"colorbar\": {\"outlinewidth\": 0, \"ticks\": \"\"}}, \"type\": \"scattercarpet\"}], \"scattergeo\": [{\"marker\": {\"colorbar\": {\"outlinewidth\": 0, \"ticks\": \"\"}}, \"type\": \"scattergeo\"}], \"scattergl\": [{\"marker\": {\"colorbar\": {\"outlinewidth\": 0, \"ticks\": \"\"}}, \"type\": \"scattergl\"}], \"scattermapbox\": [{\"marker\": {\"colorbar\": {\"outlinewidth\": 0, \"ticks\": \"\"}}, \"type\": \"scattermapbox\"}], \"scatterpolar\": [{\"marker\": {\"colorbar\": {\"outlinewidth\": 0, \"ticks\": \"\"}}, \"type\": \"scatterpolar\"}], \"scatterpolargl\": [{\"marker\": {\"colorbar\": {\"outlinewidth\": 0, \"ticks\": \"\"}}, \"type\": \"scatterpolargl\"}], \"scatterternary\": [{\"marker\": {\"colorbar\": {\"outlinewidth\": 0, \"ticks\": \"\"}}, \"type\": \"scatterternary\"}], \"surface\": [{\"colorbar\": {\"outlinewidth\": 0, \"ticks\": \"\"}, \"colorscale\": [[0.0, \"#0d0887\"], [0.1111111111111111, \"#46039f\"], [0.2222222222222222, \"#7201a8\"], [0.3333333333333333, \"#9c179e\"], [0.4444444444444444, \"#bd3786\"], [0.5555555555555556, \"#d8576b\"], [0.6666666666666666, \"#ed7953\"], [0.7777777777777778, \"#fb9f3a\"], [0.8888888888888888, \"#fdca26\"], [1.0, \"#f0f921\"]], \"type\": \"surface\"}], \"table\": [{\"cells\": {\"fill\": {\"color\": \"#EBF0F8\"}, \"line\": {\"color\": \"white\"}}, \"header\": {\"fill\": {\"color\": \"#C8D4E3\"}, \"line\": {\"color\": \"white\"}}, \"type\": \"table\"}]}, \"layout\": {\"annotationdefaults\": {\"arrowcolor\": \"#2a3f5f\", \"arrowhead\": 0, \"arrowwidth\": 1}, \"coloraxis\": {\"colorbar\": {\"outlinewidth\": 0, \"ticks\": \"\"}}, \"colorscale\": {\"diverging\": [[0, \"#8e0152\"], [0.1, \"#c51b7d\"], [0.2, \"#de77ae\"], [0.3, \"#f1b6da\"], [0.4, \"#fde0ef\"], [0.5, \"#f7f7f7\"], [0.6, \"#e6f5d0\"], [0.7, \"#b8e186\"], [0.8, \"#7fbc41\"], [0.9, \"#4d9221\"], [1, \"#276419\"]], \"sequential\": [[0.0, \"#0d0887\"], [0.1111111111111111, \"#46039f\"], [0.2222222222222222, \"#7201a8\"], [0.3333333333333333, \"#9c179e\"], [0.4444444444444444, \"#bd3786\"], [0.5555555555555556, \"#d8576b\"], [0.6666666666666666, \"#ed7953\"], [0.7777777777777778, \"#fb9f3a\"], [0.8888888888888888, \"#fdca26\"], [1.0, \"#f0f921\"]], \"sequentialminus\": [[0.0, \"#0d0887\"], [0.1111111111111111, \"#46039f\"], [0.2222222222222222, \"#7201a8\"], [0.3333333333333333, \"#9c179e\"], [0.4444444444444444, \"#bd3786\"], [0.5555555555555556, \"#d8576b\"], [0.6666666666666666, \"#ed7953\"], [0.7777777777777778, \"#fb9f3a\"], [0.8888888888888888, \"#fdca26\"], [1.0, \"#f0f921\"]]}, \"colorway\": [\"#636efa\", \"#EF553B\", \"#00cc96\", \"#ab63fa\", \"#FFA15A\", \"#19d3f3\", \"#FF6692\", \"#B6E880\", \"#FF97FF\", \"#FECB52\"], \"font\": {\"color\": \"#2a3f5f\"}, \"geo\": {\"bgcolor\": \"white\", \"lakecolor\": \"white\", \"landcolor\": \"#E5ECF6\", \"showlakes\": true, \"showland\": true, \"subunitcolor\": \"white\"}, \"hoverlabel\": {\"align\": \"left\"}, \"hovermode\": \"closest\", \"mapbox\": {\"style\": \"light\"}, \"paper_bgcolor\": \"white\", \"plot_bgcolor\": \"#E5ECF6\", \"polar\": {\"angularaxis\": {\"gridcolor\": \"white\", \"linecolor\": \"white\", \"ticks\": \"\"}, \"bgcolor\": \"#E5ECF6\", \"radialaxis\": {\"gridcolor\": \"white\", \"linecolor\": \"white\", \"ticks\": \"\"}}, \"scene\": {\"xaxis\": {\"backgroundcolor\": \"#E5ECF6\", \"gridcolor\": \"white\", \"gridwidth\": 2, \"linecolor\": \"white\", \"showbackground\": true, \"ticks\": \"\", \"zerolinecolor\": \"white\"}, \"yaxis\": {\"backgroundcolor\": \"#E5ECF6\", \"gridcolor\": \"white\", \"gridwidth\": 2, \"linecolor\": \"white\", \"showbackground\": true, \"ticks\": \"\", \"zerolinecolor\": \"white\"}, \"zaxis\": {\"backgroundcolor\": \"#E5ECF6\", \"gridcolor\": \"white\", \"gridwidth\": 2, \"linecolor\": \"white\", \"showbackground\": true, \"ticks\": \"\", \"zerolinecolor\": \"white\"}}, \"shapedefaults\": {\"line\": {\"color\": \"#2a3f5f\"}}, \"ternary\": {\"aaxis\": {\"gridcolor\": \"white\", \"linecolor\": \"white\", \"ticks\": \"\"}, \"baxis\": {\"gridcolor\": \"white\", \"linecolor\": \"white\", \"ticks\": \"\"}, \"bgcolor\": \"#E5ECF6\", \"caxis\": {\"gridcolor\": \"white\", \"linecolor\": \"white\", \"ticks\": \"\"}}, \"title\": {\"x\": 0.05}, \"xaxis\": {\"automargin\": true, \"gridcolor\": \"white\", \"linecolor\": \"white\", \"ticks\": \"\", \"title\": {\"standoff\": 15}, \"zerolinecolor\": \"white\", \"zerolinewidth\": 2}, \"yaxis\": {\"automargin\": true, \"gridcolor\": \"white\", \"linecolor\": \"white\", \"ticks\": \"\", \"title\": {\"standoff\": 15}, \"zerolinecolor\": \"white\", \"zerolinewidth\": 2}}}, \"xaxis\": {\"anchor\": \"y\", \"domain\": [0.0, 1.0], \"title\": {\"text\": \"device_category\"}}, \"yaxis\": {\"anchor\": \"x\", \"domain\": [0.0, 1.0], \"title\": {\"text\": \"total_session_duration\"}}},\n",
       "                        {\"responsive\": true}\n",
       "                    ).then(function(){\n",
       "                            \n",
       "var gd = document.getElementById('658dff7c-ab15-4286-ac25-8e09c67a28c1');\n",
       "var x = new MutationObserver(function (mutations, observer) {{\n",
       "        var display = window.getComputedStyle(gd).display;\n",
       "        if (!display || display === 'none') {{\n",
       "            console.log([gd, 'removed!']);\n",
       "            Plotly.purge(gd);\n",
       "            observer.disconnect();\n",
       "        }}\n",
       "}});\n",
       "\n",
       "// Listen for the removal of the full notebook cells\n",
       "var notebookContainer = gd.closest('#notebook-container');\n",
       "if (notebookContainer) {{\n",
       "    x.observe(notebookContainer, {childList: true});\n",
       "}}\n",
       "\n",
       "// Listen for the clearing of the current output cell\n",
       "var outputEl = gd.closest('.output');\n",
       "if (outputEl) {{\n",
       "    x.observe(outputEl, {childList: true});\n",
       "}}\n",
       "\n",
       "                        })\n",
       "                };\n",
       "                \n",
       "            </script>\n",
       "        </div>\n",
       "</body>\n",
       "</html>"
      ]
     },
     "metadata": {
      "tags": []
     },
     "output_type": "display_data"
    }
   ],
   "source": [
    "fig = px.box(df1, x ='device_category', y = 'total_session_duration')\n",
    "fig.show(renderer=\"colab\")"
   ]
  },
  {
   "cell_type": "markdown",
   "metadata": {
    "id": "jihUMlVlm8b4"
   },
   "source": [
    "#### Carrying out ANOVA testing to determine existence of correlation or not?"
   ]
  },
  {
   "cell_type": "code",
   "execution_count": 124,
   "metadata": {
    "colab": {
     "base_uri": "https://localhost:8080/"
    },
    "executionInfo": {
     "elapsed": 371,
     "status": "ok",
     "timestamp": 1628406006974,
     "user": {
      "displayName": "Kuber Shahi",
      "photoUrl": "",
      "userId": "04157404054756166055"
     },
     "user_tz": -345
    },
    "id": "LR1uoOBSQXUN",
    "outputId": "14a56876-9890-4d6f-da9b-8b8514108cdd"
   },
   "outputs": [
    {
     "name": "stdout",
     "output_type": "stream",
     "text": [
      "['desktop' 'mobile' 'tablet']\n"
     ]
    }
   ],
   "source": [
    "grps = pd.unique(df1.device_category)\n",
    "print(grps)\n",
    "data_groups = {grp:df1['total_session_duration'][df1['device_category']==grp] for grp in grps}"
   ]
  },
  {
   "cell_type": "code",
   "execution_count": 125,
   "metadata": {
    "colab": {
     "base_uri": "https://localhost:8080/"
    },
    "executionInfo": {
     "elapsed": 365,
     "status": "ok",
     "timestamp": 1628406010107,
     "user": {
      "displayName": "Kuber Shahi",
      "photoUrl": "",
      "userId": "04157404054756166055"
     },
     "user_tz": -345
    },
    "id": "iEGZ0rFXQXW2",
    "outputId": "32761fc2-c393-4e1b-c14d-6e72000f10af"
   },
   "outputs": [
    {
     "name": "stdout",
     "output_type": "stream",
     "text": [
      "3\n",
      "3764\n",
      "{'desktop': 2255, 'mobile': 1430, 'tablet': 79}\n"
     ]
    }
   ],
   "source": [
    "k = len(grps)                                # number of independent comaparison groups\n",
    "print(k)\n",
    "N = len(df1.values)                          # total number of samples\n",
    "print(N)\n",
    "\n",
    "# n = df1.groupby('device_category')['total_session_duration'].nunique()\n",
    "n = dict(df1.groupby('device_category').size()) # number of samples in each group\n",
    "print(n)"
   ]
  },
  {
   "cell_type": "code",
   "execution_count": 126,
   "metadata": {
    "colab": {
     "base_uri": "https://localhost:8080/"
    },
    "executionInfo": {
     "elapsed": 436,
     "status": "ok",
     "timestamp": 1628406012844,
     "user": {
      "displayName": "Kuber Shahi",
      "photoUrl": "",
      "userId": "04157404054756166055"
     },
     "user_tz": -345
    },
    "id": "jZcwgEK2QXaL",
    "outputId": "4e6174cb-be73-4c5b-912d-3e2481bdc312"
   },
   "outputs": [
    {
     "data": {
      "text/plain": [
       "(1.422647570398177, 0.24120460879072453)"
      ]
     },
     "execution_count": 126,
     "metadata": {
      "tags": []
     },
     "output_type": "execute_result"
    }
   ],
   "source": [
    "from scipy import stats\n",
    "\n",
    "F, p = stats.f_oneway(data_groups['desktop'], data_groups['mobile'], data_groups['tablet'])\n",
    "\n",
    "F, p"
   ]
  },
  {
   "cell_type": "markdown",
   "metadata": {
    "id": "or6oxMljeGsM"
   },
   "source": [
    "Ans: Here, we have a p-value of 0.24 which is greater than 0.05 and 0.1 at 5 % and 10 % significance level. This means that the our sample statistics F isn't statistically significant to reject the nulle hypothesis and there is no correlation between screen size and total session duration both at 5% and 10 % significance level. "
   ]
  },
  {
   "cell_type": "markdown",
   "metadata": {
    "id": "BTJ6YTiu4Vc7"
   },
   "source": [
    "## Q2. This data includes three partner sites: Freim.tv, News culturacolectiva.com, and culturacolcetiva.com. Based on Page_URL on which of the three partner sites do users have longer sessions?"
   ]
  },
  {
   "cell_type": "code",
   "execution_count": 127,
   "metadata": {
    "colab": {
     "base_uri": "https://localhost:8080/"
    },
    "executionInfo": {
     "elapsed": 371,
     "status": "ok",
     "timestamp": 1628406025836,
     "user": {
      "displayName": "Kuber Shahi",
      "photoUrl": "",
      "userId": "04157404054756166055"
     },
     "user_tz": -345
    },
    "id": "5B_u2LBN4bm5",
    "outputId": "6b3df5d4-efc0-4813-bb7c-b2b88c64b1aa"
   },
   "outputs": [
    {
     "name": "stdout",
     "output_type": "stream",
     "text": [
      "(3764, 3)\n"
     ]
    }
   ],
   "source": [
    "df2 = users_data.filter(['user_id', 'traffic_source', 'total_session_duration'], axis=1)\n",
    "print(df2.shape)"
   ]
  },
  {
   "cell_type": "code",
   "execution_count": 128,
   "metadata": {
    "colab": {
     "base_uri": "https://localhost:8080/",
     "height": 206
    },
    "executionInfo": {
     "elapsed": 406,
     "status": "ok",
     "timestamp": 1628406029098,
     "user": {
      "displayName": "Kuber Shahi",
      "photoUrl": "",
      "userId": "04157404054756166055"
     },
     "user_tz": -345
    },
    "id": "1Z1ypnci6VHn",
    "outputId": "e135f1bf-6cc5-4ce0-d5fa-004e34d69ab9"
   },
   "outputs": [
    {
     "data": {
      "text/html": [
       "<div>\n",
       "<style scoped>\n",
       "    .dataframe tbody tr th:only-of-type {\n",
       "        vertical-align: middle;\n",
       "    }\n",
       "\n",
       "    .dataframe tbody tr th {\n",
       "        vertical-align: top;\n",
       "    }\n",
       "\n",
       "    .dataframe thead th {\n",
       "        text-align: right;\n",
       "    }\n",
       "</style>\n",
       "<table border=\"1\" class=\"dataframe\">\n",
       "  <thead>\n",
       "    <tr style=\"text-align: right;\">\n",
       "      <th></th>\n",
       "      <th>user_id</th>\n",
       "      <th>traffic_source</th>\n",
       "      <th>total_session_duration</th>\n",
       "    </tr>\n",
       "  </thead>\n",
       "  <tbody>\n",
       "    <tr>\n",
       "      <th>0</th>\n",
       "      <td>e3eabd43-23f3-4781-90ee-5a67e781e7e2</td>\n",
       "      <td>(direct)</td>\n",
       "      <td>2019</td>\n",
       "    </tr>\n",
       "    <tr>\n",
       "      <th>1</th>\n",
       "      <td>e4ccc0ac-71b1-4d7c-b697-f9f76f1084d0</td>\n",
       "      <td>m.facebook.com</td>\n",
       "      <td>467</td>\n",
       "    </tr>\n",
       "    <tr>\n",
       "      <th>2</th>\n",
       "      <td>815ef036-f1ee-486e-85a2-facf11df24a1</td>\n",
       "      <td>google</td>\n",
       "      <td>540</td>\n",
       "    </tr>\n",
       "    <tr>\n",
       "      <th>3</th>\n",
       "      <td>c86127fb-bc84-488a-b961-2abc5213f6fd</td>\n",
       "      <td>m.facebook.com</td>\n",
       "      <td>161</td>\n",
       "    </tr>\n",
       "    <tr>\n",
       "      <th>4</th>\n",
       "      <td>1c101e61-f3cc-4d77-8803-e27aa80f2a59</td>\n",
       "      <td>tegger.io</td>\n",
       "      <td>81</td>\n",
       "    </tr>\n",
       "  </tbody>\n",
       "</table>\n",
       "</div>"
      ],
      "text/plain": [
       "                                user_id  traffic_source  total_session_duration\n",
       "0  e3eabd43-23f3-4781-90ee-5a67e781e7e2        (direct)                    2019\n",
       "1  e4ccc0ac-71b1-4d7c-b697-f9f76f1084d0  m.facebook.com                     467\n",
       "2  815ef036-f1ee-486e-85a2-facf11df24a1          google                     540\n",
       "3  c86127fb-bc84-488a-b961-2abc5213f6fd  m.facebook.com                     161\n",
       "4  1c101e61-f3cc-4d77-8803-e27aa80f2a59       tegger.io                      81"
      ]
     },
     "execution_count": 128,
     "metadata": {
      "tags": []
     },
     "output_type": "execute_result"
    }
   ],
   "source": [
    "df2.head(5)"
   ]
  },
  {
   "cell_type": "code",
   "execution_count": 129,
   "metadata": {
    "colab": {
     "base_uri": "https://localhost:8080/"
    },
    "executionInfo": {
     "elapsed": 475,
     "status": "ok",
     "timestamp": 1628406032746,
     "user": {
      "displayName": "Kuber Shahi",
      "photoUrl": "",
      "userId": "04157404054756166055"
     },
     "user_tz": -345
    },
    "id": "pu0I-K_i6nd5",
    "outputId": "2d20783e-d0fe-484a-a264-bf5fad2b579a"
   },
   "outputs": [
    {
     "data": {
      "text/plain": [
       "tegger.io                                       1361\n",
       "(direct)                                        1222\n",
       "google                                           405\n",
       "culturacolectiva.com                             251\n",
       "news.culturacolectiva.com                        183\n",
       "freim.tv                                         145\n",
       "m.facebook.com                                    36\n",
       "l.facebook.com                                    30\n",
       "bing                                              21\n",
       "t.co                                              20\n",
       "culturacolectiva-com.cdn.ampproject.org           17\n",
       "Cultura Colectiva                                 12\n",
       "pinterest.com                                      8\n",
       "hora724.com                                        8\n",
       "taboola                                            6\n",
       "blog.propsproject.com                              4\n",
       "newsletter                                         3\n",
       "lm.facebook.com                                    2\n",
       "hu.pinterest.com                                   2\n",
       "ampproject.org                                     2\n",
       "news-staging.culturacolectiva.com                  2\n",
       "es.search.yahoo.com                                2\n",
       "news.google.com                                    2\n",
       "mymoney777.icu                                     2\n",
       "msn.com                                            1\n",
       "pinterest.ca                                       1\n",
       "ecosia.org                                         1\n",
       "mx.search.yahoo.com                                1\n",
       "tejidosacrochetpasoapaso.com                       1\n",
       "nattittorres.wixsite.com                           1\n",
       "l.instagram.com                                    1\n",
       "yahoo                                              1\n",
       "propeller                                          1\n",
       "pinterest.com.mx                                   1\n",
       "aulavirtualinmaculadaloja.edu.ec                   1\n",
       "markets.businessinsider.com                        1\n",
       "ejemplos.co                                        1\n",
       "id.pinterest.com                                   1\n",
       "facebook.com                                       1\n",
       "news-culturacolectiva-com.cdn.ampproject.org       1\n",
       "transparentbusiness.com                            1\n",
       "duckduckgo                                         1\n",
       "Name: traffic_source, dtype: int64"
      ]
     },
     "execution_count": 129,
     "metadata": {
      "tags": []
     },
     "output_type": "execute_result"
    }
   ],
   "source": [
    "df2['traffic_source'].value_counts()"
   ]
  },
  {
   "cell_type": "code",
   "execution_count": 130,
   "metadata": {
    "colab": {
     "base_uri": "https://localhost:8080/"
    },
    "executionInfo": {
     "elapsed": 383,
     "status": "ok",
     "timestamp": 1628406038210,
     "user": {
      "displayName": "Kuber Shahi",
      "photoUrl": "",
      "userId": "04157404054756166055"
     },
     "user_tz": -345
    },
    "id": "C2TjuRjI6kPf",
    "outputId": "210cfc73-08b2-4bf0-8060-e2a0e6e997ab"
   },
   "outputs": [
    {
     "name": "stdout",
     "output_type": "stream",
     "text": [
      "(145, 3)\n",
      "12663667\n"
     ]
    }
   ],
   "source": [
    "cat_friem = df2[df2['traffic_source'].isin(['freim.tv'])]\n",
    "print(cat_friem.shape)\n",
    "print(sum(cat_friem['total_session_duration']))"
   ]
  },
  {
   "cell_type": "code",
   "execution_count": 131,
   "metadata": {
    "colab": {
     "base_uri": "https://localhost:8080/"
    },
    "executionInfo": {
     "elapsed": 436,
     "status": "ok",
     "timestamp": 1628406048380,
     "user": {
      "displayName": "Kuber Shahi",
      "photoUrl": "",
      "userId": "04157404054756166055"
     },
     "user_tz": -345
    },
    "id": "RjDzzxFA8_BE",
    "outputId": "6cb26f8b-2417-4e5e-d373-fed67ec8e186"
   },
   "outputs": [
    {
     "name": "stdout",
     "output_type": "stream",
     "text": [
      "(280, 3)\n",
      "30335473\n"
     ]
    }
   ],
   "source": [
    "cat_cult = df2[df2['traffic_source'].isin(['culturacolectiva.com','culturacolectiva-com.cdn.ampproject.org', 'Cultura Colectiva' ])]\n",
    "print(cat_cult.shape)\n",
    "print(sum(cat_cult['total_session_duration']))"
   ]
  },
  {
   "cell_type": "code",
   "execution_count": 132,
   "metadata": {
    "colab": {
     "base_uri": "https://localhost:8080/"
    },
    "executionInfo": {
     "elapsed": 397,
     "status": "ok",
     "timestamp": 1628406050653,
     "user": {
      "displayName": "Kuber Shahi",
      "photoUrl": "",
      "userId": "04157404054756166055"
     },
     "user_tz": -345
    },
    "id": "UAmSW5L-8_lR",
    "outputId": "72af4c98-c668-4ae3-fedf-fdf8f3085d71"
   },
   "outputs": [
    {
     "name": "stdout",
     "output_type": "stream",
     "text": [
      "(184, 3)\n",
      "57543840\n"
     ]
    }
   ],
   "source": [
    "cat_news_cult = df2[df2['traffic_source'].isin(['news-culturacolectiva-com.cdn.ampproject.org','news.culturacolectiva.com'])]\n",
    "print(cat_news_cult.shape)\n",
    "print(sum(cat_news_cult['total_session_duration']))"
   ]
  },
  {
   "cell_type": "markdown",
   "metadata": {
    "id": "_xclNOd_95qx"
   },
   "source": [
    "#### Ans: News.culturalcolective.com has the longer sessions among the three partner sites"
   ]
  },
  {
   "cell_type": "markdown",
   "metadata": {
    "id": "D9QX0DfXl3KW"
   },
   "source": [
    "## Q3. What combination of traffic source, browser language, browser, and mobile brand yields users with the longest sessions? What combination yields users with more page views?"
   ]
  },
  {
   "cell_type": "code",
   "execution_count": 134,
   "metadata": {
    "colab": {
     "base_uri": "https://localhost:8080/"
    },
    "executionInfo": {
     "elapsed": 373,
     "status": "ok",
     "timestamp": 1628406108313,
     "user": {
      "displayName": "Kuber Shahi",
      "photoUrl": "",
      "userId": "04157404054756166055"
     },
     "user_tz": -345
    },
    "id": "gnSsRVu3mhW1",
    "outputId": "10df62a1-d10b-48dd-d778-5ab4eaed65d9"
   },
   "outputs": [
    {
     "name": "stdout",
     "output_type": "stream",
     "text": [
      "(3764, 7)\n"
     ]
    }
   ],
   "source": [
    "# we already have traffic_source, browser, mobile brand, total session duration, total page views in user_data\n",
    "# Let's create a new dataframe df3 with empyty column br_language which we need to fill from snowplow_data\n",
    "\n",
    "df3 = users_data.filter(['user_id','traffic_source', 'browser','mobile_brand','total_session_duration', 'total_page_views'],axis=1)\n",
    "df3['br_lang']= \"\"\n",
    "print(df3.shape)"
   ]
  },
  {
   "cell_type": "code",
   "execution_count": 136,
   "metadata": {
    "colab": {
     "base_uri": "https://localhost:8080/"
    },
    "executionInfo": {
     "elapsed": 3460,
     "status": "ok",
     "timestamp": 1628406156704,
     "user": {
      "displayName": "Kuber Shahi",
      "photoUrl": "",
      "userId": "04157404054756166055"
     },
     "user_tz": -345
    },
    "id": "jYvF4TDj0aDt",
    "outputId": "37ad23af-bcc1-4621-9bff-9d7f220c77fd"
   },
   "outputs": [
    {
     "data": {
      "text/plain": [
       "          2730\n",
       "es-ES      544\n",
       "en-US      353\n",
       "de-DE       66\n",
       "ko          38\n",
       "es-mx       15\n",
       "es-MX       13\n",
       "es           2\n",
       "es-AR        1\n",
       "es-419       1\n",
       "es-US        1\n",
       "Name: br_lang, dtype: int64"
      ]
     },
     "execution_count": 136,
     "metadata": {
      "tags": []
     },
     "output_type": "execute_result"
    }
   ],
   "source": [
    "# for each user_id get the browser language from snowplot_data and put it into the br_lang column in df3\n",
    "# It was confirmed that almost all the users browse the sites in a single language\n",
    "\n",
    "for i in range(len(users_id)):\n",
    "  temp_array = snowplow_data[snowplow_data['user_id']==users_id[i]]['br_lang'].value_counts().index.tolist()\n",
    "  if temp_array:\n",
    "    lang = temp_array[0]\n",
    "  else:\n",
    "    lang = \"\"\n",
    "  df3.loc[df3['user_id'].isin([users_id[i]]), 'br_lang'] = str(lang)\n",
    "\n",
    "df3['br_lang'].value_counts()"
   ]
  },
  {
   "cell_type": "markdown",
   "metadata": {
    "id": "gqcEJ6x62q3J"
   },
   "source": [
    "For 70 % of the data in user_data, there was no br_lang found in snowplow_data. Hence, for such data an empty string was put in df3."
   ]
  },
  {
   "cell_type": "code",
   "execution_count": 137,
   "metadata": {
    "colab": {
     "base_uri": "https://localhost:8080/",
     "height": 206
    },
    "executionInfo": {
     "elapsed": 355,
     "status": "ok",
     "timestamp": 1628406161242,
     "user": {
      "displayName": "Kuber Shahi",
      "photoUrl": "",
      "userId": "04157404054756166055"
     },
     "user_tz": -345
    },
    "id": "FYZi9dJe3ZQm",
    "outputId": "f73ba35e-db43-4994-8bf7-cb60e7a5c056"
   },
   "outputs": [
    {
     "data": {
      "text/html": [
       "<div>\n",
       "<style scoped>\n",
       "    .dataframe tbody tr th:only-of-type {\n",
       "        vertical-align: middle;\n",
       "    }\n",
       "\n",
       "    .dataframe tbody tr th {\n",
       "        vertical-align: top;\n",
       "    }\n",
       "\n",
       "    .dataframe thead th {\n",
       "        text-align: right;\n",
       "    }\n",
       "</style>\n",
       "<table border=\"1\" class=\"dataframe\">\n",
       "  <thead>\n",
       "    <tr style=\"text-align: right;\">\n",
       "      <th></th>\n",
       "      <th>user_id</th>\n",
       "      <th>traffic_source</th>\n",
       "      <th>browser</th>\n",
       "      <th>mobile_brand</th>\n",
       "      <th>total_session_duration</th>\n",
       "      <th>total_page_views</th>\n",
       "      <th>br_lang</th>\n",
       "    </tr>\n",
       "  </thead>\n",
       "  <tbody>\n",
       "    <tr>\n",
       "      <th>0</th>\n",
       "      <td>e3eabd43-23f3-4781-90ee-5a67e781e7e2</td>\n",
       "      <td>(direct)</td>\n",
       "      <td>Chrome</td>\n",
       "      <td>Google</td>\n",
       "      <td>2019</td>\n",
       "      <td>4</td>\n",
       "      <td></td>\n",
       "    </tr>\n",
       "    <tr>\n",
       "      <th>1</th>\n",
       "      <td>e4ccc0ac-71b1-4d7c-b697-f9f76f1084d0</td>\n",
       "      <td>m.facebook.com</td>\n",
       "      <td>Chrome</td>\n",
       "      <td>Samsung</td>\n",
       "      <td>467</td>\n",
       "      <td>4</td>\n",
       "      <td></td>\n",
       "    </tr>\n",
       "    <tr>\n",
       "      <th>2</th>\n",
       "      <td>815ef036-f1ee-486e-85a2-facf11df24a1</td>\n",
       "      <td>google</td>\n",
       "      <td>Chrome</td>\n",
       "      <td>Xiaomi</td>\n",
       "      <td>540</td>\n",
       "      <td>2</td>\n",
       "      <td></td>\n",
       "    </tr>\n",
       "    <tr>\n",
       "      <th>3</th>\n",
       "      <td>c86127fb-bc84-488a-b961-2abc5213f6fd</td>\n",
       "      <td>m.facebook.com</td>\n",
       "      <td>Android Webview</td>\n",
       "      <td>Samsung</td>\n",
       "      <td>161</td>\n",
       "      <td>2</td>\n",
       "      <td></td>\n",
       "    </tr>\n",
       "    <tr>\n",
       "      <th>4</th>\n",
       "      <td>1c101e61-f3cc-4d77-8803-e27aa80f2a59</td>\n",
       "      <td>tegger.io</td>\n",
       "      <td>Chrome</td>\n",
       "      <td>Google</td>\n",
       "      <td>81</td>\n",
       "      <td>3</td>\n",
       "      <td>en-US</td>\n",
       "    </tr>\n",
       "  </tbody>\n",
       "</table>\n",
       "</div>"
      ],
      "text/plain": [
       "                                user_id  ... br_lang\n",
       "0  e3eabd43-23f3-4781-90ee-5a67e781e7e2  ...        \n",
       "1  e4ccc0ac-71b1-4d7c-b697-f9f76f1084d0  ...        \n",
       "2  815ef036-f1ee-486e-85a2-facf11df24a1  ...        \n",
       "3  c86127fb-bc84-488a-b961-2abc5213f6fd  ...        \n",
       "4  1c101e61-f3cc-4d77-8803-e27aa80f2a59  ...   en-US\n",
       "\n",
       "[5 rows x 7 columns]"
      ]
     },
     "execution_count": 137,
     "metadata": {
      "tags": []
     },
     "output_type": "execute_result"
    }
   ],
   "source": [
    "df3.head(5)"
   ]
  },
  {
   "cell_type": "code",
   "execution_count": 139,
   "metadata": {
    "colab": {
     "base_uri": "https://localhost:8080/"
    },
    "executionInfo": {
     "elapsed": 365,
     "status": "ok",
     "timestamp": 1628406186880,
     "user": {
      "displayName": "Kuber Shahi",
      "photoUrl": "",
      "userId": "04157404054756166055"
     },
     "user_tz": -345
    },
    "id": "jT6fzlUy0aQX",
    "outputId": "60c589ae-bf2a-4cbb-e4a6-bbd02d10e466"
   },
   "outputs": [
    {
     "name": "stdout",
     "output_type": "stream",
     "text": [
      "Num of Traffic Source: 42 \n",
      "Num of Browser: 11 \n",
      "Num of Mobile brands: 31\n",
      "Num of Browser Languages: 11\n"
     ]
    }
   ],
   "source": [
    "traffic_cat = df3['traffic_source'].value_counts().index.to_list()\n",
    "print(\"Num of Traffic Source: %d \" % (len(traffic_cat)))\n",
    "browser_cat = df3['browser'].value_counts().index.to_list()\n",
    "print(\"Num of Browser: %d \" % (len(browser_cat)))\n",
    "mobile_cat = df3['mobile_brand'].value_counts().index.to_list()\n",
    "print(\"Num of Mobile brands: %d\" % (len(mobile_cat)))\n",
    "browser_lang_cat = df3['br_lang'].value_counts().index.tolist()\n",
    "print(\"Num of Browser Languages: %d\" % (len(browser_lang_cat)))"
   ]
  },
  {
   "cell_type": "markdown",
   "metadata": {
    "id": "rwArIu0LMKAp"
   },
   "source": [
    "So there are 157542 possible combinations."
   ]
  },
  {
   "cell_type": "code",
   "execution_count": 140,
   "metadata": {
    "colab": {
     "base_uri": "https://localhost:8080/"
    },
    "executionInfo": {
     "elapsed": 422,
     "status": "ok",
     "timestamp": 1628406212528,
     "user": {
      "displayName": "Kuber Shahi",
      "photoUrl": "",
      "userId": "04157404054756166055"
     },
     "user_tz": -345
    },
    "id": "wIASCQFbl2QE",
    "outputId": "43d5d35b-0c45-47ca-f42f-4c78115a5354"
   },
   "outputs": [
    {
     "name": "stdout",
     "output_type": "stream",
     "text": [
      "['tegger.io', '(direct)', 'google', 'culturacolectiva.com', 'news.culturacolectiva.com', 'freim.tv', 'm.facebook.com', 'l.facebook.com', 'bing', 't.co', 'culturacolectiva-com.cdn.ampproject.org', 'Cultura Colectiva', 'pinterest.com', 'hora724.com', 'taboola', 'blog.propsproject.com', 'newsletter', 'lm.facebook.com', 'hu.pinterest.com', 'ampproject.org', 'news-staging.culturacolectiva.com', 'es.search.yahoo.com', 'news.google.com', 'mymoney777.icu', 'msn.com', 'pinterest.ca', 'ecosia.org', 'mx.search.yahoo.com', 'tejidosacrochetpasoapaso.com', 'nattittorres.wixsite.com', 'l.instagram.com', 'yahoo', 'propeller', 'pinterest.com.mx', 'aulavirtualinmaculadaloja.edu.ec', 'markets.businessinsider.com', 'ejemplos.co', 'id.pinterest.com', 'facebook.com', 'news-culturacolectiva-com.cdn.ampproject.org', 'transparentbusiness.com', 'duckduckgo']\n",
      "['Chrome', 'Safari', 'Firefox', 'Edge', 'Opera', 'Samsung Internet', 'Android Webview', 'Puffin', 'YaBrowser', 'Safari (in-app)', 'UC Browser']\n",
      "['Google', 'Apple', 'Samsung', 'Huawei', 'Motorola', 'Xiaomi', 'Microsoft', 'Mozilla', 'Opera Software', 'Sony', 'LG', 'OPPO', 'ZTE', 'Alcatel', 'Hisense', 'Amazon', 'BLU', 'RED', 'Lanix', 'itel', 'Nokia', 'Lenovo', 'VIT', 'Coolpad', 'Altice', 'Tecno', 'RT', 'Infinix', 'AT&T', 'Asus', 'Realme']\n",
      "['', 'es-ES', 'en-US', 'de-DE', 'ko', 'es-mx', 'es-MX', 'es', 'es-AR', 'es-419', 'es-US']\n"
     ]
    }
   ],
   "source": [
    "print(traffic_cat)\n",
    "print(browser_cat)\n",
    "print(mobile_cat)\n",
    "print(browser_lang_cat)"
   ]
  },
  {
   "cell_type": "code",
   "execution_count": null,
   "metadata": {
    "id": "RXiBRm26UrVB"
   },
   "outputs": [],
   "source": [
    "rows_list = []\n",
    "for i in traffic_cat:\n",
    "  for j in browser_cat:\n",
    "    for k in browser_lang_cat:\n",
    "      for l in mobile_cat:\n",
    "        result = df3[(df3['traffic_source']==i) & (df3['browser']==j) & (df3['br_lang']==k) & (df3['mobile_brand']==l)]\n",
    "        if not result.empty:\n",
    "          total_ses = sum(result['total_session_duration'])\n",
    "          total_page = sum(result['total_page_views'])\n",
    "          dict = {}\n",
    "          dict.update({'traffic_source':i, 'browser': j, 'br_lang':k, 'mobile_brand': l ,'total_session_duration':total_ses, 'total_page_views':total_page})\n",
    "          rows_list.append(dict)\n",
    "\n",
    "df3_combination = pd.DataFrame(rows_list)\n"
   ]
  },
  {
   "cell_type": "code",
   "execution_count": null,
   "metadata": {
    "colab": {
     "base_uri": "https://localhost:8080/",
     "height": 381
    },
    "executionInfo": {
     "elapsed": 476,
     "status": "ok",
     "timestamp": 1628272857185,
     "user": {
      "displayName": "Kuber Shahi",
      "photoUrl": "",
      "userId": "04157404054756166055"
     },
     "user_tz": -345
    },
    "id": "-bwodkHXkGEm",
    "outputId": "86fafd40-ffb8-47ef-febe-d16a2b698720"
   },
   "outputs": [
    {
     "name": "stdout",
     "output_type": "stream",
     "text": [
      "(217, 6)\n"
     ]
    },
    {
     "data": {
      "text/html": [
       "<div>\n",
       "<style scoped>\n",
       "    .dataframe tbody tr th:only-of-type {\n",
       "        vertical-align: middle;\n",
       "    }\n",
       "\n",
       "    .dataframe tbody tr th {\n",
       "        vertical-align: top;\n",
       "    }\n",
       "\n",
       "    .dataframe thead th {\n",
       "        text-align: right;\n",
       "    }\n",
       "</style>\n",
       "<table border=\"1\" class=\"dataframe\">\n",
       "  <thead>\n",
       "    <tr style=\"text-align: right;\">\n",
       "      <th></th>\n",
       "      <th>traffic_source</th>\n",
       "      <th>browser</th>\n",
       "      <th>br_lang</th>\n",
       "      <th>mobile_brand</th>\n",
       "      <th>total_session_duration</th>\n",
       "      <th>total_page_views</th>\n",
       "    </tr>\n",
       "  </thead>\n",
       "  <tbody>\n",
       "    <tr>\n",
       "      <th>0</th>\n",
       "      <td>tegger.io</td>\n",
       "      <td>Chrome</td>\n",
       "      <td></td>\n",
       "      <td>Google</td>\n",
       "      <td>44144569</td>\n",
       "      <td>385096</td>\n",
       "    </tr>\n",
       "    <tr>\n",
       "      <th>1</th>\n",
       "      <td>tegger.io</td>\n",
       "      <td>Chrome</td>\n",
       "      <td></td>\n",
       "      <td>Apple</td>\n",
       "      <td>205306</td>\n",
       "      <td>13689</td>\n",
       "    </tr>\n",
       "    <tr>\n",
       "      <th>2</th>\n",
       "      <td>tegger.io</td>\n",
       "      <td>Chrome</td>\n",
       "      <td></td>\n",
       "      <td>Samsung</td>\n",
       "      <td>62461943</td>\n",
       "      <td>23182122</td>\n",
       "    </tr>\n",
       "    <tr>\n",
       "      <th>3</th>\n",
       "      <td>tegger.io</td>\n",
       "      <td>Chrome</td>\n",
       "      <td></td>\n",
       "      <td>Huawei</td>\n",
       "      <td>1070659</td>\n",
       "      <td>28858</td>\n",
       "    </tr>\n",
       "    <tr>\n",
       "      <th>4</th>\n",
       "      <td>tegger.io</td>\n",
       "      <td>Chrome</td>\n",
       "      <td></td>\n",
       "      <td>Motorola</td>\n",
       "      <td>5555936</td>\n",
       "      <td>17122</td>\n",
       "    </tr>\n",
       "    <tr>\n",
       "      <th>5</th>\n",
       "      <td>tegger.io</td>\n",
       "      <td>Chrome</td>\n",
       "      <td></td>\n",
       "      <td>Xiaomi</td>\n",
       "      <td>1390944</td>\n",
       "      <td>33515</td>\n",
       "    </tr>\n",
       "    <tr>\n",
       "      <th>6</th>\n",
       "      <td>tegger.io</td>\n",
       "      <td>Chrome</td>\n",
       "      <td></td>\n",
       "      <td>LG</td>\n",
       "      <td>55404</td>\n",
       "      <td>328</td>\n",
       "    </tr>\n",
       "    <tr>\n",
       "      <th>7</th>\n",
       "      <td>tegger.io</td>\n",
       "      <td>Chrome</td>\n",
       "      <td></td>\n",
       "      <td>OPPO</td>\n",
       "      <td>13524</td>\n",
       "      <td>90</td>\n",
       "    </tr>\n",
       "    <tr>\n",
       "      <th>8</th>\n",
       "      <td>tegger.io</td>\n",
       "      <td>Chrome</td>\n",
       "      <td></td>\n",
       "      <td>ZTE</td>\n",
       "      <td>90970</td>\n",
       "      <td>603</td>\n",
       "    </tr>\n",
       "    <tr>\n",
       "      <th>9</th>\n",
       "      <td>tegger.io</td>\n",
       "      <td>Chrome</td>\n",
       "      <td></td>\n",
       "      <td>Hisense</td>\n",
       "      <td>143441</td>\n",
       "      <td>1607</td>\n",
       "    </tr>\n",
       "  </tbody>\n",
       "</table>\n",
       "</div>"
      ],
      "text/plain": [
       "  traffic_source browser  ... total_session_duration total_page_views\n",
       "0      tegger.io  Chrome  ...               44144569           385096\n",
       "1      tegger.io  Chrome  ...                 205306            13689\n",
       "2      tegger.io  Chrome  ...               62461943         23182122\n",
       "3      tegger.io  Chrome  ...                1070659            28858\n",
       "4      tegger.io  Chrome  ...                5555936            17122\n",
       "5      tegger.io  Chrome  ...                1390944            33515\n",
       "6      tegger.io  Chrome  ...                  55404              328\n",
       "7      tegger.io  Chrome  ...                  13524               90\n",
       "8      tegger.io  Chrome  ...                  90970              603\n",
       "9      tegger.io  Chrome  ...                 143441             1607\n",
       "\n",
       "[10 rows x 6 columns]"
      ]
     },
     "execution_count": 124,
     "metadata": {
      "tags": []
     },
     "output_type": "execute_result"
    }
   ],
   "source": [
    "print(df3_combination.shape)\n",
    "df3_combination.head(10)"
   ]
  },
  {
   "cell_type": "code",
   "execution_count": null,
   "metadata": {
    "colab": {
     "base_uri": "https://localhost:8080/",
     "height": 81
    },
    "executionInfo": {
     "elapsed": 483,
     "status": "ok",
     "timestamp": 1628272862553,
     "user": {
      "displayName": "Kuber Shahi",
      "photoUrl": "",
      "userId": "04157404054756166055"
     },
     "user_tz": -345
    },
    "id": "meBtBL7je1Q-",
    "outputId": "16099af5-f42c-4100-cf1a-17943b0b13ca"
   },
   "outputs": [
    {
     "data": {
      "text/html": [
       "<div>\n",
       "<style scoped>\n",
       "    .dataframe tbody tr th:only-of-type {\n",
       "        vertical-align: middle;\n",
       "    }\n",
       "\n",
       "    .dataframe tbody tr th {\n",
       "        vertical-align: top;\n",
       "    }\n",
       "\n",
       "    .dataframe thead th {\n",
       "        text-align: right;\n",
       "    }\n",
       "</style>\n",
       "<table border=\"1\" class=\"dataframe\">\n",
       "  <thead>\n",
       "    <tr style=\"text-align: right;\">\n",
       "      <th></th>\n",
       "      <th>traffic_source</th>\n",
       "      <th>browser</th>\n",
       "      <th>br_lang</th>\n",
       "      <th>mobile_brand</th>\n",
       "      <th>total_session_duration</th>\n",
       "      <th>total_page_views</th>\n",
       "    </tr>\n",
       "  </thead>\n",
       "  <tbody>\n",
       "    <tr>\n",
       "      <th>2</th>\n",
       "      <td>tegger.io</td>\n",
       "      <td>Chrome</td>\n",
       "      <td></td>\n",
       "      <td>Samsung</td>\n",
       "      <td>62461943</td>\n",
       "      <td>23182122</td>\n",
       "    </tr>\n",
       "  </tbody>\n",
       "</table>\n",
       "</div>"
      ],
      "text/plain": [
       "  traffic_source browser  ... total_session_duration total_page_views\n",
       "2      tegger.io  Chrome  ...               62461943         23182122\n",
       "\n",
       "[1 rows x 6 columns]"
      ]
     },
     "execution_count": 125,
     "metadata": {
      "tags": []
     },
     "output_type": "execute_result"
    }
   ],
   "source": [
    "df3_combination[df3_combination['total_session_duration']==df3_combination['total_session_duration'].max()]"
   ]
  },
  {
   "cell_type": "markdown",
   "metadata": {
    "id": "TP0pTbKqk_SJ"
   },
   "source": [
    "Combination of traffic source, browser language, browser, and mobile brand that has longest total session time shown above."
   ]
  },
  {
   "cell_type": "code",
   "execution_count": null,
   "metadata": {
    "colab": {
     "base_uri": "https://localhost:8080/",
     "height": 81
    },
    "executionInfo": {
     "elapsed": 680,
     "status": "ok",
     "timestamp": 1628272865946,
     "user": {
      "displayName": "Kuber Shahi",
      "photoUrl": "",
      "userId": "04157404054756166055"
     },
     "user_tz": -345
    },
    "id": "nxOXK8pje1Ze",
    "outputId": "722285e1-cf5c-4c12-e510-2200bd90e7b2"
   },
   "outputs": [
    {
     "data": {
      "text/html": [
       "<div>\n",
       "<style scoped>\n",
       "    .dataframe tbody tr th:only-of-type {\n",
       "        vertical-align: middle;\n",
       "    }\n",
       "\n",
       "    .dataframe tbody tr th {\n",
       "        vertical-align: top;\n",
       "    }\n",
       "\n",
       "    .dataframe thead th {\n",
       "        text-align: right;\n",
       "    }\n",
       "</style>\n",
       "<table border=\"1\" class=\"dataframe\">\n",
       "  <thead>\n",
       "    <tr style=\"text-align: right;\">\n",
       "      <th></th>\n",
       "      <th>traffic_source</th>\n",
       "      <th>browser</th>\n",
       "      <th>br_lang</th>\n",
       "      <th>mobile_brand</th>\n",
       "      <th>total_session_duration</th>\n",
       "      <th>total_page_views</th>\n",
       "    </tr>\n",
       "  </thead>\n",
       "  <tbody>\n",
       "    <tr>\n",
       "      <th>2</th>\n",
       "      <td>tegger.io</td>\n",
       "      <td>Chrome</td>\n",
       "      <td></td>\n",
       "      <td>Samsung</td>\n",
       "      <td>62461943</td>\n",
       "      <td>23182122</td>\n",
       "    </tr>\n",
       "  </tbody>\n",
       "</table>\n",
       "</div>"
      ],
      "text/plain": [
       "  traffic_source browser  ... total_session_duration total_page_views\n",
       "2      tegger.io  Chrome  ...               62461943         23182122\n",
       "\n",
       "[1 rows x 6 columns]"
      ]
     },
     "execution_count": 126,
     "metadata": {
      "tags": []
     },
     "output_type": "execute_result"
    }
   ],
   "source": [
    "df3_combination[df3_combination['total_page_views']==df3_combination['total_page_views'].max()]"
   ]
  },
  {
   "cell_type": "markdown",
   "metadata": {
    "id": "0-D0fEAXln0Y"
   },
   "source": [
    "Combination of traffic source, browser language, browser, and mobile brand that has most page views shown above."
   ]
  },
  {
   "cell_type": "code",
   "execution_count": null,
   "metadata": {
    "id": "pyIwB7-qjA_F"
   },
   "outputs": [],
   "source": []
  }
 ],
 "metadata": {
  "colab": {
   "authorship_tag": "ABX9TyNVPG0Yx0OrskgxQGv7bL+Y",
   "collapsed_sections": [],
   "name": "Tegger Test.ipynb",
   "provenance": []
  },
  "kernelspec": {
   "display_name": "Python 3 (ipykernel)",
   "language": "python",
   "name": "python3"
  },
  "language_info": {
   "codemirror_mode": {
    "name": "ipython",
    "version": 3
   },
   "file_extension": ".py",
   "mimetype": "text/x-python",
   "name": "python",
   "nbconvert_exporter": "python",
   "pygments_lexer": "ipython3",
   "version": "3.9.10"
  }
 },
 "nbformat": 4,
 "nbformat_minor": 1
}
