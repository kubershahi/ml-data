{
 "cells": [
  {
   "cell_type": "markdown",
   "metadata": {},
   "source": [
    "# Nootropics - Which Smart Drugs Help Us ?\n",
    "\n",
    "Nootropics (/noʊ.əˈtrɒpɪks/ noh-ə-TROP-iks) (colloquial: smart drugs and cognitive enhancers) are drugs, supplements, and other substances that are claimed to improve cognitive function, particularly executive functions, memory, creativity, or motivation, in healthy individuals.[1] While many substances are purported to improve cognition, research is at a preliminary stage as of 2021, and the effects of the majority of these agents are not fully determined. In this analysis we gonna study them in detail.The term \"nootropic\" is derived from the Ancient Greek words νόος (nóos) meaning \"mind\" and τροπή (tropḗ) meaning \"a turning\"."
   ]
  },
  {
   "cell_type": "code",
   "execution_count": null,
   "metadata": {
    "execution": {
     "iopub.execute_input": "2021-06-17T04:44:13.18444Z",
     "iopub.status.busy": "2021-06-17T04:44:13.184033Z",
     "iopub.status.idle": "2021-06-17T04:44:14.339172Z",
     "shell.execute_reply": "2021-06-17T04:44:14.338376Z",
     "shell.execute_reply.started": "2021-06-17T04:44:13.184405Z"
    }
   },
   "outputs": [],
   "source": [
    "# This Python 3 environment comes with many helpful analytics libraries installed\n",
    "# It is defined by the kaggle/python Docker image: https://github.com/kaggle/docker-python\n",
    "# For example, here's several helpful packages to load\n",
    "\n",
    "\n",
    "import plotly.express as px\n",
    "import plotly.graph_objects as go\n",
    "import numpy as np\n",
    "import pandas as pd\n",
    "import seaborn as sns\n",
    "import matplotlib.pyplot as plt\n",
    "\n",
    "\n",
    "# Input data files are available in the read-only \"../input/\" directory\n",
    "# For example, running this (by clicking run or pressing Shift+Enter) will list all files under the input directory\n",
    "\n",
    "import os\n",
    "for dirname, _, filenames in os.walk('/kaggle/input'):\n",
    "    for filename in filenames:\n",
    "        print(os.path.join(dirname, filename))\n",
    "\n",
    "# You can write up to 20GB to the current directory (/kaggle/working/) that gets preserved as output when you create a version using \"Save & Run All\" \n",
    "# You can also write temporary files to /kaggle/temp/, but they won't be saved outside of the current session\n",
    "#including modules\n",
    "\n",
    "\n",
    "\n",
    "#get data\n",
    "data = pd.read_csv('../input/nootropics-clean/Nootropics.csv')\n",
    "\n",
    "#correlate data\n",
    "corr = data.corr()\n",
    "\n",
    "#using matplotlib to define the size\n",
    "\n",
    "plt.figure(figsize=(8, 8))\n",
    "\n",
    "#creating the heatmap with seaborn\n",
    "ax = sns.heatmap(\n",
    "    corr, \n",
    "    vmin=-1, vmax=1, center=0,\n",
    "    cmap=sns.diverging_palette(20, 220, n=200),\n",
    "    square=True\n",
    ")\n",
    "ax.set_xticklabels(\n",
    "    ax.get_xticklabels(),\n",
    "    rotation=45,\n",
    "    horizontalalignment='right'\n",
    ");\n",
    "\n",
    "# 3-D Graph - Sleep,Mood,Memory,Libido,Lifting\n",
    "\n",
    "start, end = 0, 100\n",
    "\n",
    "fig = go.Figure(data=go.Scatter3d(\n",
    "    x=data['SLEEP'][start:end],\n",
    "    y=data['MOOD'][start:end],\n",
    "    z=data['MEMORY'][start:end],\n",
    "    text=data['Substance'][start:end],\n",
    "    mode='markers',\n",
    "    marker=dict(\n",
    "        sizemode='diameter',\n",
    "        sizeref=1,\n",
    "        size=data['LIFTING'][start:end],\n",
    "        color = data['LIBIDO'][start:end],\n",
    "        colorscale = 'Viridis',\n",
    "        colorbar_title = 'LIBIDO<br>',\n",
    "        line_color='rgb(140, 140, 170)'\n",
    "    )\n",
    "))\n",
    "\n",
    "\n",
    "\n",
    "\n",
    "\n",
    "\n",
    "\n",
    "\n",
    "fig.update_layout(height=600, width=600,\n",
    "                  title='3-D Graph - X-Sleep,Y-Mood,Z-Memory,Size-Lifting,Color-Libido')\n",
    "\n",
    "\n",
    "\n",
    "\n",
    "\n",
    "\n",
    "fig.show()\n",
    "\n",
    "# 3-D Graph - FOCUS\tCREATIVITY\tCONFIDENCE\tLIFTING\tLEARNING\n",
    "\n",
    "start, end = 0, 100\n",
    "\n",
    "fig = go.Figure(data=go.Scatter3d(\n",
    "    x=data['SOCIAL'][start:end],\n",
    "    y=data['CREATIVITY'][start:end],\n",
    "    z=data['FOCUS'][start:end],\n",
    "    text=data['Substance'][start:end],\n",
    "    mode='markers',\n",
    "    marker=dict(\n",
    "        sizemode='diameter',\n",
    "        sizeref=1,\n",
    "        size=data['LIFTING'][start:end],\n",
    "        color = data['LEARNING'][start:end],\n",
    "        colorscale = 'Viridis',\n",
    "        colorbar_title = 'LEARNING<br>',\n",
    "        line_color='rgb(140, 140, 170)'\n",
    "    )\n",
    "))\n",
    "\n",
    "\n",
    "\n",
    "\n",
    "\n",
    "\n",
    "\n",
    "\n",
    "fig.update_layout(height=600, width=600,\n",
    "                  title='3-D Graph - X-Social,Y-Creativity,Z-Focus,Size-Lifting,Color-Learning')\n",
    "\n",
    "\n",
    "\n",
    "\n",
    "\n",
    "\n",
    "fig.show()\n",
    "\n",
    "# 3-D Graph - MOTIVATION\tENERGY\tANTI-Aging\t\tALERTNESS\n",
    "\n",
    "start, end = 0, 100\n",
    "\n",
    "fig = go.Figure(data=go.Scatter3d(\n",
    "    x=data['MOTIVATION'][start:end],\n",
    "    y=data['ENERGY'][start:end],\n",
    "    z=data['ANTI-AGING'][start:end],\n",
    "    text=data['Substance'][start:end],\n",
    "    mode='markers',\n",
    "    marker=dict(\n",
    "        sizemode='diameter',\n",
    "        sizeref=1,\n",
    "        size=data['LIFTING'][start:end],\n",
    "        color = data['ALERTNESS'][start:end],\n",
    "        colorscale = 'Viridis',\n",
    "        colorbar_title = 'ALERTNESS<br>',\n",
    "        line_color='rgb(140, 140, 170)'\n",
    "    )\n",
    "))\n",
    "\n",
    "\n",
    "\n",
    "\n",
    "\n",
    "\n",
    "\n",
    "\n",
    "fig.update_layout(height=600, width=600,\n",
    "                  title='3-D Graph - X-MOTIVATION,Y-ENERGY,Z-ANTI-AGING,Size-Lifting,Color-Alertnes')\n",
    "\n",
    "\n",
    "\n",
    "\n",
    "\n",
    "\n",
    "fig.show()\n",
    "\n",
    "# 3-D Graph - MOTIVATION\tENERGY\tANTI-STRESS\t\tANTI-AGING\n",
    "\n",
    "start, end = 0, 100\n",
    "\n",
    "fig = go.Figure(data=go.Scatter3d(\n",
    "    x=data['MOTIVATION'][start:end],\n",
    "    y=data['ENERGY'][start:end],\n",
    "    z=data['ANTI-AGING'][start:end],\n",
    "    text=data['Substance'][start:end],\n",
    "    mode='markers',\n",
    "    marker=dict(\n",
    "        sizemode='diameter',\n",
    "        sizeref=1,\n",
    "        size=data['LIFTING'][start:end],\n",
    "        color = data['ANTI-STRESS'][start:end],\n",
    "        colorscale = 'Viridis',\n",
    "        colorbar_title = 'ANTI-Stress<br>',\n",
    "        line_color='rgb(140, 140, 170)'\n",
    "    )\n",
    "))\n",
    "\n",
    "\n",
    "\n",
    "\n",
    "\n",
    "\n",
    "\n",
    "\n",
    "fig.update_layout(height=600, width=600,\n",
    "                  title='3-D Graph - X-MOTIVATION,Y-ENERGY,Z-ANTI-AGING,Size-Lifting,Color-ANTI-Stress')\n",
    "\n",
    "\n",
    "\n",
    "\n",
    "\n",
    "\n",
    "fig.show()\n",
    "\n",
    "# Show Data\n",
    "\n",
    "data.describe()\n",
    "\n",
    "# Contrasting heatmap with seaborn\n",
    "\n",
    "sns.set_theme(style=\"dark\")\n",
    "\n",
    "\n",
    "# Compute the correlation matrix\n",
    "corr = data.corr()\n",
    "\n",
    "# Generate a mask for the upper triangle\n",
    "mask = np.triu(np.ones_like(corr, dtype=bool))\n",
    "\n",
    "# Set up the matplotlib figure\n",
    "f, ax = plt.subplots(figsize=(8, 8))\n",
    "\n",
    "# Generate a custom diverging colormap\n",
    "cmap = sns.diverging_palette(230, 20, as_cmap=True)\n",
    "\n",
    "# Draw the heatmap with the mask and correct aspect ratio\n",
    "sns.heatmap(corr, mask=mask, cmap=cmap, vmin=-0.1, vmax=0.1, center=0,\n",
    "            square=True, linewidths=.5, cbar_kws={\"shrink\": .5})\n",
    "\n"
   ]
  },
  {
   "cell_type": "code",
   "execution_count": null,
   "metadata": {
    "execution": {
     "iopub.execute_input": "2021-06-17T04:44:14.340918Z",
     "iopub.status.busy": "2021-06-17T04:44:14.340511Z",
     "iopub.status.idle": "2021-06-17T04:44:14.356522Z",
     "shell.execute_reply": "2021-06-17T04:44:14.355423Z",
     "shell.execute_reply.started": "2021-06-17T04:44:14.340889Z"
    }
   },
   "outputs": [],
   "source": [
    "data.info()"
   ]
  },
  {
   "cell_type": "markdown",
   "metadata": {},
   "source": [
    "# Top 10:"
   ]
  },
  {
   "cell_type": "markdown",
   "metadata": {},
   "source": [
    "# SLEEP"
   ]
  },
  {
   "cell_type": "code",
   "execution_count": null,
   "metadata": {
    "execution": {
     "iopub.execute_input": "2021-06-17T04:44:14.358505Z",
     "iopub.status.busy": "2021-06-17T04:44:14.358052Z",
     "iopub.status.idle": "2021-06-17T04:44:14.387212Z",
     "shell.execute_reply": "2021-06-17T04:44:14.386205Z",
     "shell.execute_reply.started": "2021-06-17T04:44:14.358446Z"
    }
   },
   "outputs": [],
   "source": [
    "data.sort_values(by='SLEEP', ascending=False).head(10)"
   ]
  },
  {
   "cell_type": "markdown",
   "metadata": {},
   "source": [
    "# MOOD"
   ]
  },
  {
   "cell_type": "code",
   "execution_count": null,
   "metadata": {
    "execution": {
     "iopub.execute_input": "2021-06-17T04:44:14.773673Z",
     "iopub.status.busy": "2021-06-17T04:44:14.773081Z",
     "iopub.status.idle": "2021-06-17T04:44:14.796209Z",
     "shell.execute_reply": "2021-06-17T04:44:14.795067Z",
     "shell.execute_reply.started": "2021-06-17T04:44:14.773608Z"
    }
   },
   "outputs": [],
   "source": [
    "data.sort_values(by='MOOD', ascending=False).head(10)"
   ]
  },
  {
   "cell_type": "markdown",
   "metadata": {},
   "source": [
    "# MEMORY"
   ]
  },
  {
   "cell_type": "code",
   "execution_count": null,
   "metadata": {
    "execution": {
     "iopub.execute_input": "2021-06-17T04:44:15.250269Z",
     "iopub.status.busy": "2021-06-17T04:44:15.249882Z",
     "iopub.status.idle": "2021-06-17T04:44:15.272212Z",
     "shell.execute_reply": "2021-06-17T04:44:15.271288Z",
     "shell.execute_reply.started": "2021-06-17T04:44:15.250226Z"
    }
   },
   "outputs": [],
   "source": [
    "data.sort_values(by='MEMORY', ascending=False).head(10)"
   ]
  },
  {
   "cell_type": "markdown",
   "metadata": {},
   "source": [
    "# LIBIDO"
   ]
  },
  {
   "cell_type": "code",
   "execution_count": null,
   "metadata": {
    "execution": {
     "iopub.execute_input": "2021-06-17T04:44:15.852231Z",
     "iopub.status.busy": "2021-06-17T04:44:15.851738Z",
     "iopub.status.idle": "2021-06-17T04:44:15.872185Z",
     "shell.execute_reply": "2021-06-17T04:44:15.871467Z",
     "shell.execute_reply.started": "2021-06-17T04:44:15.852201Z"
    }
   },
   "outputs": [],
   "source": [
    "data.sort_values(by='LIBIDO', ascending=False).head(10)"
   ]
  },
  {
   "cell_type": "markdown",
   "metadata": {},
   "source": [
    "# LIFTING"
   ]
  },
  {
   "cell_type": "code",
   "execution_count": null,
   "metadata": {
    "execution": {
     "iopub.execute_input": "2021-06-17T04:44:16.295174Z",
     "iopub.status.busy": "2021-06-17T04:44:16.29457Z",
     "iopub.status.idle": "2021-06-17T04:44:16.315611Z",
     "shell.execute_reply": "2021-06-17T04:44:16.314868Z",
     "shell.execute_reply.started": "2021-06-17T04:44:16.295141Z"
    }
   },
   "outputs": [],
   "source": [
    "data.sort_values(by='LIFTING', ascending=False).head(10)"
   ]
  },
  {
   "cell_type": "markdown",
   "metadata": {},
   "source": [
    "# FOCUS"
   ]
  },
  {
   "cell_type": "code",
   "execution_count": null,
   "metadata": {
    "execution": {
     "iopub.execute_input": "2021-06-17T04:44:16.968772Z",
     "iopub.status.busy": "2021-06-17T04:44:16.96656Z",
     "iopub.status.idle": "2021-06-17T04:44:16.990507Z",
     "shell.execute_reply": "2021-06-17T04:44:16.989739Z",
     "shell.execute_reply.started": "2021-06-17T04:44:16.968728Z"
    }
   },
   "outputs": [],
   "source": [
    "data.sort_values(by='FOCUS', ascending=False).head(10)"
   ]
  },
  {
   "cell_type": "markdown",
   "metadata": {},
   "source": [
    "# CREATIVITY"
   ]
  },
  {
   "cell_type": "code",
   "execution_count": null,
   "metadata": {
    "execution": {
     "iopub.execute_input": "2021-06-17T04:44:17.298318Z",
     "iopub.status.busy": "2021-06-17T04:44:17.297953Z",
     "iopub.status.idle": "2021-06-17T04:44:17.320297Z",
     "shell.execute_reply": "2021-06-17T04:44:17.319176Z",
     "shell.execute_reply.started": "2021-06-17T04:44:17.298288Z"
    }
   },
   "outputs": [],
   "source": [
    "data.sort_values(by='CREATIVITY', ascending=False).head(10)"
   ]
  },
  {
   "cell_type": "markdown",
   "metadata": {},
   "source": [
    "# CONFIDENCE"
   ]
  },
  {
   "cell_type": "code",
   "execution_count": null,
   "metadata": {
    "execution": {
     "iopub.execute_input": "2021-06-17T04:44:17.940798Z",
     "iopub.status.busy": "2021-06-17T04:44:17.940432Z",
     "iopub.status.idle": "2021-06-17T04:44:17.964754Z",
     "shell.execute_reply": "2021-06-17T04:44:17.963869Z",
     "shell.execute_reply.started": "2021-06-17T04:44:17.940769Z"
    }
   },
   "outputs": [],
   "source": [
    "data.sort_values(by='CONFIDENCE', ascending=False).head(10)"
   ]
  },
  {
   "cell_type": "markdown",
   "metadata": {},
   "source": [
    "# SOCIAL"
   ]
  },
  {
   "cell_type": "code",
   "execution_count": null,
   "metadata": {
    "execution": {
     "iopub.execute_input": "2021-06-17T04:44:18.382102Z",
     "iopub.status.busy": "2021-06-17T04:44:18.381762Z",
     "iopub.status.idle": "2021-06-17T04:44:18.405188Z",
     "shell.execute_reply": "2021-06-17T04:44:18.403933Z",
     "shell.execute_reply.started": "2021-06-17T04:44:18.382073Z"
    }
   },
   "outputs": [],
   "source": [
    "data.sort_values(by='SOCIAL', ascending=False).head(10)"
   ]
  },
  {
   "cell_type": "markdown",
   "metadata": {},
   "source": [
    "# LEARNING"
   ]
  },
  {
   "cell_type": "code",
   "execution_count": null,
   "metadata": {
    "execution": {
     "iopub.execute_input": "2021-06-17T04:44:18.949237Z",
     "iopub.status.busy": "2021-06-17T04:44:18.948879Z",
     "iopub.status.idle": "2021-06-17T04:44:18.972755Z",
     "shell.execute_reply": "2021-06-17T04:44:18.971559Z",
     "shell.execute_reply.started": "2021-06-17T04:44:18.949206Z"
    }
   },
   "outputs": [],
   "source": [
    "data.sort_values(by='LEARNING', ascending=False).head(10)\n",
    "\n"
   ]
  },
  {
   "cell_type": "markdown",
   "metadata": {},
   "source": [
    "# MOTIVATION"
   ]
  },
  {
   "cell_type": "code",
   "execution_count": null,
   "metadata": {
    "execution": {
     "iopub.execute_input": "2021-06-17T04:44:19.387027Z",
     "iopub.status.busy": "2021-06-17T04:44:19.386694Z",
     "iopub.status.idle": "2021-06-17T04:44:19.412086Z",
     "shell.execute_reply": "2021-06-17T04:44:19.410508Z",
     "shell.execute_reply.started": "2021-06-17T04:44:19.387Z"
    }
   },
   "outputs": [],
   "source": [
    "data.sort_values(by='MOTIVATION', ascending=False).head(10)\n"
   ]
  },
  {
   "cell_type": "markdown",
   "metadata": {},
   "source": [
    "# ENERGY"
   ]
  },
  {
   "cell_type": "code",
   "execution_count": null,
   "metadata": {
    "execution": {
     "iopub.execute_input": "2021-06-17T04:44:19.995977Z",
     "iopub.status.busy": "2021-06-17T04:44:19.995594Z",
     "iopub.status.idle": "2021-06-17T04:44:20.018296Z",
     "shell.execute_reply": "2021-06-17T04:44:20.017261Z",
     "shell.execute_reply.started": "2021-06-17T04:44:19.995947Z"
    }
   },
   "outputs": [],
   "source": [
    "data.sort_values(by='ENERGY', ascending=False).head(10)\n"
   ]
  },
  {
   "cell_type": "markdown",
   "metadata": {},
   "source": [
    "# ANTI-STRESS"
   ]
  },
  {
   "cell_type": "code",
   "execution_count": null,
   "metadata": {
    "execution": {
     "iopub.execute_input": "2021-06-17T04:44:20.465182Z",
     "iopub.status.busy": "2021-06-17T04:44:20.464821Z",
     "iopub.status.idle": "2021-06-17T04:44:20.48769Z",
     "shell.execute_reply": "2021-06-17T04:44:20.486664Z",
     "shell.execute_reply.started": "2021-06-17T04:44:20.465154Z"
    }
   },
   "outputs": [],
   "source": [
    "data.sort_values(by='ANTI-STRESS', ascending=False).head(10)\n"
   ]
  },
  {
   "cell_type": "markdown",
   "metadata": {},
   "source": [
    "# ANTI-AGING"
   ]
  },
  {
   "cell_type": "code",
   "execution_count": null,
   "metadata": {
    "execution": {
     "iopub.execute_input": "2021-06-17T04:44:20.980843Z",
     "iopub.status.busy": "2021-06-17T04:44:20.980474Z",
     "iopub.status.idle": "2021-06-17T04:44:21.00489Z",
     "shell.execute_reply": "2021-06-17T04:44:21.00358Z",
     "shell.execute_reply.started": "2021-06-17T04:44:20.980813Z"
    }
   },
   "outputs": [],
   "source": [
    "data.sort_values(by='ANTI-AGING', ascending=False).head(10)\n"
   ]
  },
  {
   "cell_type": "markdown",
   "metadata": {},
   "source": [
    "# ALERTNESS"
   ]
  },
  {
   "cell_type": "code",
   "execution_count": null,
   "metadata": {
    "execution": {
     "iopub.execute_input": "2021-06-17T04:44:21.365887Z",
     "iopub.status.busy": "2021-06-17T04:44:21.365523Z",
     "iopub.status.idle": "2021-06-17T04:44:21.388044Z",
     "shell.execute_reply": "2021-06-17T04:44:21.387117Z",
     "shell.execute_reply.started": "2021-06-17T04:44:21.365858Z"
    }
   },
   "outputs": [],
   "source": [
    "data.sort_values(by='ALERTNESS', ascending=False).head(10)"
   ]
  },
  {
   "cell_type": "markdown",
   "metadata": {},
   "source": [
    "# Pandas Profiling"
   ]
  },
  {
   "cell_type": "code",
   "execution_count": null,
   "metadata": {
    "execution": {
     "iopub.execute_input": "2021-06-17T04:44:21.555011Z",
     "iopub.status.busy": "2021-06-17T04:44:21.554573Z",
     "iopub.status.idle": "2021-06-17T04:45:12.010543Z",
     "shell.execute_reply": "2021-06-17T04:45:12.008515Z",
     "shell.execute_reply.started": "2021-06-17T04:44:21.554959Z"
    }
   },
   "outputs": [],
   "source": [
    "import pandas_profiling\n",
    "report = pandas_profiling.ProfileReport(data)\n",
    "from IPython.display import display\n",
    "display(report)"
   ]
  }
 ],
 "metadata": {
  "kernelspec": {
   "display_name": "Python 3 (ipykernel)",
   "language": "python",
   "name": "python3"
  },
  "language_info": {
   "codemirror_mode": {
    "name": "ipython",
    "version": 3
   },
   "file_extension": ".py",
   "mimetype": "text/x-python",
   "name": "python",
   "nbconvert_exporter": "python",
   "pygments_lexer": "ipython3",
   "version": "3.8.10"
  }
 },
 "nbformat": 4,
 "nbformat_minor": 4
}
